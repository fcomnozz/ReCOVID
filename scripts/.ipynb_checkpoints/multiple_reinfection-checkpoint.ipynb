{
 "cells": [
  {
   "cell_type": "code",
   "execution_count": 1,
   "id": "4285da4d",
   "metadata": {},
   "outputs": [],
   "source": [
    "import pandas as pd\n",
    "pd.options.mode.chained_assignment = None  # default='warn'\n",
    "import numpy as np\n",
    "from datetime import datetime\n",
    "from datetime import timedelta\n",
    "import re\n",
    "import random\n",
    "import math\n",
    "from collections import Counter"
   ]
  },
  {
   "cell_type": "code",
   "execution_count": 2,
   "id": "87f495e8",
   "metadata": {},
   "outputs": [],
   "source": [
    "# loading data\n",
    "codes = pd.read_csv('../results/patients_w_codes.csv')"
   ]
  },
  {
   "cell_type": "code",
   "execution_count": 3,
   "id": "2cdfabc4",
   "metadata": {},
   "outputs": [],
   "source": [
    "# version with dates into strings\n",
    "codes2 = pd.read_csv('../results/patients_w_codes2.csv')"
   ]
  },
  {
   "cell_type": "code",
   "execution_count": 4,
   "id": "2d0de38a",
   "metadata": {},
   "outputs": [],
   "source": [
    "# to use a dict with the dates in the strings\n",
    "def separate_date(df):\n",
    "    df['first_event_date'] = 'NA'\n",
    "    for i in range(len(df)):\n",
    "        x = re.split(']', df['code'][i].replace('[', ''))\n",
    "        df['first_event_date'][i] = x[0]\n",
    "        df['code'][i] = x[1]\n",
    "    return df"
   ]
  },
  {
   "cell_type": "code",
   "execution_count": 5,
   "id": "4618bbf6",
   "metadata": {},
   "outputs": [
    {
     "data": {
      "text/html": [
       "<div>\n",
       "<style scoped>\n",
       "    .dataframe tbody tr th:only-of-type {\n",
       "        vertical-align: middle;\n",
       "    }\n",
       "\n",
       "    .dataframe tbody tr th {\n",
       "        vertical-align: top;\n",
       "    }\n",
       "\n",
       "    .dataframe thead th {\n",
       "        text-align: right;\n",
       "    }\n",
       "</style>\n",
       "<table border=\"1\" class=\"dataframe\">\n",
       "  <thead>\n",
       "    <tr style=\"text-align: right;\">\n",
       "      <th></th>\n",
       "      <th>id</th>\n",
       "      <th>code</th>\n",
       "      <th>first_event_date</th>\n",
       "    </tr>\n",
       "  </thead>\n",
       "  <tbody>\n",
       "    <tr>\n",
       "      <th>0</th>\n",
       "      <td>005cad4958846409</td>\n",
       "      <td>B42A40A2H1F10A15B21B7B12I24I7F6B28B128A4D77B64...</td>\n",
       "      <td>2020-08-14</td>\n",
       "    </tr>\n",
       "    <tr>\n",
       "      <th>1</th>\n",
       "      <td>0065b57e5a9e784f</td>\n",
       "      <td>A37B234F4B4B8B2F2B2F3B4F0G3B2I8G17I215I82B9B23A</td>\n",
       "      <td>2020-03-26</td>\n",
       "    </tr>\n",
       "    <tr>\n",
       "      <th>2</th>\n",
       "      <td>006e5a1bf72e8b73</td>\n",
       "      <td>B56B7B35B11B3B11B10B13B14B8A178I21I123B6B5B6B5...</td>\n",
       "      <td>2020-06-02</td>\n",
       "    </tr>\n",
       "    <tr>\n",
       "      <th>3</th>\n",
       "      <td>009d11a2497f1d47</td>\n",
       "      <td>A334C142J</td>\n",
       "      <td>2020-10-14</td>\n",
       "    </tr>\n",
       "    <tr>\n",
       "      <th>4</th>\n",
       "      <td>00a5cf0620b6adfc</td>\n",
       "      <td>A201J213A</td>\n",
       "      <td>2020-10-26</td>\n",
       "    </tr>\n",
       "    <tr>\n",
       "      <th>...</th>\n",
       "      <td>...</td>\n",
       "      <td>...</td>\n",
       "      <td>...</td>\n",
       "    </tr>\n",
       "    <tr>\n",
       "      <th>3298</th>\n",
       "      <td>ff32e199c9482c20</td>\n",
       "      <td>B196B12B21B6F1B7B1I6B6A15B7B7I70B14B78B7B7B8B5...</td>\n",
       "      <td>2020-05-07</td>\n",
       "    </tr>\n",
       "    <tr>\n",
       "      <th>3299</th>\n",
       "      <td>ff46357762ea097e</td>\n",
       "      <td>B92B99B12B9B6B4B32F6I4B18I232C4A14B17I79D36B3B...</td>\n",
       "      <td>2020-04-20</td>\n",
       "    </tr>\n",
       "    <tr>\n",
       "      <th>3300</th>\n",
       "      <td>ff9318bd975b7050</td>\n",
       "      <td>A16A64B74B14A197I</td>\n",
       "      <td>2020-08-10</td>\n",
       "    </tr>\n",
       "    <tr>\n",
       "      <th>3301</th>\n",
       "      <td>ffabda76a8fbaecd</td>\n",
       "      <td>B24B182A12B13B7B6F1B0I7B1B5B7F1I56B15F218B4F10...</td>\n",
       "      <td>2020-05-05</td>\n",
       "    </tr>\n",
       "    <tr>\n",
       "      <th>3302</th>\n",
       "      <td>ffc2d5ab7d2ad39e</td>\n",
       "      <td>B93A2U271D127I</td>\n",
       "      <td>2020-07-16</td>\n",
       "    </tr>\n",
       "  </tbody>\n",
       "</table>\n",
       "<p>3303 rows × 3 columns</p>\n",
       "</div>"
      ],
      "text/plain": [
       "                    id                                               code  \\\n",
       "0     005cad4958846409  B42A40A2H1F10A15B21B7B12I24I7F6B28B128A4D77B64...   \n",
       "1     0065b57e5a9e784f    A37B234F4B4B8B2F2B2F3B4F0G3B2I8G17I215I82B9B23A   \n",
       "2     006e5a1bf72e8b73  B56B7B35B11B3B11B10B13B14B8A178I21I123B6B5B6B5...   \n",
       "3     009d11a2497f1d47                                          A334C142J   \n",
       "4     00a5cf0620b6adfc                                          A201J213A   \n",
       "...                ...                                                ...   \n",
       "3298  ff32e199c9482c20  B196B12B21B6F1B7B1I6B6A15B7B7I70B14B78B7B7B8B5...   \n",
       "3299  ff46357762ea097e  B92B99B12B9B6B4B32F6I4B18I232C4A14B17I79D36B3B...   \n",
       "3300  ff9318bd975b7050                                  A16A64B74B14A197I   \n",
       "3301  ffabda76a8fbaecd  B24B182A12B13B7B6F1B0I7B1B5B7F1I56B15F218B4F10...   \n",
       "3302  ffc2d5ab7d2ad39e                                     B93A2U271D127I   \n",
       "\n",
       "     first_event_date  \n",
       "0          2020-08-14  \n",
       "1          2020-03-26  \n",
       "2          2020-06-02  \n",
       "3          2020-10-14  \n",
       "4          2020-10-26  \n",
       "...               ...  \n",
       "3298       2020-05-07  \n",
       "3299       2020-04-20  \n",
       "3300       2020-08-10  \n",
       "3301       2020-05-05  \n",
       "3302       2020-07-16  \n",
       "\n",
       "[3303 rows x 3 columns]"
      ]
     },
     "execution_count": 5,
     "metadata": {},
     "output_type": "execute_result"
    }
   ],
   "source": [
    "separate_date(codes2)\n",
    "codes2"
   ]
  },
  {
   "cell_type": "code",
   "execution_count": 6,
   "id": "3433a09e",
   "metadata": {},
   "outputs": [],
   "source": [
    "# Function to split strings\n",
    "def split_string(s):\n",
    "    \"\"\"\n",
    "    s is a string code. Returns two lists, with letters (A) and numbers (B).\n",
    "    \"\"\"\n",
    "    S = []\n",
    "    for x in re.split('(\\d+)', s):\n",
    "        try:\n",
    "            S.append(int(x))\n",
    "        except ValueError:\n",
    "            S.append(x)\n",
    "    A, B = S[::2], S[1::2]\n",
    "    return A, B"
   ]
  },
  {
   "cell_type": "code",
   "execution_count": 7,
   "id": "683c4a8d",
   "metadata": {},
   "outputs": [],
   "source": [
    "# functions to obtain cases without dates\n",
    "def case1(A, B, pos, neg):\n",
    "    \"\"\"\n",
    "    Recognises case 1 reinfections (+|-|+).\n",
    "    Added some lines to detect certain cases 2.\n",
    "    \"\"\"\n",
    "    if A[0] in pos:\n",
    "        i = 0\n",
    "        c = B[i]\n",
    "        # to find case 2 before case 1\n",
    "        #if A[i] in pos and A[i+1] in pos and B[i] >= 90:\n",
    "        #    return 'Case 2', A[i+1:len(A)], B[i+1:len(B)]\n",
    "        if A[i+1] in pos and c >= 90:\n",
    "            return 'Case 2', A[i+1:len(A)], B[i+1:len(B)]\n",
    "        while A[i+1] not in neg:\n",
    "            i += 1\n",
    "            c += B[i]\n",
    "            # to find case 2 before case 1\n",
    "            if A[i+1] in pos and c >= 90:\n",
    "                return 'Case 2', A[i+1:len(A)], B[i+1:len(B)]\n",
    "        # here the first neg is found\n",
    "        i += 1\n",
    "        c += B[i]\n",
    "        while A[i+1] not in pos:\n",
    "            i += 1\n",
    "            c += B[i]\n",
    "        if c >= 90:\n",
    "            return 'Case 1', A[i+1:len(A)], B[i+1:len(B)]\n",
    "        elif c >= 60:\n",
    "            return 'Possible case 1', A[i+1:len(A)], B[i+1:len(B)]\n",
    "        else:\n",
    "            return '', A[i+1:len(A)], B[i+1:len(B)]\n",
    "    else:\n",
    "        i = 0\n",
    "        while A[i] not in pos:\n",
    "            i += 1\n",
    "        c = B[i]\n",
    "        # same as above\n",
    "        if A[i+1] in pos and c >= 90:\n",
    "            return 'Case 2', A[i+1:len(A)], B[i+1:len(B)]\n",
    "        while A[i+1] not in neg:\n",
    "            i += 1\n",
    "            c += B[i]\n",
    "            if A[i+1] in pos and c >= 90:\n",
    "                return 'Case 2', A[i+1:len(A)], B[i+1:len(B)]\n",
    "        i += 1\n",
    "        c += B[i]\n",
    "        while A[i+1] not in pos:\n",
    "            i += 1\n",
    "            c += B[i]\n",
    "        if c >= 90:\n",
    "            return 'Case 1', A[i+1:len(A)], B[i+1:len(B)]\n",
    "        elif c >= 60:\n",
    "            return 'Possible case 1', A[i+1:len(A)], B[i+1:len(B)]\n",
    "        else:\n",
    "            return '', A[i+1:len(A)], B[i+1:len(B)]\n",
    "\n",
    "def case2(A, B, pos):\n",
    "    \"\"\"\n",
    "    Recognises case 2 reinfections (+|+)\n",
    "    \"\"\"\n",
    "    c = 0\n",
    "    if A[0] in pos:\n",
    "        for i in range(len(B)):\n",
    "            if A[i+1] not in pos:\n",
    "                if bool([x for x in A[i+1:len(A)] if(x in pos)]) == False:\n",
    "                    if c >= 60:\n",
    "                        return 'Possible Case 2', A[i:len(A)], B[i:len(B)]\n",
    "                    else:\n",
    "                        return '', A[i:len(A)], B[i:len(B)]\n",
    "                c += B[i]\n",
    "            else:\n",
    "                if c + B[i] >= 90:\n",
    "                    return 'Case 2', A[i+1:len(A)], B[i+1:len(B)]\n",
    "                c = B[i]\n",
    "        if c >= 60:\n",
    "            return 'Possible Case 2', A[i+1:len(A)], B[i+1:len(B)]\n",
    "        else:\n",
    "            return '', A[i+1:len(A)], B[i+1:len(B)]\n",
    "    else:\n",
    "        i = 0\n",
    "        while A[i] not in pos:\n",
    "            i += 1\n",
    "        for j in range(i, len(B)):\n",
    "            if A[j+1] not in pos:\n",
    "                if bool([x for x in A[j+1:len(A)] if(x in pos)]) == False:\n",
    "                    if c >= 60:\n",
    "                        return 'Possible Case 2', A[j:len(A)], B[j:len(B)]\n",
    "                    else:\n",
    "                        return '', A[j:len(A)], B[j:len(B)]\n",
    "                c += B[j]\n",
    "            else:\n",
    "                if c + B[j] >= 90:\n",
    "                    return 'Case 2', A[j+1:len(A)], B[j+1:len(B)]\n",
    "                c = B[j]\n",
    "        if c >= 60:\n",
    "            return 'Possible Case 2', A[j+1:len(A)], B[j+1:len(B)]\n",
    "        else:\n",
    "            return '', A[j+1:len(A)], B[j+1:len(B)]"
   ]
  },
  {
   "cell_type": "code",
   "execution_count": 8,
   "id": "5beba8fc",
   "metadata": {},
   "outputs": [],
   "source": [
    "def sum_date(date, days_list):\n",
    "    return str(datetime.strptime(date, '%Y-%m-%d').date() + timedelta(days = sum(days_list)))"
   ]
  },
  {
   "cell_type": "code",
   "execution_count": 9,
   "id": "7945d324",
   "metadata": {},
   "outputs": [],
   "source": [
    "# functions to obtain cases with dates\n",
    "def case1d(A, B, pos, neg, date = ''):\n",
    "    \"\"\"\n",
    "    Recognises case 1 reinfections (+|-|+).\n",
    "    Added some lines to detect certain cases 2.\n",
    "    \"\"\"\n",
    "    if A[0] in pos:\n",
    "        i = 0\n",
    "        c = B[i]\n",
    "        # to find case 2 before case 1\n",
    "        #if A[i] in pos and A[i+1] in pos and B[i] >= 90:\n",
    "        #    return 'Case 2', A[i+1:len(A)], B[i+1:len(B)]\n",
    "        if A[i+1] in pos and c >= 90:\n",
    "            return 'Case 2', A[i+1:len(A)], B[i+1:len(B)], date, sum_date(date, B[:i+1])\n",
    "        while A[i+1] not in neg:\n",
    "            i += 1\n",
    "            c += B[i]\n",
    "            # to find case 2 before case 1\n",
    "            if A[i+1] in pos and c >= 90:\n",
    "                return 'Case 2', A[i+1:len(A)], B[i+1:len(B)], date, sum_date(date, B[:i+1])\n",
    "        # here the first neg is found\n",
    "        i += 1\n",
    "        c += B[i]\n",
    "        while A[i+1] not in pos:\n",
    "            i += 1\n",
    "            c += B[i]\n",
    "        if c >= 90:\n",
    "            return 'Case 1', A[i+1:len(A)], B[i+1:len(B)], date, sum_date(date, B[:i+1])\n",
    "        elif c >= 60:\n",
    "            return 'Possible case 1', A[i+1:len(A)], B[i+1:len(B)], date, sum_date(date, B[:i+1])\n",
    "        else:\n",
    "            return '', A[i+1:len(A)], B[i+1:len(B)], date, sum_date(date, B[:i+1])\n",
    "    else:\n",
    "        i = 0\n",
    "        while A[i] not in pos:\n",
    "            i += 1\n",
    "        j = i # index of first infection\n",
    "        c = B[i]\n",
    "        # same as above\n",
    "        if A[i+1] in pos and c >= 90:\n",
    "            return 'Case 2', A[i+1:len(A)], B[i+1:len(B)], sum_date(date, B[:j]), sum_date(date, B[:i+1])\n",
    "        while A[i+1] not in neg:\n",
    "            i += 1\n",
    "            c += B[i]\n",
    "            if A[i+1] in pos and c >= 90:\n",
    "                return 'Case 2', A[i+1:len(A)], B[i+1:len(B)], sum_date(date, B[:j]), sum_date(date, B[:i+1])\n",
    "        i += 1\n",
    "        c += B[i]\n",
    "        while A[i+1] not in pos:\n",
    "            i += 1\n",
    "            c += B[i]\n",
    "        if c >= 90:\n",
    "            return 'Case 1', A[i+1:len(A)], B[i+1:len(B)], sum_date(date, B[:j]), sum_date(date, B[:i+1])\n",
    "        elif c >= 60:\n",
    "            return 'Possible case 1', A[i+1:len(A)], B[i+1:len(B)], sum_date(date, B[:j]), sum_date(date, B[:i+1])\n",
    "        else:\n",
    "            return '', A[i+1:len(A)], B[i+1:len(B)], sum_date(date, B[:j]), sum_date(date, B[:i+1])"
   ]
  },
  {
   "cell_type": "code",
   "execution_count": 10,
   "id": "4827ec50",
   "metadata": {},
   "outputs": [],
   "source": [
    "def case2d(A, B, pos, date = ''):\n",
    "    \"\"\"\n",
    "    Recognises case 2 reinfections (+|+)\n",
    "    \"\"\"\n",
    "    c = 0\n",
    "    if A[0] in pos:\n",
    "        for i in range(len(B)):\n",
    "            if A[i+1] not in pos:\n",
    "                if bool([x for x in A[i+1:len(A)] if(x in pos)]) == False:\n",
    "                    if c >= 60:\n",
    "                        return 'Possible Case 2', A[i:len(A)], B[i:len(B)], date, sum_date(date, B[:i+1])\n",
    "                    else:\n",
    "                        return '', A[i:len(A)], B[i:len(B)], date, sum_date(date, B[:i+1])\n",
    "                c += B[i]\n",
    "            else:\n",
    "                if c + B[i] >= 90:\n",
    "                    return 'Case 2', A[i+1:len(A)], B[i+1:len(B)], date, sum_date(date, B[:i+1])\n",
    "                c = B[i]\n",
    "        if c >= 60:\n",
    "            return 'Possible Case 2', A[i+1:len(A)], B[i+1:len(B)], date, sum_date(date, B[:i+1])\n",
    "        else:\n",
    "            return '', A[i+1:len(A)], B[i+1:len(B)], date, sum_date(date, B[:i+1])\n",
    "    else:\n",
    "        i = 0\n",
    "        while A[i] not in pos:\n",
    "            i += 1\n",
    "        k = i\n",
    "        for j in range(i, len(B)):\n",
    "            if A[j+1] not in pos:\n",
    "                if bool([x for x in A[j+1:len(A)] if(x in pos)]) == False:\n",
    "                    if c >= 60:\n",
    "                        return 'Possible Case 2', A[j:len(A)], B[j:len(B)], sum_date(date, B[:k]), sum_date(date, B[:j])\n",
    "                    else:\n",
    "                        return '', A[j:len(A)], B[j:len(B)], sum_date(date, B[:k]), sum_date(date, B[:j])\n",
    "                c += B[j]\n",
    "            else:\n",
    "                if c + B[j] >= 90:\n",
    "                    return 'Case 2', A[j+1:len(A)], B[j+1:len(B)], sum_date(date, B[:k]), sum_date(date, B[:j+1])\n",
    "                c = B[j]\n",
    "        if c >= 60:\n",
    "            return 'Possible Case 2', A[j+1:len(A)], B[j+1:len(B)], sum_date(date, B[:k]), sum_date(date, B[:j+1])\n",
    "        else:\n",
    "            return '', A[j+1:len(A)], B[j+1:len(B)], sum_date(date, B[:k]), sum_date(date, B[:j+1])"
   ]
  },
  {
   "cell_type": "code",
   "execution_count": 11,
   "id": "e984fe92",
   "metadata": {},
   "outputs": [],
   "source": [
    "# adding multiple reinfection management\n",
    "def classif(s, pos = ['A', 'C', 'D'], neg = ['B'], date = ''):\n",
    "    \"\"\"\n",
    "    Takes a string and classifies it into reinfection cases 1 or 2\n",
    "    \"\"\"\n",
    "    A, B = split_string(s)\n",
    "    L = []\n",
    "    D = []\n",
    "    d1 = ''\n",
    "    d2 = ''\n",
    "    while len(A) > 1:\n",
    "        # indices stores a list between the first and last positive in the string\n",
    "        indices = [i for i, x in enumerate(A) if x in pos]\n",
    "        # b will be used to break the loop if there are no positives in the remaining string\n",
    "        b = [x for x in A[1:len(A)] if(x in pos)]\n",
    "        if any(n in A[min(indices):max(indices)] for n in neg):\n",
    "            if date == '':\n",
    "                r, A, B = case1(A, B, pos, neg)\n",
    "            else:\n",
    "                r, A, B, d1, d2 = case1d(A, B, pos, neg, date)\n",
    "                date = d2\n",
    "            if r != '':\n",
    "                L.append(r)\n",
    "                D.append([d1, d2])\n",
    "            #print('Case 1', A)\n",
    "        elif bool(b) == False:\n",
    "            break\n",
    "        else:\n",
    "            if date == '':\n",
    "                r, A, B = case2(A, B, pos)\n",
    "            else:\n",
    "                r, A, B, d1, d2 = case2d(A, B, pos, date)\n",
    "                date = d2\n",
    "            #print('Case 2', A)\n",
    "            if r != '':\n",
    "                L.append(r)\n",
    "                D.append([d1, d2])\n",
    "    if date != '':\n",
    "        return L, D\n",
    "    return L"
   ]
  },
  {
   "cell_type": "code",
   "execution_count": 12,
   "id": "efa5db47",
   "metadata": {},
   "outputs": [
    {
     "data": {
      "text/plain": [
       "(['Case 1'], [['2021-07-01', '2022-10-16']])"
      ]
     },
     "execution_count": 12,
     "metadata": {},
     "output_type": "execute_result"
    }
   ],
   "source": [
    "# option for taking antigen tests into account\n",
    "classif('B26A9B187F40F96F63F77A', pos = ['A', 'C', 'D', 'E'], neg = ['B', 'F'], date = '2021-06-05')"
   ]
  },
  {
   "cell_type": "code",
   "execution_count": 13,
   "id": "3b1a757f",
   "metadata": {
    "scrolled": false
   },
   "outputs": [
    {
     "name": "stdout",
     "output_type": "stream",
     "text": [
      "f85ba59b14eb3163 \n",
      "\n",
      "B6B53A9A8A0G45G49I23I114B40G105F49J20B16A28E \n",
      "\n"
     ]
    },
    {
     "data": {
      "text/plain": [
       "('Case 1', ['A', 'E'], [28])"
      ]
     },
     "execution_count": 13,
     "metadata": {},
     "output_type": "execute_result"
    }
   ],
   "source": [
    "# trying random strings\n",
    "r = random.randint(0,3303)\n",
    "print(codes.iloc[r]['id'], '\\n')\n",
    "s = codes.iloc[r]['code']\n",
    "\n",
    "A, B = split_string(s)\n",
    "\n",
    "print(s, '\\n')\n",
    "\n",
    "#classif(s)\n",
    "case1(A, B, pos = ['A', 'C', 'D'], neg = ['B'])\n",
    "#case2(A, B, pos = ['A', 'C', 'D'])"
   ]
  },
  {
   "cell_type": "code",
   "execution_count": 14,
   "id": "a62326b3",
   "metadata": {},
   "outputs": [],
   "source": [
    "# applying function\n",
    "d = {}\n",
    "for x in codes['id']:\n",
    "    d[str(x)] = classif(codes.loc[codes['id'] == x]['code'].values[0])"
   ]
  },
  {
   "cell_type": "code",
   "execution_count": 200,
   "id": "25f82fc0",
   "metadata": {},
   "outputs": [],
   "source": [
    "import csv\n",
    "\n",
    "with open('../results/dict.csv', 'w') as f:\n",
    "    for key in d.keys():\n",
    "        f.write(\"%s, %s\\n\" % (key, d[key]))"
   ]
  },
  {
   "cell_type": "code",
   "execution_count": 15,
   "id": "2d3bfc91",
   "metadata": {},
   "outputs": [],
   "source": [
    "# writing dictionary with strings and dates\n",
    "D = {}\n",
    "for x in codes2['id']:\n",
    "    D[str(x)] = [codes2.loc[codes2['id'] == x]['first_event_date'].values[0],\n",
    "                codes2.loc[codes2['id'] == x]['code'].values[0],\n",
    "                classif(codes2.loc[codes2['id'] == x]['code'].values[0])]\n"
   ]
  },
  {
   "cell_type": "code",
   "execution_count": 289,
   "id": "dfbc9e58",
   "metadata": {},
   "outputs": [],
   "source": [
    "with open('../results/dict2.csv', 'w') as f:\n",
    "    for key in D.keys():\n",
    "        f.write(\"%s, %s, %s, %s\\n\" % (key, D[key][0], D[key][1], D[key][2]))"
   ]
  },
  {
   "cell_type": "code",
   "execution_count": 16,
   "id": "e305f091",
   "metadata": {
    "scrolled": true
   },
   "outputs": [
    {
     "data": {
      "text/plain": [
       "{\"['Case 1']\": 2109,\n",
       " \"['Case 2']\": 996,\n",
       " \"['Case 2', 'Case 2']\": 5,\n",
       " \"['Case 1', 'Case 1']\": 99,\n",
       " \"['Possible case 1']\": 26,\n",
       " \"['Case 2', 'Case 1']\": 17,\n",
       " '[]': 18,\n",
       " \"['Case 1', 'Possible case 1']\": 5,\n",
       " \"['Possible case 1', 'Case 1']\": 10,\n",
       " \"['Case 1', 'Case 2']\": 2,\n",
       " \"['Possible Case 2']\": 8,\n",
       " \"['Case 1', 'Case 1', 'Possible case 1']\": 2,\n",
       " \"['Case 1', 'Possible case 1', 'Case 1']\": 2,\n",
       " \"['Case 2', 'Possible Case 2']\": 1,\n",
       " \"['Case 1', 'Case 1', 'Case 1']\": 1,\n",
       " \"['Possible case 1', 'Possible case 1']\": 2}"
      ]
     },
     "execution_count": 16,
     "metadata": {},
     "output_type": "execute_result"
    }
   ],
   "source": [
    "N = list(d.values())\n",
    "N = [str(x) for x in N]\n",
    "freq = {}\n",
    "for items in N:\n",
    "    freq[items] = N.count(items)\n",
    "freq"
   ]
  },
  {
   "cell_type": "code",
   "execution_count": 17,
   "id": "56b8584f",
   "metadata": {},
   "outputs": [],
   "source": [
    "# cases 1 \n",
    "C1 = {}\n",
    "for key in D.keys():\n",
    "    if D[key][2] == ['Case 1']:\n",
    "        C1[key] = D[key]"
   ]
  },
  {
   "cell_type": "code",
   "execution_count": 18,
   "id": "8dcf7260",
   "metadata": {},
   "outputs": [
    {
     "data": {
      "text/plain": [
       "['2020-10-09', 'B20A85B94B46A88J129F8E', ['Case 1']]"
      ]
     },
     "execution_count": 18,
     "metadata": {},
     "output_type": "execute_result"
    }
   ],
   "source": [
    "C1['ae769a9c1b782eaf']"
   ]
  },
  {
   "cell_type": "code",
   "execution_count": 19,
   "id": "78a3f46c",
   "metadata": {},
   "outputs": [],
   "source": [
    "# function for selecting cases 1 with only two positives in their strings\n",
    "def two_pos(S, pos = ['A', 'C', 'D']):\n",
    "    l = []\n",
    "    for p,c in enumerate(S):\n",
    "        if(c in pos):\n",
    "            l.append(p)\n",
    "    if len(l) == 2:\n",
    "        return True"
   ]
  },
  {
   "cell_type": "code",
   "execution_count": 20,
   "id": "cb9de809",
   "metadata": {},
   "outputs": [],
   "source": [
    "FC1 = {}\n",
    "for key in C1.keys():\n",
    "    if two_pos(C1[key][1]):\n",
    "        FC1[key] = C1[key]"
   ]
  },
  {
   "cell_type": "code",
   "execution_count": 21,
   "id": "2e862004",
   "metadata": {
    "scrolled": true
   },
   "outputs": [
    {
     "data": {
      "text/plain": [
       "1235"
      ]
     },
     "execution_count": 21,
     "metadata": {},
     "output_type": "execute_result"
    }
   ],
   "source": [
    "len(FC1)"
   ]
  },
  {
   "cell_type": "code",
   "execution_count": 22,
   "id": "4ec2097e",
   "metadata": {},
   "outputs": [],
   "source": [
    "# Discarding sequenced samples\n",
    "def find_sequenced(s):\n",
    "    if not 'C' in s:\n",
    "        return 'Not sequenced'\n",
    "    l = [x for x in s if(x in ['A', 'C', 'D'])]\n",
    "    if l == ['C', 'C']:\n",
    "        return 'Both sequenced'\n",
    "    if l[0] == 'C':\n",
    "        return 'First PCR sequenced'\n",
    "    if l[1] == 'C':\n",
    "        return 'Second PCR sequenced'"
   ]
  },
  {
   "cell_type": "code",
   "execution_count": 23,
   "id": "c0ae7e37",
   "metadata": {},
   "outputs": [],
   "source": [
    "FC1_seq = {}\n",
    "for k in FC1.keys():\n",
    "    FC1_seq[k] = find_sequenced(FC1[k][1])"
   ]
  },
  {
   "cell_type": "code",
   "execution_count": 24,
   "id": "def77773",
   "metadata": {},
   "outputs": [
    {
     "data": {
      "text/plain": [
       "{'Not sequenced': 989,\n",
       " 'Second PCR sequenced': 206,\n",
       " 'First PCR sequenced': 32,\n",
       " 'Both sequenced': 8}"
      ]
     },
     "execution_count": 24,
     "metadata": {},
     "output_type": "execute_result"
    }
   ],
   "source": [
    "M = list(FC1_seq.values())\n",
    "M = [str(x) for x in M]\n",
    "freq = {}\n",
    "for items in M:\n",
    "    freq[items] = M.count(items)\n",
    "freq"
   ]
  },
  {
   "cell_type": "code",
   "execution_count": 67,
   "id": "2db63f2d",
   "metadata": {},
   "outputs": [],
   "source": [
    "# exploring no reinfections\n",
    "NO = {}\n",
    "for key in D.keys():\n",
    "    if D[key][2] == []:\n",
    "        NO[key] = D[key]\n",
    "        \n",
    "# NO"
   ]
  },
  {
   "cell_type": "code",
   "execution_count": 288,
   "id": "56916be0",
   "metadata": {},
   "outputs": [],
   "source": [
    "# saving dict\n",
    "with open('../results/filtered_dict.csv', 'w') as f:\n",
    "    for key in FC1.keys():\n",
    "        f.write(\"%s, %s, %s\\n\" % (key, FC1[key][0], FC1[key][1]))"
   ]
  },
  {
   "cell_type": "code",
   "execution_count": 25,
   "id": "78b98383",
   "metadata": {},
   "outputs": [],
   "source": [
    "# accounting for antigen tests\n",
    "a = {}\n",
    "for x in codes2['id']:\n",
    "    a[str(x)] = classif(codes2.loc[codes2['id'] == x]['code'].values[0], \n",
    "                        pos = ['A', 'C', 'D', 'E'], neg = ['B', 'F'])"
   ]
  },
  {
   "cell_type": "code",
   "execution_count": 26,
   "id": "b80ac82a",
   "metadata": {},
   "outputs": [
    {
     "data": {
      "text/plain": [
       "{\"['Case 1']\": 2344,\n",
       " \"['Case 2']\": 652,\n",
       " \"['Case 2', 'Case 1']\": 47,\n",
       " \"['Case 2', 'Case 2']\": 6,\n",
       " \"['Case 1', 'Case 1']\": 158,\n",
       " \"['Possible case 1']\": 26,\n",
       " \"['Case 1', 'Case 1', 'Case 1']\": 4,\n",
       " '[]': 13,\n",
       " \"['Case 1', 'Case 2']\": 11,\n",
       " \"['Case 1', 'Possible case 1']\": 11,\n",
       " \"['Possible case 1', 'Case 1']\": 15,\n",
       " \"['Case 1', 'Possible Case 2']\": 2,\n",
       " \"['Case 1', 'Case 1', 'Possible case 1']\": 2,\n",
       " \"['Case 1', 'Possible case 1', 'Case 1']\": 2,\n",
       " \"['Possible Case 2']\": 6,\n",
       " \"['Possible case 1', 'Case 1', 'Case 1']\": 2,\n",
       " \"['Possible case 1', 'Possible case 1']\": 1,\n",
       " \"['Possible case 1', 'Possible case 1', 'Case 1']\": 1}"
      ]
     },
     "execution_count": 26,
     "metadata": {},
     "output_type": "execute_result"
    }
   ],
   "source": [
    "M = list(a.values())\n",
    "M = [str(x) for x in M]\n",
    "freq = {}\n",
    "for items in M:\n",
    "    freq[items] = M.count(items)\n",
    "freq"
   ]
  },
  {
   "cell_type": "code",
   "execution_count": 27,
   "id": "a2041509",
   "metadata": {},
   "outputs": [],
   "source": [
    "# FUNCTIONS FOR VARIANT ASSIGNMENT\n",
    "\n",
    "# prealpha: start (2020-03-13) --> 2021-02-01\n",
    "# alpha: 2021-02-08 --> 2021-06-21\n",
    "# delta: 2021-06-28 --> 2021-12-13\n",
    "# omicron: 2021-12-20 --> end (2022-05-21)\n",
    "\n",
    "# function to obtain the last event date\n",
    "def last_date(date, string):\n",
    "    L, N = split_string(string)\n",
    "    d = sum(N)\n",
    "    return str(datetime.strptime(date, '%Y-%m-%d').date() + timedelta(days = d))"
   ]
  },
  {
   "cell_type": "code",
   "execution_count": 28,
   "id": "e767f256",
   "metadata": {},
   "outputs": [
    {
     "data": {
      "text/plain": [
       "'2022-03-15'"
      ]
     },
     "execution_count": 28,
     "metadata": {},
     "output_type": "execute_result"
    }
   ],
   "source": [
    "last_date(codes2['first_event_date'][0], codes2['code'][0])"
   ]
  },
  {
   "cell_type": "code",
   "execution_count": 29,
   "id": "8e7ab824",
   "metadata": {
    "scrolled": true
   },
   "outputs": [],
   "source": [
    "ld_list = []\n",
    "for i in range(len(codes2)):\n",
    "    ld_list.append(last_date(codes2['first_event_date'][i], codes2['code'][i]))"
   ]
  },
  {
   "cell_type": "code",
   "execution_count": 30,
   "id": "98523e44",
   "metadata": {},
   "outputs": [
    {
     "data": {
      "text/plain": [
       "3303"
      ]
     },
     "execution_count": 30,
     "metadata": {},
     "output_type": "execute_result"
    }
   ],
   "source": [
    "len(ld_list)"
   ]
  },
  {
   "cell_type": "code",
   "execution_count": 31,
   "id": "75771ead",
   "metadata": {},
   "outputs": [
    {
     "name": "stdout",
     "output_type": "stream",
     "text": [
      "2020-03-13\n",
      "2022-05-21\n"
     ]
    }
   ],
   "source": [
    "# obtaining first and last date\n",
    "print(min(codes2['first_event_date']))\n",
    "print(max(ld_list))"
   ]
  },
  {
   "cell_type": "code",
   "execution_count": 151,
   "id": "248344e8",
   "metadata": {},
   "outputs": [
    {
     "name": "stdout",
     "output_type": "stream",
     "text": [
      "A191B145B14B6I1B7B7B7B0I7B28B53B14B49B14A40F \n",
      " 2020-07-24\n"
     ]
    },
    {
     "data": {
      "text/plain": [
       "(['Case 1'], [['2020-07-24', '2022-01-18']])"
      ]
     },
     "execution_count": 151,
     "metadata": {},
     "output_type": "execute_result"
    }
   ],
   "source": [
    "# testing dates obtention\n",
    "r = random.randint(0,3303)\n",
    "s = codes2.iloc[r]['code']\n",
    "dat = codes2.iloc[r]['first_event_date']\n",
    "\n",
    "print(s, '\\n', dat)\n",
    "\n",
    "classif(s, pos = ['A', 'C', 'D'], neg = ['B'], date = dat)"
   ]
  },
  {
   "cell_type": "code",
   "execution_count": 146,
   "id": "743e51dd",
   "metadata": {},
   "outputs": [
    {
     "data": {
      "text/plain": [
       "'2022-01-25'"
      ]
     },
     "execution_count": 146,
     "metadata": {},
     "output_type": "execute_result"
    }
   ],
   "source": [
    "sum_date('2020-03-29', [46,132,97,14,2,12,9,5,14,14,90,186,4,8,1,4,16,13])"
   ]
  },
  {
   "cell_type": "code",
   "execution_count": 33,
   "id": "c11f5386",
   "metadata": {},
   "outputs": [],
   "source": [
    "# obtaining all dates\n",
    "# we will only use PCR/TMA\n",
    "dates_dict = {}\n",
    "for x in codes2['id']:\n",
    "    dates_dict[str(x)] = classif(codes2.loc[codes2['id'] == x]['code'].values[0], \n",
    "                        pos = ['A', 'C', 'D'], neg = ['B'], \n",
    "                        date = codes2.loc[codes2['id'] == x]['first_event_date'].values[0])"
   ]
  },
  {
   "cell_type": "code",
   "execution_count": 34,
   "id": "251ff99b",
   "metadata": {},
   "outputs": [],
   "source": [
    "# function for classifying reinfections in 10 categories (combinations of pre-alpha, alpha, delta, omicron)\n",
    "def probable_variant(date1, date2):\n",
    "    a = datetime.strptime('2021-02-08', '%Y-%m-%d').date() # alpha start\n",
    "    d = datetime.strptime('2021-06-28', '%Y-%m-%d').date() # delta start\n",
    "    o = datetime.strptime('2021-12-20', '%Y-%m-%d').date() # omicron start\n",
    "    date1 = datetime.strptime(date1, '%Y-%m-%d').date()\n",
    "    date2 = datetime.strptime(date2, '%Y-%m-%d').date()\n",
    "    if date1 < a:\n",
    "        if date2 < a:\n",
    "            return 'pre-alpha:pre-alpha'\n",
    "        if date2 < d:\n",
    "            return 'pre-alpha:alpha'\n",
    "        if date2 < o:\n",
    "            return 'pre-alpha:delta'\n",
    "        else:\n",
    "            return 'pre-alpha:omicron'\n",
    "    if date1 < d:\n",
    "        if date2 < d:\n",
    "            return 'alpha:alpha'\n",
    "        if date2 < o:\n",
    "            return 'alpha:delta'\n",
    "        else:\n",
    "            return 'alpha:omicron'\n",
    "    if date1 < o:\n",
    "        if date2 < o:\n",
    "            return 'delta:delta'\n",
    "        else:\n",
    "            return 'delta:omicron'\n",
    "    else:\n",
    "        return 'omicron:omicron'"
   ]
  },
  {
   "cell_type": "code",
   "execution_count": 35,
   "id": "3dfc355a",
   "metadata": {},
   "outputs": [
    {
     "data": {
      "text/plain": [
       "'pre-alpha:omicron'"
      ]
     },
     "execution_count": 35,
     "metadata": {},
     "output_type": "execute_result"
    }
   ],
   "source": [
    "probable_variant('2020-04-12', '2022-01-19')"
   ]
  },
  {
   "cell_type": "code",
   "execution_count": 36,
   "id": "126db862",
   "metadata": {},
   "outputs": [],
   "source": [
    "variants = {}\n",
    "for k, v in dates_dict.items():\n",
    "    l = []\n",
    "    for x in list(v)[1]:\n",
    "        l.append(probable_variant(x[0], x[1]))\n",
    "    variants[k] = l"
   ]
  },
  {
   "cell_type": "code",
   "execution_count": 37,
   "id": "3a76b90b",
   "metadata": {
    "scrolled": true
   },
   "outputs": [
    {
     "data": {
      "text/plain": [
       "{\"['pre-alpha:delta']\": 527,\n",
       " \"['pre-alpha:omicron']\": 1284,\n",
       " \"['pre-alpha:pre-alpha']\": 311,\n",
       " \"['pre-alpha:alpha']\": 233,\n",
       " \"['delta:omicron']\": 439,\n",
       " \"['pre-alpha:pre-alpha', 'pre-alpha:delta']\": 11,\n",
       " \"['alpha:omicron']\": 198,\n",
       " \"['pre-alpha:delta', 'delta:omicron']\": 47,\n",
       " \"['delta:delta']\": 56,\n",
       " \"['pre-alpha:delta', 'delta:delta']\": 3,\n",
       " \"['alpha:delta']\": 86,\n",
       " \"['alpha:alpha']\": 5,\n",
       " \"['pre-alpha:alpha', 'alpha:omicron']\": 23,\n",
       " \"['pre-alpha:alpha', 'alpha:delta']\": 9,\n",
       " \"['pre-alpha:pre-alpha', 'pre-alpha:omicron']\": 30,\n",
       " '[]': 18,\n",
       " \"['alpha:delta', 'delta:delta']\": 1,\n",
       " \"['pre-alpha:pre-alpha', 'pre-alpha:alpha']\": 4,\n",
       " \"['pre-alpha:pre-alpha', 'pre-alpha:pre-alpha']\": 2,\n",
       " \"['alpha:delta', 'delta:omicron']\": 7,\n",
       " \"['pre-alpha:pre-alpha', 'pre-alpha:pre-alpha', 'pre-alpha:pre-alpha']\": 1,\n",
       " \"['pre-alpha:pre-alpha', 'pre-alpha:pre-alpha', 'pre-alpha:omicron']\": 1,\n",
       " \"['pre-alpha:pre-alpha', 'pre-alpha:alpha', 'alpha:delta']\": 1,\n",
       " \"['alpha:alpha', 'alpha:delta']\": 1,\n",
       " \"['pre-alpha:delta', 'delta:omicron', 'omicron:omicron']\": 1,\n",
       " \"['delta:delta', 'delta:omicron']\": 3,\n",
       " \"['pre-alpha:pre-alpha', 'pre-alpha:delta', 'delta:omicron']\": 1}"
      ]
     },
     "execution_count": 37,
     "metadata": {},
     "output_type": "execute_result"
    }
   ],
   "source": [
    "V = list(variants.values())\n",
    "V = [str(x) for x in V]\n",
    "freq = {}\n",
    "for items in V:\n",
    "    freq[items] = V.count(items)\n",
    "freq"
   ]
  },
  {
   "cell_type": "code",
   "execution_count": 81,
   "id": "bc2548f9",
   "metadata": {},
   "outputs": [],
   "source": [
    "# saving dictionary\n",
    "with open('../results/possible_variants.csv', 'w') as f:\n",
    "    for key in variants.keys():\n",
    "        if len(variants[key]) == 0:\n",
    "            f.write(\"%s,,,\\n\" % key)\n",
    "        elif len(variants[key]) == 1:\n",
    "            f.write(\"%s,%s,,\\n\" % (key, variants[key][0]))\n",
    "        elif len(variants[key]) == 2:\n",
    "            f.write(\"%s,%s,%s,\\n\" % (key, variants[key][0], variants[key][1]))\n",
    "        elif len(variants[key]) == 3:\n",
    "            f.write(\"%s,%s,%s,%s\\n\" % (key, variants[key][0], variants[key][1], variants[key][2]))"
   ]
  },
  {
   "cell_type": "code",
   "execution_count": 38,
   "id": "8ad8eeaa",
   "metadata": {},
   "outputs": [
    {
     "data": {
      "text/plain": [
       "3285"
      ]
     },
     "execution_count": 38,
     "metadata": {},
     "output_type": "execute_result"
    }
   ],
   "source": [
    "# getting counts of each variant\n",
    "# removing emptly values\n",
    "lista = []\n",
    "lista2 = list(variants.values())\n",
    "for i in range(len(lista2)):\n",
    "    if lista2[i] != []:\n",
    "        lista.append(lista2[i])\n",
    "len(lista)"
   ]
  },
  {
   "cell_type": "code",
   "execution_count": 39,
   "id": "d326e99a",
   "metadata": {},
   "outputs": [],
   "source": [
    "# separating list into first, second, and third reinfection\n",
    "lista1 = []\n",
    "lista2 = []\n",
    "lista3 = []\n",
    "for e in lista:\n",
    "    if len(e) == 1:\n",
    "        lista1.append(e[0])\n",
    "    elif len(e) == 2:\n",
    "        lista1.append(e[0])\n",
    "        lista2.append(e[1])\n",
    "    elif len(e) == 3:\n",
    "        lista1.append(e[0])\n",
    "        lista2.append(e[1])\n",
    "        lista3.append(e[2])"
   ]
  },
  {
   "cell_type": "code",
   "execution_count": 40,
   "id": "6316c354",
   "metadata": {},
   "outputs": [],
   "source": [
    "# from lista2 and lista3 we will only count last variant\n",
    "countv = []\n",
    "for e in lista2:\n",
    "    countv.append(e.split(':')[1])\n",
    "for e in lista3:\n",
    "    countv.append(e.split(':')[1])"
   ]
  },
  {
   "cell_type": "code",
   "execution_count": 41,
   "id": "5bc3862d",
   "metadata": {},
   "outputs": [],
   "source": [
    "# we will add both variants from lista1\n",
    "for e in lista1:\n",
    "    countv.append(e.split(':')[0])\n",
    "    countv.append(e.split(':')[1])"
   ]
  },
  {
   "cell_type": "code",
   "execution_count": 42,
   "id": "6eeff0b9",
   "metadata": {},
   "outputs": [
    {
     "data": {
      "text/plain": [
       "6721"
      ]
     },
     "execution_count": 42,
     "metadata": {},
     "output_type": "execute_result"
    }
   ],
   "source": [
    "len(countv)"
   ]
  },
  {
   "cell_type": "code",
   "execution_count": 43,
   "id": "47ecfafc",
   "metadata": {},
   "outputs": [
    {
     "data": {
      "text/plain": [
       "Counter({'delta': 1256, 'omicron': 2035, 'alpha': 574, 'pre-alpha': 2856})"
      ]
     },
     "execution_count": 43,
     "metadata": {},
     "output_type": "execute_result"
    }
   ],
   "source": [
    "Counter(countv)"
   ]
  },
  {
   "cell_type": "code",
   "execution_count": 44,
   "id": "b59eb325",
   "metadata": {
    "scrolled": true
   },
   "outputs": [],
   "source": [
    "# We will characterize time between infections\n",
    "# we will omit multiple reinfections (only counting the first reinfection)\n",
    "first = []\n",
    "for v in dates_dict.values():\n",
    "    try:\n",
    "        first.append(v[1][0])\n",
    "    except IndexError:\n",
    "        pass"
   ]
  },
  {
   "cell_type": "code",
   "execution_count": 45,
   "id": "dd372b7e",
   "metadata": {},
   "outputs": [],
   "source": [
    "days_first = []\n",
    "for x in first:\n",
    "    days_first.append((datetime.strptime(x[1], '%Y-%m-%d') - datetime.strptime(x[0], '%Y-%m-%d')).days)"
   ]
  },
  {
   "cell_type": "code",
   "execution_count": 46,
   "id": "1a3e7a2a",
   "metadata": {},
   "outputs": [
    {
     "data": {
      "text/plain": [
       "''"
      ]
     },
     "execution_count": 46,
     "metadata": {},
     "output_type": "execute_result"
    },
    {
     "data": {
      "image/png": "[encoded data removed]",
      "text/plain": [
       "<Figure size 432x288 with 1 Axes>"
      ]
     },
     "metadata": {
      "needs_background": "light"
     },
     "output_type": "display_data"
    }
   ],
   "source": [
    "import matplotlib.pyplot as plt\n",
    "\n",
    "plt.hist(days_first, color = 'lightblue', edgecolor = 'white',\n",
    "         bins = int((max(days_first)-min(days_first))/10))\n",
    "\n",
    "plt.title('Time between episodes (first reinfection)')\n",
    "plt.xlabel('Days')\n",
    "plt.ylabel('Number of patients')\n",
    ";"
   ]
  },
  {
   "cell_type": "code",
   "execution_count": 206,
   "id": "c3b0bb21",
   "metadata": {},
   "outputs": [
    {
     "name": "stderr",
     "output_type": "stream",
     "text": [
      "/home/fmunoz/miniconda3/lib/python3.9/site-packages/seaborn/distributions.py:2619: FutureWarning: `distplot` is a deprecated function and will be removed in a future version. Please adapt your code to use either `displot` (a figure-level function with similar flexibility) or `histplot` (an axes-level function for histograms).\n",
      "  warnings.warn(msg, FutureWarning)\n"
     ]
    },
    {
     "data": {
      "text/plain": [
       "''"
      ]
     },
     "execution_count": 206,
     "metadata": {},
     "output_type": "execute_result"
    },
    {
     "data": {
      "image/png": "[encoded data removed]",
      "text/plain": [
       "<Figure size 842.4x595.44 with 1 Axes>"
      ]
     },
     "metadata": {},
     "output_type": "display_data"
    }
   ],
   "source": [
    "import seaborn as sns\n",
    "sns.set(rc={'figure.figsize':(11.7,8.27)})\n",
    "\n",
    "# different representation\n",
    "\n",
    "sns.distplot(days_first, hist=True, kde=True, \n",
    "             bins=int((max(days_first)-min(days_first))/10),\n",
    "             color = 'darkblue', \n",
    "             hist_kws={'edgecolor':'black'},\n",
    "             kde_kws={'linewidth': 4})\n",
    "\n",
    "plt.title('Time between episodes (first reinfection)')\n",
    "plt.xlabel('Days')\n",
    "plt.ylabel('Density')\n",
    ";"
   ]
  },
  {
   "cell_type": "code",
   "execution_count": 48,
   "id": "b08759cf",
   "metadata": {},
   "outputs": [],
   "source": [
    "# Second reinfection\n",
    "second = []\n",
    "for v in dates_dict.values():\n",
    "    try:\n",
    "        second.append(v[1][1])\n",
    "    except IndexError:\n",
    "        pass\n",
    "    \n",
    "days_second = []\n",
    "for x in second:\n",
    "    days_second.append((datetime.strptime(x[1], '%Y-%m-%d') - datetime.strptime(x[0], '%Y-%m-%d')).days)"
   ]
  },
  {
   "cell_type": "code",
   "execution_count": 207,
   "id": "67b7d875",
   "metadata": {},
   "outputs": [
    {
     "name": "stderr",
     "output_type": "stream",
     "text": [
      "/home/fmunoz/miniconda3/lib/python3.9/site-packages/seaborn/distributions.py:2619: FutureWarning: `distplot` is a deprecated function and will be removed in a future version. Please adapt your code to use either `displot` (a figure-level function with similar flexibility) or `histplot` (an axes-level function for histograms).\n",
      "  warnings.warn(msg, FutureWarning)\n"
     ]
    },
    {
     "data": {
      "text/plain": [
       "''"
      ]
     },
     "execution_count": 207,
     "metadata": {},
     "output_type": "execute_result"
    },
    {
     "data": {
      "image/png": "[encoded data removed]",
      "text/plain": [
       "<Figure size 842.4x595.44 with 1 Axes>"
      ]
     },
     "metadata": {},
     "output_type": "display_data"
    }
   ],
   "source": [
    "sns.distplot(days_second, hist=True, kde=True, \n",
    "             bins=int((max(days_first)-min(days_first))/15),\n",
    "             color = 'darkblue', \n",
    "             hist_kws={'edgecolor':'black'},\n",
    "             kde_kws={'linewidth': 4})\n",
    "\n",
    "plt.title('Time between episodes (second reinfection)')\n",
    "plt.xlabel('Days')\n",
    "plt.ylabel('Density')\n",
    ";"
   ]
  },
  {
   "cell_type": "code",
   "execution_count": 208,
   "id": "12fd4aed",
   "metadata": {},
   "outputs": [
    {
     "name": "stderr",
     "output_type": "stream",
     "text": [
      "/home/fmunoz/miniconda3/lib/python3.9/site-packages/seaborn/distributions.py:2619: FutureWarning: `distplot` is a deprecated function and will be removed in a future version. Please adapt your code to use either `displot` (a figure-level function with similar flexibility) or `histplot` (an axes-level function for histograms).\n",
      "  warnings.warn(msg, FutureWarning)\n"
     ]
    },
    {
     "data": {
      "text/plain": [
       "''"
      ]
     },
     "execution_count": 208,
     "metadata": {},
     "output_type": "execute_result"
    },
    {
     "data": {
      "image/png": "[encoded data removed]",
      "text/plain": [
       "<Figure size 842.4x595.44 with 1 Axes>"
      ]
     },
     "metadata": {},
     "output_type": "display_data"
    }
   ],
   "source": [
    "# third reinfection\n",
    "third = []\n",
    "for v in dates_dict.values():\n",
    "    try:\n",
    "        third.append(v[1][2])\n",
    "    except IndexError:\n",
    "        pass\n",
    "    \n",
    "days_third = []\n",
    "for x in third:\n",
    "    days_third.append((datetime.strptime(x[1], '%Y-%m-%d') - datetime.strptime(x[0], '%Y-%m-%d')).days)\n",
    "    \n",
    "sns.distplot(days_third, hist=True, kde=True, \n",
    "             bins=int((max(days_first)-min(days_first))),\n",
    "             color = 'darkblue', \n",
    "             hist_kws={'edgecolor':'black'},\n",
    "             kde_kws={'linewidth': 4})\n",
    "\n",
    "plt.title('Time between episodes (third reinfection)')\n",
    "plt.xlabel('Days')\n",
    "plt.ylabel('Density')\n",
    ";"
   ]
  },
  {
   "cell_type": "code",
   "execution_count": 182,
   "id": "ef3caf33",
   "metadata": {},
   "outputs": [],
   "source": [
    "# let's label the first PCR of each episode\n",
    "twopcr = pd.read_csv('../data/new_version/main_sheet.csv', sep = ';')"
   ]
  },
  {
   "cell_type": "code",
   "execution_count": 183,
   "id": "49171597",
   "metadata": {},
   "outputs": [],
   "source": [
    "twopcr = twopcr[['ID_ANONIMITZAT', 'ETIQUETA_1_ANOMIM', 'DATA POSITIU 1', 'ETIQUETA_2_ANOMIM', 'DATA POSITIU 2']]"
   ]
  },
  {
   "cell_type": "code",
   "execution_count": 184,
   "id": "31971baa",
   "metadata": {},
   "outputs": [],
   "source": [
    "otherpcrs = pd.read_csv('../data/new_version/pcrs.csv', sep = ';')"
   ]
  },
  {
   "cell_type": "code",
   "execution_count": 185,
   "id": "8fc3b7d2",
   "metadata": {},
   "outputs": [],
   "source": [
    "otherpcrs = otherpcrs[otherpcrs['PROVA'] == 'PCR']"
   ]
  },
  {
   "cell_type": "code",
   "execution_count": 186,
   "id": "fa4f61ee",
   "metadata": {},
   "outputs": [],
   "source": [
    "otherpcrs = otherpcrs[otherpcrs['RESULTAT'] == 'Positiu']"
   ]
  },
  {
   "cell_type": "code",
   "execution_count": 187,
   "id": "18506a4e",
   "metadata": {},
   "outputs": [],
   "source": [
    "otherpcrs = otherpcrs[['ID_ANONIMITZAT', 'DATA', 'ETIQUETA_ANONIM']]\n",
    "otherpcrs = otherpcrs.rename({'ID_ANONIMITZAT':'id', 'DATA':'date', 'ETIQUETA_ANONIM':'label'}, axis = 1)"
   ]
  },
  {
   "cell_type": "code",
   "execution_count": 188,
   "id": "91aa6148",
   "metadata": {},
   "outputs": [],
   "source": [
    "# arranging twopcr\n",
    "twopcr1 = twopcr[['ID_ANONIMITZAT', 'DATA POSITIU 1', 'ETIQUETA_1_ANOMIM']]\n",
    "twopcr1 = twopcr1.rename({'ID_ANONIMITZAT':'id', 'DATA POSITIU 1':'date', 'ETIQUETA_1_ANOMIM':'label'}, axis = 1)\n",
    "twopcr2 = twopcr[['ID_ANONIMITZAT', 'DATA POSITIU 2', 'ETIQUETA_2_ANOMIM']]\n",
    "twopcr2 = twopcr2.rename({'ID_ANONIMITZAT':'id', 'DATA POSITIU 2':'date', 'ETIQUETA_2_ANOMIM':'label'}, axis = 1)"
   ]
  },
  {
   "cell_type": "code",
   "execution_count": 189,
   "id": "76c26de0",
   "metadata": {},
   "outputs": [],
   "source": [
    "mainpcrs = pd.concat([twopcr1, twopcr2])"
   ]
  },
  {
   "cell_type": "code",
   "execution_count": 190,
   "id": "6e25a0b4",
   "metadata": {},
   "outputs": [],
   "source": [
    "# removing possible duplicates\n",
    "mainpcrs = mainpcrs.drop_duplicates()\n",
    "otherpcrs = otherpcrs.drop_duplicates()"
   ]
  },
  {
   "cell_type": "code",
   "execution_count": 191,
   "id": "2275ebcc",
   "metadata": {},
   "outputs": [],
   "source": [
    "# we need to change the date format\n",
    "fechas = []\n",
    "for d in mainpcrs['date']:\n",
    "    fechas.append(str(datetime.strptime(d, '%d/%m/%Y').date()))\n",
    "\n",
    "mainpcrs['date'] = fechas"
   ]
  },
  {
   "cell_type": "code",
   "execution_count": 192,
   "id": "480844fc",
   "metadata": {},
   "outputs": [],
   "source": [
    "fechas = []\n",
    "for d in otherpcrs['date']:\n",
    "    fechas.append(str(datetime.strptime(d, '%m/%d/%Y').date()))\n",
    "\n",
    "otherpcrs['date'] = fechas"
   ]
  },
  {
   "cell_type": "code",
   "execution_count": 193,
   "id": "9deb3fc8",
   "metadata": {},
   "outputs": [
    {
     "data": {
      "text/plain": [
       "15414"
      ]
     },
     "execution_count": 193,
     "metadata": {},
     "output_type": "execute_result"
    }
   ],
   "source": [
    "# joining dataframes\n",
    "pcrs = pd.concat([mainpcrs, otherpcrs])\n",
    "len(pcrs)"
   ]
  },
  {
   "cell_type": "code",
   "execution_count": 194,
   "id": "ed330485",
   "metadata": {},
   "outputs": [],
   "source": [
    "# sorting df\n",
    "pcrs = pcrs.sort_values(by = 'id')\n",
    "pcrs = pcrs.reset_index(drop = True)"
   ]
  },
  {
   "cell_type": "code",
   "execution_count": 195,
   "id": "49c11854",
   "metadata": {},
   "outputs": [],
   "source": [
    "pcrs = pcrs.drop_duplicates()"
   ]
  },
  {
   "cell_type": "code",
   "execution_count": 196,
   "id": "7bb4c64e",
   "metadata": {},
   "outputs": [
    {
     "data": {
      "text/plain": [
       "[('005cad4958846409', (['Case 1'], [['2020-09-25', '2021-07-23']])),\n",
       " ('0065b57e5a9e784f', (['Case 1'], [['2020-03-26', '2022-01-14']])),\n",
       " ('006e5a1bf72e8b73', (['Case 1'], [['2020-11-17', '2021-11-07']])),\n",
       " ('009d11a2497f1d47', (['Case 2'], [['2020-10-14', '2021-09-13']])),\n",
       " ('00a5cf0620b6adfc', (['Case 2'], [['2020-10-26', '2021-12-14']]))]"
      ]
     },
     "execution_count": 196,
     "metadata": {},
     "output_type": "execute_result"
    }
   ],
   "source": [
    "from itertools import islice\n",
    "\n",
    "def take(n, iterable):\n",
    "    \"Return first n items of the iterable as a list\"\n",
    "    return list(islice(iterable, n))\n",
    "\n",
    "take(5, dates_dict.items())"
   ]
  },
  {
   "cell_type": "code",
   "execution_count": 197,
   "id": "28c913e7",
   "metadata": {},
   "outputs": [],
   "source": [
    "# getting dates of first PCR of first and second episode\n",
    "k = []\n",
    "v = []\n",
    "for x in dates_dict.keys():\n",
    "    try:\n",
    "        v.append(dates_dict[x][1][0][0])\n",
    "        v.append(dates_dict[x][1][0][1])\n",
    "        k.append(x)\n",
    "        k.append(x)\n",
    "    except IndexError: # avoiding empty values\n",
    "        pass"
   ]
  },
  {
   "cell_type": "code",
   "execution_count": 198,
   "id": "0cd14c2c",
   "metadata": {},
   "outputs": [],
   "source": [
    "tolabel = pd.DataFrame(data = {'id':k, 'date':v})"
   ]
  },
  {
   "cell_type": "code",
   "execution_count": 203,
   "id": "a32283b2",
   "metadata": {
    "scrolled": true
   },
   "outputs": [],
   "source": [
    "labels = pd.merge(tolabel, pcrs, on = ['id', 'date'])"
   ]
  },
  {
   "cell_type": "code",
   "execution_count": 204,
   "id": "35299cd1",
   "metadata": {},
   "outputs": [
    {
     "data": {
      "text/html": [
       "<div>\n",
       "<style scoped>\n",
       "    .dataframe tbody tr th:only-of-type {\n",
       "        vertical-align: middle;\n",
       "    }\n",
       "\n",
       "    .dataframe tbody tr th {\n",
       "        vertical-align: top;\n",
       "    }\n",
       "\n",
       "    .dataframe thead th {\n",
       "        text-align: right;\n",
       "    }\n",
       "</style>\n",
       "<table border=\"1\" class=\"dataframe\">\n",
       "  <thead>\n",
       "    <tr style=\"text-align: right;\">\n",
       "      <th></th>\n",
       "      <th>id</th>\n",
       "      <th>date</th>\n",
       "      <th>label</th>\n",
       "    </tr>\n",
       "  </thead>\n",
       "  <tbody>\n",
       "    <tr>\n",
       "      <th>0</th>\n",
       "      <td>005cad4958846409</td>\n",
       "      <td>2020-09-25</td>\n",
       "      <td>39f6cdad6da41b7a2859bb35a23fb6e1</td>\n",
       "    </tr>\n",
       "    <tr>\n",
       "      <th>1</th>\n",
       "      <td>005cad4958846409</td>\n",
       "      <td>2021-07-23</td>\n",
       "      <td>2c0e42e7c3ab6c403c92509dbe41addf</td>\n",
       "    </tr>\n",
       "    <tr>\n",
       "      <th>2</th>\n",
       "      <td>0065b57e5a9e784f</td>\n",
       "      <td>2020-03-26</td>\n",
       "      <td>cdbee5316fd40f0e7693e10ad17e032e</td>\n",
       "    </tr>\n",
       "    <tr>\n",
       "      <th>3</th>\n",
       "      <td>0065b57e5a9e784f</td>\n",
       "      <td>2022-01-14</td>\n",
       "      <td>c89a8ef002f5963d9c5f68571c6b51d2</td>\n",
       "    </tr>\n",
       "    <tr>\n",
       "      <th>4</th>\n",
       "      <td>006e5a1bf72e8b73</td>\n",
       "      <td>2020-11-17</td>\n",
       "      <td>b349230151f241423c92509dbe41addf</td>\n",
       "    </tr>\n",
       "    <tr>\n",
       "      <th>...</th>\n",
       "      <td>...</td>\n",
       "      <td>...</td>\n",
       "      <td>...</td>\n",
       "    </tr>\n",
       "    <tr>\n",
       "      <th>6551</th>\n",
       "      <td>ff9318bd975b7050</td>\n",
       "      <td>2021-01-25</td>\n",
       "      <td>ef5941b7993c83053c92509dbe41addf</td>\n",
       "    </tr>\n",
       "    <tr>\n",
       "      <th>6552</th>\n",
       "      <td>ffabda76a8fbaecd</td>\n",
       "      <td>2020-11-27</td>\n",
       "      <td>c81dcd0ede2fa37e9c5f68571c6b51d2</td>\n",
       "    </tr>\n",
       "    <tr>\n",
       "      <th>6553</th>\n",
       "      <td>ffabda76a8fbaecd</td>\n",
       "      <td>2022-01-17</td>\n",
       "      <td>fec243b129461923753c712f07de27fe</td>\n",
       "    </tr>\n",
       "    <tr>\n",
       "      <th>6554</th>\n",
       "      <td>ffc2d5ab7d2ad39e</td>\n",
       "      <td>2020-10-17</td>\n",
       "      <td>2ecd0634b087998a1f2b47738c0d648a</td>\n",
       "    </tr>\n",
       "    <tr>\n",
       "      <th>6555</th>\n",
       "      <td>ffc2d5ab7d2ad39e</td>\n",
       "      <td>2021-07-17</td>\n",
       "      <td>ebbf9ff59ade44a8499353abde37bb26</td>\n",
       "    </tr>\n",
       "  </tbody>\n",
       "</table>\n",
       "<p>6556 rows × 3 columns</p>\n",
       "</div>"
      ],
      "text/plain": [
       "                    id        date                             label\n",
       "0     005cad4958846409  2020-09-25  39f6cdad6da41b7a2859bb35a23fb6e1\n",
       "1     005cad4958846409  2021-07-23  2c0e42e7c3ab6c403c92509dbe41addf\n",
       "2     0065b57e5a9e784f  2020-03-26  cdbee5316fd40f0e7693e10ad17e032e\n",
       "3     0065b57e5a9e784f  2022-01-14  c89a8ef002f5963d9c5f68571c6b51d2\n",
       "4     006e5a1bf72e8b73  2020-11-17  b349230151f241423c92509dbe41addf\n",
       "...                ...         ...                               ...\n",
       "6551  ff9318bd975b7050  2021-01-25  ef5941b7993c83053c92509dbe41addf\n",
       "6552  ffabda76a8fbaecd  2020-11-27  c81dcd0ede2fa37e9c5f68571c6b51d2\n",
       "6553  ffabda76a8fbaecd  2022-01-17  fec243b129461923753c712f07de27fe\n",
       "6554  ffc2d5ab7d2ad39e  2020-10-17  2ecd0634b087998a1f2b47738c0d648a\n",
       "6555  ffc2d5ab7d2ad39e  2021-07-17  ebbf9ff59ade44a8499353abde37bb26\n",
       "\n",
       "[6556 rows x 3 columns]"
      ]
     },
     "execution_count": 204,
     "metadata": {},
     "output_type": "execute_result"
    }
   ],
   "source": [
    "# labels of first PCR of 1st and 2nd episode\n",
    "labels"
   ]
  },
  {
   "cell_type": "code",
   "execution_count": 205,
   "id": "b12d3c14",
   "metadata": {},
   "outputs": [],
   "source": [
    "# saving dataframe\n",
    "labels.to_csv('../data/new_version/first_pcr_labels.csv', index = False, sep = ';')"
   ]
  },
  {
   "cell_type": "code",
   "execution_count": 255,
   "id": "8ac38010",
   "metadata": {},
   "outputs": [],
   "source": [
    "# adding case 1/2\n",
    "labels['case'] = ''\n",
    "for i in dates_dict.keys():\n",
    "    try:\n",
    "        labels.loc[labels['id'] == i, 'case'] = dates_dict[i][0][0]\n",
    "    except IndexError:\n",
    "        pass"
   ]
  },
  {
   "cell_type": "code",
   "execution_count": 243,
   "id": "910b0358",
   "metadata": {},
   "outputs": [],
   "source": [
    "# adding sequencing info\n",
    "# loading data\n",
    "seqqq = pd.read_csv('../data/patients_vaccines.csv', sep = '\\t')\n",
    "seqqq = seqqq[['ID_ANONIMITZAT', 'ETIQUETA_1_ANOMIM', 'SEQ_MOSTRA_1',\n",
    "              'ETIQUETA_2_ANOMIM', 'SEQ_MOSTRA_2']]"
   ]
  },
  {
   "cell_type": "code",
   "execution_count": 251,
   "id": "17d7e4c7",
   "metadata": {},
   "outputs": [],
   "source": [
    "seqqq = seqqq.rename({'ID_ANONIMITZAT':'id', 'ETIQUETA_1_ANOMIM':'label1',\n",
    "                   'SEQ_MOSTRA_1':'seq1', 'ETIQUETA_2_ANOMIM':'label2',\n",
    "                   'SEQ_MOSTRA_2':'seq2'}, axis = 1)"
   ]
  },
  {
   "cell_type": "code",
   "execution_count": 296,
   "id": "3980f666",
   "metadata": {},
   "outputs": [],
   "source": [
    "labels['seq'] = '?'\n",
    "for x in labels['label']:\n",
    "    if x in list(seqqq['label1']):\n",
    "        valor = seqqq.loc[seqqq['label1'] == x, 'seq1'].to_string(index = False)\n",
    "        labels.loc[labels['label'] == x, 'seq'] = valor\n",
    "    elif x in list(seqqq['label2']):\n",
    "        valor = seqqq.loc[seqqq['label2'] == x, 'seq2'].to_string(index = False)\n",
    "        labels.loc[labels['label'] == x, 'seq'] = valor"
   ]
  },
  {
   "cell_type": "code",
   "execution_count": 299,
   "id": "fd925329",
   "metadata": {},
   "outputs": [
    {
     "data": {
      "text/plain": [
       "array(['NaN\\nNaN', 'NaN', 'X', '?', 'X\\nX', 'NaN\\n  X'], dtype=object)"
      ]
     },
     "execution_count": 299,
     "metadata": {},
     "output_type": "execute_result"
    }
   ],
   "source": [
    "labels['seq'].unique()"
   ]
  },
  {
   "cell_type": "code",
   "execution_count": 302,
   "id": "eecd408a",
   "metadata": {},
   "outputs": [
    {
     "data": {
      "text/html": [
       "<div>\n",
       "<style scoped>\n",
       "    .dataframe tbody tr th:only-of-type {\n",
       "        vertical-align: middle;\n",
       "    }\n",
       "\n",
       "    .dataframe tbody tr th {\n",
       "        vertical-align: top;\n",
       "    }\n",
       "\n",
       "    .dataframe thead th {\n",
       "        text-align: right;\n",
       "    }\n",
       "</style>\n",
       "<table border=\"1\" class=\"dataframe\">\n",
       "  <thead>\n",
       "    <tr style=\"text-align: right;\">\n",
       "      <th></th>\n",
       "      <th>id</th>\n",
       "      <th>date</th>\n",
       "      <th>label</th>\n",
       "      <th>case</th>\n",
       "      <th>seq</th>\n",
       "    </tr>\n",
       "  </thead>\n",
       "  <tbody>\n",
       "    <tr>\n",
       "      <th>1731</th>\n",
       "      <td>4503707174185538</td>\n",
       "      <td>2022-01-21</td>\n",
       "      <td>448c40b818e5ff3f499353abde37bb26</td>\n",
       "      <td>Case 1</td>\n",
       "      <td>NaN\\n  X</td>\n",
       "    </tr>\n",
       "    <tr>\n",
       "      <th>5688</th>\n",
       "      <td>de6b49e26d06de53</td>\n",
       "      <td>2021-06-15</td>\n",
       "      <td>448c40b818e5ff3f499353abde37bb26</td>\n",
       "      <td>Case 1</td>\n",
       "      <td>NaN\\n  X</td>\n",
       "    </tr>\n",
       "  </tbody>\n",
       "</table>\n",
       "</div>"
      ],
      "text/plain": [
       "                    id        date                             label    case  \\\n",
       "1731  4503707174185538  2022-01-21  448c40b818e5ff3f499353abde37bb26  Case 1   \n",
       "5688  de6b49e26d06de53  2021-06-15  448c40b818e5ff3f499353abde37bb26  Case 1   \n",
       "\n",
       "           seq  \n",
       "1731  NaN\\n  X  \n",
       "5688  NaN\\n  X  "
      ]
     },
     "execution_count": 302,
     "metadata": {},
     "output_type": "execute_result"
    }
   ],
   "source": [
    "labels.loc[labels['seq'] == 'NaN\\n  X']\n",
    "# same label asigned to 2 patients/PCRs - discard??"
   ]
  },
  {
   "cell_type": "code",
   "execution_count": 308,
   "id": "c11f51d2",
   "metadata": {},
   "outputs": [],
   "source": [
    "# changing values for clearer ones\n",
    "labels['seq'] = labels['seq'].replace(['NaN\\nNaN', 'NaN', 'X', '?', 'X\\nX', 'NaN\\n  X'],\n",
    "                                     ['No', 'No', 'Yes', 'Unknown', 'Yes', 'Labeling error'])"
   ]
  },
  {
   "cell_type": "code",
   "execution_count": 312,
   "id": "6afaf4aa",
   "metadata": {},
   "outputs": [
    {
     "data": {
      "text/plain": [
       "No                5579\n",
       "Yes                674\n",
       "Unknown            301\n",
       "Labeling error       2\n",
       "Name: seq, dtype: int64"
      ]
     },
     "execution_count": 312,
     "metadata": {},
     "output_type": "execute_result"
    }
   ],
   "source": [
    "labels['seq'].value_counts()"
   ]
  },
  {
   "cell_type": "code",
   "execution_count": 313,
   "id": "1eb941e1",
   "metadata": {},
   "outputs": [],
   "source": [
    "# saving table\n",
    "labels.to_csv('../data/new_version/first_pcrs_labels2.tsv', sep = '\\t', index = False)"
   ]
  },
  {
   "cell_type": "code",
   "execution_count": 319,
   "id": "752a76da",
   "metadata": {},
   "outputs": [],
   "source": [
    "# labels of patients with at least one episode sequenced\n",
    "sequenced_labels = labels.loc[labels['id'].isin([x for x in list(FC1_seq.keys()) if FC1_seq[x] != 'Not sequenced'])]"
   ]
  },
  {
   "cell_type": "code",
   "execution_count": 321,
   "id": "27bfded5",
   "metadata": {},
   "outputs": [],
   "source": [
    "sequenced_labels.to_csv('../data/at_least_one_sequenced.tsv', sep = '\\t', index = False)"
   ]
  },
  {
   "cell_type": "code",
   "execution_count": 317,
   "id": "f2b30c3b",
   "metadata": {},
   "outputs": [
    {
     "data": {
      "text/plain": [
       "{'0065b57e5a9e784f': 'Not sequenced',\n",
       " '006e5a1bf72e8b73': 'Not sequenced',\n",
       " '012a57320c31a43f': 'Not sequenced',\n",
       " '01394866d1e64c72': 'Not sequenced',\n",
       " '0139873673801ea0': 'Not sequenced',\n",
       " '015271b745049623': 'Not sequenced',\n",
       " '0165639a7fb80826': 'Not sequenced',\n",
       " '0180c7c2db07677c': 'Not sequenced',\n",
       " '0198a2202a0f910a': 'Not sequenced',\n",
       " '019d07016a193c91': 'Not sequenced',\n",
       " '02474e25f210a54e': 'Not sequenced',\n",
       " '025541d83c991e99': 'Second PCR sequenced',\n",
       " '027b9184f7dbddbc': 'Not sequenced',\n",
       " '029a76ff90fb8864': 'Not sequenced',\n",
       " '0399ae7bc4dc5ec2': 'Second PCR sequenced',\n",
       " '03a40fbdc75577c2': 'Not sequenced',\n",
       " '03d38fb5a84a8743': 'Not sequenced',\n",
       " '03f5c16d10eb728c': 'Not sequenced',\n",
       " '04331717c9eea2a9': 'Second PCR sequenced',\n",
       " '04aea0dd143a343f': 'Not sequenced',\n",
       " '04b811cabbdbc14a': 'Second PCR sequenced',\n",
       " '050959aa7d01094b': 'Not sequenced',\n",
       " '0532b9ea3920a490': 'Not sequenced',\n",
       " '055c55d1219ffe46': 'Not sequenced',\n",
       " '0570420927a29e50': 'Second PCR sequenced',\n",
       " '057d5279fd23a279': 'Not sequenced',\n",
       " '063a74253f875967': 'Not sequenced',\n",
       " '0691e1ed8f00fc7b': 'Second PCR sequenced',\n",
       " '072885e234c31f6f': 'Second PCR sequenced',\n",
       " '0753f79705364a79': 'Not sequenced',\n",
       " '077a98b352e1bc43': 'Not sequenced',\n",
       " '07ca27d774c0194e': 'Not sequenced',\n",
       " '08108a5805d07b86': 'Not sequenced',\n",
       " '082f30d8092b9132': 'Not sequenced',\n",
       " '086b40f56456126f': 'Not sequenced',\n",
       " '08dbe0ed01fce4f6': 'Not sequenced',\n",
       " '08e209357f4f7c29': 'Not sequenced',\n",
       " '08f8d90194e4c550': 'Not sequenced',\n",
       " '091b0939a641d9e1': 'Not sequenced',\n",
       " '093c6f10aa5352a6': 'Not sequenced',\n",
       " '0968421fb0e02d16': 'Second PCR sequenced',\n",
       " '09980ee89f17be74': 'First PCR sequenced',\n",
       " '09b257807ac60f6d': 'Not sequenced',\n",
       " '09e6c14f26594da8': 'Not sequenced',\n",
       " '0a50612070281d8e': 'Not sequenced',\n",
       " '0b015fa18c5d9f75': 'Second PCR sequenced',\n",
       " '0b0f8279eed6dd86': 'Not sequenced',\n",
       " '0b1d11145e8e4660': 'Not sequenced',\n",
       " '0b222c1b7f6dfc01': 'Second PCR sequenced',\n",
       " '0b29ef502f73777d': 'Second PCR sequenced',\n",
       " '0b5b059a467f13d1': 'Not sequenced',\n",
       " '0baa180ff2cf54d4': 'Not sequenced',\n",
       " '0bd682e57a2ae797': 'Not sequenced',\n",
       " '0c215d1979ea0f10': 'Not sequenced',\n",
       " '0c945e8604f75285': 'Not sequenced',\n",
       " '0cc4c0872930a941': 'Not sequenced',\n",
       " '0cc7808cb974a644': 'Not sequenced',\n",
       " '0d071959bf6aa27f': 'Not sequenced',\n",
       " '0d33583e17e86d89': 'Second PCR sequenced',\n",
       " '0d40f8ef1ed32286': 'Not sequenced',\n",
       " '0d5ea1ff9a55148a': 'Not sequenced',\n",
       " '0d63d0638f7fdb87': 'Not sequenced',\n",
       " '0d7098a09c42747f': 'Second PCR sequenced',\n",
       " '0dc38000449f0efc': 'Not sequenced',\n",
       " '0df600adaea7a892': 'Second PCR sequenced',\n",
       " '0e4d0840d42f1f99': 'Not sequenced',\n",
       " '0efe2e67b10abefb': 'Not sequenced',\n",
       " '0f16b7b61fa49783': 'Not sequenced',\n",
       " '0f1a5e1ed99af081': 'Second PCR sequenced',\n",
       " '0f4f2fcf4f051202': 'Not sequenced',\n",
       " '0f78716194f8658e': 'Not sequenced',\n",
       " '0f7f9db844befaa5': 'Not sequenced',\n",
       " '0f87a6f83e50dcdd': 'Not sequenced',\n",
       " '0fb9755361adffc4': 'Second PCR sequenced',\n",
       " '0fd2abcbe2e4f5fd': 'Not sequenced',\n",
       " '0fde4f389350ea59': 'Not sequenced',\n",
       " '0ff7cda045b0628c': 'Second PCR sequenced',\n",
       " '101d88f2d4a09681': 'Not sequenced',\n",
       " '10273d0df6de0576': 'Not sequenced',\n",
       " '106b0f08d0ffb8ea': 'Not sequenced',\n",
       " '10ced85ce12f913c': 'Second PCR sequenced',\n",
       " '11762e7249a4fc41': 'Not sequenced',\n",
       " '11a3d95d4bb7eb85': 'Not sequenced',\n",
       " '128e8102c1379f9a': 'Not sequenced',\n",
       " '12acd14ff95720e8': 'Not sequenced',\n",
       " '12d1e1f1e8af5f7f': 'Second PCR sequenced',\n",
       " '12d7dcd7a70a03d6': 'Not sequenced',\n",
       " '1344c915b0a8e8bb': 'Not sequenced',\n",
       " '135e4ee2303eb671': 'Not sequenced',\n",
       " '13a77a90bad9ae0f': 'Second PCR sequenced',\n",
       " '140d70021c083162': 'Not sequenced',\n",
       " '14a4f8b0eac2df3a': 'Not sequenced',\n",
       " '14acaffc5c0f16eb': 'Not sequenced',\n",
       " '151f827a6fa8f883': 'Second PCR sequenced',\n",
       " '1562bf48add5f83e': 'Not sequenced',\n",
       " '165a1715d57599b7': 'Not sequenced',\n",
       " '165e3c574cdb5053': 'Not sequenced',\n",
       " '1686e6a536b90e62': 'Not sequenced',\n",
       " '169b275133efbce0': 'Not sequenced',\n",
       " '172cc30279c8f3a6': 'Not sequenced',\n",
       " '175057c307122f94': 'Not sequenced',\n",
       " '176436a04a951a7d': 'Not sequenced',\n",
       " '17cd588eb5fd42bd': 'Not sequenced',\n",
       " '17fe2a87fe294696': 'Not sequenced',\n",
       " '1801228a85aca33b': 'Second PCR sequenced',\n",
       " '180e87a1b960bd82': 'Not sequenced',\n",
       " '182bc59e6e59d371': 'Not sequenced',\n",
       " '184031df7c623301': 'Not sequenced',\n",
       " '184422982d3e1e88': 'Not sequenced',\n",
       " '18830b97795ece4c': 'Not sequenced',\n",
       " '18b1c502191eea30': 'Not sequenced',\n",
       " '18fe5a70eb281c53': 'Not sequenced',\n",
       " '1934976b2939118c': 'Second PCR sequenced',\n",
       " '193724a5a3ec4cb7': 'Not sequenced',\n",
       " '195d75ad37256f20': 'Not sequenced',\n",
       " '199ff2b495d01baa': 'Second PCR sequenced',\n",
       " '19a8993690e2ecaf': 'Second PCR sequenced',\n",
       " '19c98cbc456f1338': 'Not sequenced',\n",
       " '1a2f32776b6de0c7': 'Not sequenced',\n",
       " '1a67d81cbbf11a34': 'Not sequenced',\n",
       " '1aaad41f95302146': 'Not sequenced',\n",
       " '1b954f25e845cefa': 'Not sequenced',\n",
       " '1b97eafb91cd2857': 'Not sequenced',\n",
       " '1bfa992899503b3b': 'Not sequenced',\n",
       " '1c3ed1b210e27bc3': 'Not sequenced',\n",
       " '1c46ce81e3583364': 'Not sequenced',\n",
       " '1c73a2656bb1ef2f': 'Not sequenced',\n",
       " '1cd72d3c86b1adbb': 'Not sequenced',\n",
       " '1d185f0f37d1e202': 'Not sequenced',\n",
       " '1d94a9cbb74e61f0': 'Not sequenced',\n",
       " '1dc5724cacd38ad5': 'Not sequenced',\n",
       " '1e15200374055dd0': 'Second PCR sequenced',\n",
       " '1e51db801cac84e4': 'Not sequenced',\n",
       " '1e54f3aeb5a5443f': 'Not sequenced',\n",
       " '1e55e3245cdf8446': 'Not sequenced',\n",
       " '1e5dd36ee0afaaa0': 'Second PCR sequenced',\n",
       " '1f02c128bb5b4f63': 'Not sequenced',\n",
       " '1f063570af88c2f1': 'Not sequenced',\n",
       " '1f5d89e54a150ad3': 'Not sequenced',\n",
       " '1f6a0755e297c42c': 'Not sequenced',\n",
       " '1faabf0de1cb7da9': 'Not sequenced',\n",
       " '1fc12c4c4b02c267': 'First PCR sequenced',\n",
       " '1fe4e91b9b02f948': 'Not sequenced',\n",
       " '200dba4daf10dc62': 'Not sequenced',\n",
       " '201f3974c51ef7da': 'Not sequenced',\n",
       " '203d4637148e2a1d': 'Not sequenced',\n",
       " '204008d03e598dad': 'Second PCR sequenced',\n",
       " '20405648c24ab8c3': 'Second PCR sequenced',\n",
       " '2061a47b5aa0e6ed': 'Not sequenced',\n",
       " '209e942eba1944f1': 'First PCR sequenced',\n",
       " '20e2c09176faca20': 'First PCR sequenced',\n",
       " '20f002bc3d0f46fe': 'Second PCR sequenced',\n",
       " '20fd0f95a715b06e': 'Not sequenced',\n",
       " '2136309d148284d0': 'Not sequenced',\n",
       " '2145141a4d1e59c6': 'Not sequenced',\n",
       " '214d252da6c40cca': 'Not sequenced',\n",
       " '21c21fdbcf17cbaf': 'Not sequenced',\n",
       " '222ae6bd5bd3de39': 'Not sequenced',\n",
       " '2237c3b509f6d6cf': 'Not sequenced',\n",
       " '2245e8795f642f70': 'Not sequenced',\n",
       " '2252e161e6a9b85f': 'Not sequenced',\n",
       " '22d1baa959bd93d8': 'Not sequenced',\n",
       " '22d255fb8c1647f0': 'Not sequenced',\n",
       " '22f79bdf4f9af9ce': 'Not sequenced',\n",
       " '22fb2c2b7f5a1538': 'Second PCR sequenced',\n",
       " '233a6cb2997d4e07': 'First PCR sequenced',\n",
       " '23f79faab0bb73d6': 'Not sequenced',\n",
       " '246b79d991ac43d5': 'Not sequenced',\n",
       " '24e1b758aa5cc0a1': 'Both sequenced',\n",
       " '24ed2b262edd7cff': 'Not sequenced',\n",
       " '25263c8ecd1f8bc5': 'Not sequenced',\n",
       " '252c75caef6742c7': 'First PCR sequenced',\n",
       " '257a32af4275d8ed': 'Not sequenced',\n",
       " '263606a01e45dff2': 'Not sequenced',\n",
       " '2677d7ad091018c7': 'Not sequenced',\n",
       " '268f19398fac6fc6': 'Not sequenced',\n",
       " '269d1cc3880aac77': 'Not sequenced',\n",
       " '26b66f958fa22204': 'Second PCR sequenced',\n",
       " '26cbbc4ec05ee8c5': 'Not sequenced',\n",
       " '2701d7a5c3be71ec': 'Not sequenced',\n",
       " '271c05e013b3ebda': 'Not sequenced',\n",
       " '2763b5319dc80f35': 'Second PCR sequenced',\n",
       " '27bf06374b772566': 'Not sequenced',\n",
       " '27c4d5145423d6e5': 'Not sequenced',\n",
       " '27c83e0a37a9e557': 'First PCR sequenced',\n",
       " '27f15357ba724bb8': 'First PCR sequenced',\n",
       " '280dd3c5620305fa': 'Not sequenced',\n",
       " '2823719b93370a81': 'Not sequenced',\n",
       " '284d1b17a1b53c15': 'Second PCR sequenced',\n",
       " '2868f20b4a922a71': 'Not sequenced',\n",
       " '28885f9baeaaabce': 'Second PCR sequenced',\n",
       " '28a13fd1bdceb7d2': 'Not sequenced',\n",
       " '28c1acf7aa8b67f0': 'Not sequenced',\n",
       " '28c94366694b4156': 'Not sequenced',\n",
       " '2958563492035d4d': 'Not sequenced',\n",
       " '29d6a3ee6b35cda0': 'Not sequenced',\n",
       " '2a797d3b3e553b9f': 'Not sequenced',\n",
       " '2ab1e94ea5d4c3f3': 'Second PCR sequenced',\n",
       " '2b1d88e21762eefd': 'Not sequenced',\n",
       " '2b47be6fc2f5be38': 'Not sequenced',\n",
       " '2b73dd4f1bb9105f': 'Not sequenced',\n",
       " '2b7618b90804eff2': 'Not sequenced',\n",
       " '2b88ccb338835f18': 'Not sequenced',\n",
       " '2bcc93ffa456229e': 'Second PCR sequenced',\n",
       " '2be199c4ca1c93fc': 'First PCR sequenced',\n",
       " '2c160dc3888e7a04': 'Not sequenced',\n",
       " '2c78b856755f078f': 'First PCR sequenced',\n",
       " '2cfaf3b24ac9b6e5': 'Not sequenced',\n",
       " '2d1e6ffdf7a5a6e9': 'Not sequenced',\n",
       " '2d23be7dd66d43d8': 'Not sequenced',\n",
       " '2d5c3ced7f0877f0': 'Not sequenced',\n",
       " '2d5fb657e6cae367': 'Second PCR sequenced',\n",
       " '2d656f2571b767b6': 'Not sequenced',\n",
       " '2d8aa2504dd97886': 'Not sequenced',\n",
       " '2dd190422e000cfa': 'Second PCR sequenced',\n",
       " '2de67a700d987780': 'Second PCR sequenced',\n",
       " '2df19001dd09cb30': 'Not sequenced',\n",
       " '2e42e5221b681c68': 'Not sequenced',\n",
       " '2e4541d6601b46ce': 'Not sequenced',\n",
       " '2e4ddf685c28d989': 'Not sequenced',\n",
       " '2ea62d2f72d0e65f': 'Not sequenced',\n",
       " '2eeeef744c1b08dd': 'Not sequenced',\n",
       " '2ef41d75f2af311a': 'Not sequenced',\n",
       " '2eff12346e5573ae': 'Second PCR sequenced',\n",
       " '2f382e2c6f4842f8': 'Not sequenced',\n",
       " '2f74b0d7ba861c04': 'Not sequenced',\n",
       " '2fa11f0abf74bd90': 'Not sequenced',\n",
       " '2fe2396049fd26b6': 'Not sequenced',\n",
       " '2fef326240840577': 'Not sequenced',\n",
       " '300b83a2e9325b96': 'Second PCR sequenced',\n",
       " '3023605322f5e353': 'First PCR sequenced',\n",
       " '305aa079dee1e1da': 'First PCR sequenced',\n",
       " '3094144969a85f26': 'Not sequenced',\n",
       " '30ed38e503dc95db': 'Not sequenced',\n",
       " '3102fb5beb527207': 'Not sequenced',\n",
       " '310a74983d6c531a': 'Not sequenced',\n",
       " '310bb3e15c046da1': 'Not sequenced',\n",
       " '311665784e61eb97': 'Not sequenced',\n",
       " '319004a95ec6d77b': 'Not sequenced',\n",
       " '3198e4418576422f': 'Second PCR sequenced',\n",
       " '31cafcdaadffcb1d': 'Second PCR sequenced',\n",
       " '324190d2ac38ca2f': 'Second PCR sequenced',\n",
       " '3241e0d59aa288d3': 'Not sequenced',\n",
       " '3272e1c9ce084b89': 'Not sequenced',\n",
       " '32a5d620ac943637': 'Not sequenced',\n",
       " '32a8a5e6f358e71c': 'Not sequenced',\n",
       " '32b952a0f8e96291': 'Not sequenced',\n",
       " '32d66d501fd06daa': 'Not sequenced',\n",
       " '33185b233e752237': 'Second PCR sequenced',\n",
       " '332d05db65d4d367': 'Second PCR sequenced',\n",
       " '3350451965202c71': 'Not sequenced',\n",
       " '343096ab06465681': 'Not sequenced',\n",
       " '3456c199dac36389': 'Not sequenced',\n",
       " '351c343941d3f306': 'Not sequenced',\n",
       " '352ed0e3e27d4b58': 'Not sequenced',\n",
       " '35387ab4095f19a1': 'Not sequenced',\n",
       " '35eba47220ef4e31': 'Not sequenced',\n",
       " '36ec1f946ff37a3d': 'Second PCR sequenced',\n",
       " '372fa4d54397c5a7': 'Not sequenced',\n",
       " '374a2a86aa7d846d': 'Not sequenced',\n",
       " '378302e51fe0705b': 'Not sequenced',\n",
       " '37bb6d5743139f13': 'Not sequenced',\n",
       " '37f17eed313c63c3': 'Not sequenced',\n",
       " '38711b81f8bb3f85': 'Second PCR sequenced',\n",
       " '38c39a9427abfa1e': 'Not sequenced',\n",
       " '38ce47ae89625e69': 'Not sequenced',\n",
       " '38f30fe59bf87502': 'Second PCR sequenced',\n",
       " '39a363e3ca6800a8': 'Not sequenced',\n",
       " '3a03edcac0a26913': 'Not sequenced',\n",
       " '3a0c24e891f89e0f': 'Not sequenced',\n",
       " '3a3a982c29cfdcd5': 'Second PCR sequenced',\n",
       " '3a4cc7ffcf725ea5': 'Second PCR sequenced',\n",
       " '3a88f32229f18064': 'First PCR sequenced',\n",
       " '3b1793262b0a9ea6': 'Not sequenced',\n",
       " '3b456eed17cacef4': 'Not sequenced',\n",
       " '3bb0f23e988d9769': 'Not sequenced',\n",
       " '3c466d6d16578c95': 'Not sequenced',\n",
       " '3c720edef8e45d11': 'Not sequenced',\n",
       " '3c97ebcee0db6553': 'Not sequenced',\n",
       " '3cab79de294bef7f': 'Not sequenced',\n",
       " '3d73bd24366d1d83': 'Not sequenced',\n",
       " '3daa9e929580667f': 'Not sequenced',\n",
       " '3dc3cd1323fd37fd': 'Not sequenced',\n",
       " '3dd11fef03c63fb5': 'Not sequenced',\n",
       " '3df0ba26d840cb13': 'Not sequenced',\n",
       " '3e17c47258a7489d': 'Not sequenced',\n",
       " '3e59dfabe20d746e': 'Not sequenced',\n",
       " '3e7ad7d646eab86e': 'Not sequenced',\n",
       " '3e8769ef9c43f05c': 'Not sequenced',\n",
       " '3e8e76632688de19': 'Not sequenced',\n",
       " '3f151ed450e908c6': 'Not sequenced',\n",
       " '3f84d64f72c4e6cf': 'Not sequenced',\n",
       " '3fa107b6785fd17f': 'Not sequenced',\n",
       " '4015cf71f32ec675': 'Not sequenced',\n",
       " '404347ea850400c7': 'Not sequenced',\n",
       " '407acd436b1f3e00': 'Not sequenced',\n",
       " '407d55818c0b4a11': 'Not sequenced',\n",
       " '40b01c049cc9828e': 'Not sequenced',\n",
       " '40b3e2ad179d3711': 'Not sequenced',\n",
       " '40e406012ea547a9': 'Second PCR sequenced',\n",
       " '40eb039f51e764a2': 'Not sequenced',\n",
       " '41450ef9dc00666f': 'Not sequenced',\n",
       " '4157bbda4e9ef670': 'Not sequenced',\n",
       " '415b56efeb9a93b0': 'Not sequenced',\n",
       " '4237303f99b3dbec': 'Not sequenced',\n",
       " '4245f4745f44f658': 'Not sequenced',\n",
       " '42724eda019e3e97': 'Not sequenced',\n",
       " '42caf368a77cf3af': 'Not sequenced',\n",
       " '4309b3bb3da86f24': 'Not sequenced',\n",
       " '430fb1d92287cd6a': 'Second PCR sequenced',\n",
       " '43503dec97ad0990': 'Second PCR sequenced',\n",
       " '437e87e7416e6223': 'Second PCR sequenced',\n",
       " '438b0b173c7a6904': 'Not sequenced',\n",
       " '43d5fbded30374ed': 'Not sequenced',\n",
       " '43deffdc5c91f7ba': 'Not sequenced',\n",
       " '4400d26ea550d366': 'Not sequenced',\n",
       " '4407fc1925dc99c1': 'Not sequenced',\n",
       " '441a486872c4ecc1': 'Not sequenced',\n",
       " '4442f7b689d285a6': 'Second PCR sequenced',\n",
       " '445b3d7a7349aaeb': 'Not sequenced',\n",
       " '44bfcbf9b72fbc2a': 'Not sequenced',\n",
       " '44c721b7e79df8e6': 'Not sequenced',\n",
       " '44c8d983779f1266': 'Not sequenced',\n",
       " '44ca83ef1c724e64': 'Not sequenced',\n",
       " '4503707174185538': 'Second PCR sequenced',\n",
       " '45658c27ba7b557e': 'Not sequenced',\n",
       " '45920bef489613ef': 'Second PCR sequenced',\n",
       " '459c9df8388faae2': 'Not sequenced',\n",
       " '45e95dbd756cf246': 'Not sequenced',\n",
       " '468f5fc0c3524066': 'Not sequenced',\n",
       " '469f55ff650f7a9b': 'Not sequenced',\n",
       " '46bcb4612b1fdc7f': 'First PCR sequenced',\n",
       " '46f6cfe1e5633d2d': 'Not sequenced',\n",
       " '4754090c52204a38': 'Both sequenced',\n",
       " '47540c136caf5b52': 'Second PCR sequenced',\n",
       " '47632544c2b3b7e0': 'Not sequenced',\n",
       " '47c7ec9a86315926': 'First PCR sequenced',\n",
       " '4803b0c5d979ff87': 'Second PCR sequenced',\n",
       " '4839f7fb291bedbd': 'Second PCR sequenced',\n",
       " '485c4d2adc6050b7': 'Not sequenced',\n",
       " '489a75df77a76ff2': 'Second PCR sequenced',\n",
       " '489ce0b257444973': 'Not sequenced',\n",
       " '48e1a4434d6d7832': 'Second PCR sequenced',\n",
       " '48f25b70d370c214': 'Second PCR sequenced',\n",
       " '48f3f7a27b944944': 'Not sequenced',\n",
       " '48fe8d752adf36ba': 'Not sequenced',\n",
       " '49b968b49988c109': 'Not sequenced',\n",
       " '49d7e39d5e37b162': 'Not sequenced',\n",
       " '4a277a0e6d0239df': 'Not sequenced',\n",
       " '4a8a728e7ea376f3': 'Not sequenced',\n",
       " '4ac15605b01469e9': 'Not sequenced',\n",
       " '4ae8f9fde0810496': 'Not sequenced',\n",
       " '4b3a8e530175d13b': 'Second PCR sequenced',\n",
       " '4b3af9bf3b72e2b2': 'Not sequenced',\n",
       " '4b7d736bd7f8f238': 'Not sequenced',\n",
       " '4c096265eca87c35': 'Second PCR sequenced',\n",
       " '4c9ea7e2566a4f84': 'Not sequenced',\n",
       " '4d3efd1a0a3dcdb3': 'Second PCR sequenced',\n",
       " '4d4075a5db5d47ea': 'Not sequenced',\n",
       " '4d536ac64686557d': 'Not sequenced',\n",
       " '4d718c9de79631da': 'Second PCR sequenced',\n",
       " '4e06b92b385eaaec': 'Second PCR sequenced',\n",
       " '4e76c5751d3e9c92': 'Not sequenced',\n",
       " '4e8755767edadf94': 'Not sequenced',\n",
       " '4ec9cb2869bd7728': 'Not sequenced',\n",
       " '4f3aaa15404b9bda': 'Not sequenced',\n",
       " '4fb2d6c350244a42': 'Not sequenced',\n",
       " '4fdb8930f3ac0bd1': 'Not sequenced',\n",
       " '4fdf230dfc5b0185': 'Not sequenced',\n",
       " '4ff73658d0b03f49': 'Not sequenced',\n",
       " '502028d44379a1b9': 'Not sequenced',\n",
       " '504e61f05cfb7476': 'Not sequenced',\n",
       " '50dd4dc78709688a': 'Not sequenced',\n",
       " '50fde79188f8a0ce': 'Not sequenced',\n",
       " '51035b7317dff347': 'Not sequenced',\n",
       " '5129ba67ca1344a9': 'Not sequenced',\n",
       " '513dae7568c2ffb9': 'First PCR sequenced',\n",
       " '5146fc1021cb88e4': 'Second PCR sequenced',\n",
       " '5180f4d013ff56d9': 'Not sequenced',\n",
       " '51a8f157e286cc9c': 'Not sequenced',\n",
       " '51d5aeb1358c9eb6': 'Not sequenced',\n",
       " '51d7dd2c4594e366': 'Not sequenced',\n",
       " '5258e6d8f3e6c063': 'Not sequenced',\n",
       " '528fc77c35801621': 'Second PCR sequenced',\n",
       " '52abc4d163265fce': 'Not sequenced',\n",
       " '52e35a67353e86b2': 'Not sequenced',\n",
       " '53434362801922db': 'Not sequenced',\n",
       " '534a6e2cb3345b5b': 'Not sequenced',\n",
       " '53c40b66ab2d0b5f': 'Second PCR sequenced',\n",
       " '53c4df1a81000b71': 'Not sequenced',\n",
       " '53d79b9fe2bc9346': 'Not sequenced',\n",
       " '53e88776559aea62': 'Not sequenced',\n",
       " '5425e3a553325c01': 'Second PCR sequenced',\n",
       " '5458dde255d6c216': 'Not sequenced',\n",
       " '54f85057fe8d6f3e': 'Not sequenced',\n",
       " '551bebed7d1fabfa': 'Not sequenced',\n",
       " '556966078dfd161f': 'Not sequenced',\n",
       " '558525e0253a2537': 'Not sequenced',\n",
       " '559eb29f145a20d7': 'Second PCR sequenced',\n",
       " '55a508c810107ef0': 'Not sequenced',\n",
       " '56546be1998be7fe': 'Not sequenced',\n",
       " '56bd3c874c01323d': 'Not sequenced',\n",
       " '56c1acfe57335d78': 'Not sequenced',\n",
       " '570f93cf25e4a03a': 'Second PCR sequenced',\n",
       " '57133962af9762a7': 'Not sequenced',\n",
       " '5719544ed67c1106': 'Not sequenced',\n",
       " '5744f95c7eec7914': 'Not sequenced',\n",
       " '57ccf56af65b16ed': 'Not sequenced',\n",
       " '581d3e54375ffcb4': 'Second PCR sequenced',\n",
       " '586243cb12e97dec': 'Not sequenced',\n",
       " '58761c82aa65d737': 'Not sequenced',\n",
       " '58787fb529fa48ee': 'Not sequenced',\n",
       " '5898076c80a3a3c1': 'Not sequenced',\n",
       " '58b054a3c1dbaee3': 'Not sequenced',\n",
       " '58c8aaac30680ef3': 'Not sequenced',\n",
       " '58d1ea0fdd52d467': 'Not sequenced',\n",
       " '5982ca875edcfa91': 'Second PCR sequenced',\n",
       " '59934a53d991635d': 'Not sequenced',\n",
       " '599557f3c4a17294': 'Not sequenced',\n",
       " '59b5799eb25dfa86': 'Second PCR sequenced',\n",
       " '5a29fa50f6bc9e9c': 'Not sequenced',\n",
       " '5a6e83a8e43ec763': 'Not sequenced',\n",
       " '5a8967f3760b5317': 'Not sequenced',\n",
       " '5ab4f2789fd1d4dc': 'Not sequenced',\n",
       " '5ae5c9102aaf6508': 'Not sequenced',\n",
       " '5b0f6349e651ae29': 'First PCR sequenced',\n",
       " '5b4378df6fe7daa0': 'Second PCR sequenced',\n",
       " '5b68fa192b18fe69': 'Second PCR sequenced',\n",
       " '5bd8ee9d3f6f6291': 'Not sequenced',\n",
       " '5bec014207ee8544': 'Both sequenced',\n",
       " '5bf3957f71001cd5': 'Second PCR sequenced',\n",
       " '5c50653a59f7a93c': 'Not sequenced',\n",
       " '5c5b30473a81aef8': 'Not sequenced',\n",
       " '5c9339cffe60a7a3': 'Not sequenced',\n",
       " '5ce32b2912cf5293': 'Not sequenced',\n",
       " '5d57e39e28b072e9': 'Not sequenced',\n",
       " '5d7f7f36f75d02a4': 'Not sequenced',\n",
       " '5d811dc5afb14412': 'Not sequenced',\n",
       " '5d81984ee6da5637': 'Not sequenced',\n",
       " '5dad25e9417bbbe7': 'Not sequenced',\n",
       " '5db7c0c5157338a9': 'Not sequenced',\n",
       " '5dc5ec1c7f810666': 'Not sequenced',\n",
       " '5dc69c83dc5dd2e2': 'Second PCR sequenced',\n",
       " '5ddf3c7dabe161c3': 'Second PCR sequenced',\n",
       " '5e21d74c22964ae9': 'Not sequenced',\n",
       " '5e233ee75f51dd4a': 'Not sequenced',\n",
       " '5e2fc1362c7723db': 'Not sequenced',\n",
       " '5e445cf09dcf628d': 'Second PCR sequenced',\n",
       " '5e52a762dcd43469': 'Second PCR sequenced',\n",
       " '5ed3f7fe906208b6': 'Second PCR sequenced',\n",
       " '5ef40890849a46ac': 'Not sequenced',\n",
       " '5f05dfe447cca08b': 'Not sequenced',\n",
       " '5f16b0f1afc53f37': 'Not sequenced',\n",
       " '5f360972993cb495': 'Not sequenced',\n",
       " '5fcbecb30257b59b': 'Not sequenced',\n",
       " '5fe681daf3aac897': 'Not sequenced',\n",
       " '5fe8e0571868f5cd': 'Not sequenced',\n",
       " '6017f5182cf9439c': 'Not sequenced',\n",
       " '60272ce101711891': 'Second PCR sequenced',\n",
       " '60829c93e8123b4f': 'Not sequenced',\n",
       " '60c5188d86ad0a5b': 'Not sequenced',\n",
       " '6159f8ca00711289': 'Not sequenced',\n",
       " '618b654c026190d8': 'Not sequenced',\n",
       " '61c55258a55d3663': 'Not sequenced',\n",
       " '61c5fd8d71f842ec': 'Not sequenced',\n",
       " '628226575c3078e4': 'Not sequenced',\n",
       " '6297d41f3af88d21': 'Not sequenced',\n",
       " '62cef6bb2cc76ea6': 'Not sequenced',\n",
       " '62d77f994ccf0b3b': 'Not sequenced',\n",
       " '62e16275890ac314': 'Second PCR sequenced',\n",
       " '62f4afef31133996': 'Not sequenced',\n",
       " '6329d473d90954ca': 'Not sequenced',\n",
       " '632d99731fa56992': 'Not sequenced',\n",
       " '6361cbe155cbab2f': 'Not sequenced',\n",
       " '636432d91548b2eb': 'Not sequenced',\n",
       " '6388fcd91990c0ad': 'Not sequenced',\n",
       " '63a692f0e50660d2': 'Not sequenced',\n",
       " '63b1778171e51991': 'Not sequenced',\n",
       " '63c70a70a470c823': 'Not sequenced',\n",
       " '648ab581ae10d620': 'Not sequenced',\n",
       " '64c6049ae008e401': 'Not sequenced',\n",
       " '6565bfdfe41ed27b': 'Not sequenced',\n",
       " '656f67e3ad160e33': 'Not sequenced',\n",
       " '65c14e50be0d6899': 'Not sequenced',\n",
       " '65d7e27d60688ebb': 'Not sequenced',\n",
       " '661eaf5b54991d80': 'Not sequenced',\n",
       " '66c0b45417e3ae1e': 'Not sequenced',\n",
       " '66dd78e6765c7e2a': 'Not sequenced',\n",
       " '66ec3d4a8c503c36': 'Not sequenced',\n",
       " '67060b9dfa0c996a': 'Not sequenced',\n",
       " '673fe7434288dc5c': 'Not sequenced',\n",
       " '6764c17aac4e5b71': 'Second PCR sequenced',\n",
       " '6777d8304442a782': 'Second PCR sequenced',\n",
       " '67b35631412b19a8': 'Not sequenced',\n",
       " '67b8e6a7bf363434': 'Not sequenced',\n",
       " '68647ad69fdcc5ff': 'Not sequenced',\n",
       " '6899e0b638a12fa1': 'Second PCR sequenced',\n",
       " '68cf36c1bbf5937f': 'Not sequenced',\n",
       " '68eafe8f2d22dca7': 'Not sequenced',\n",
       " '695565383ddafeb6': 'Not sequenced',\n",
       " '695941382f0cbf24': 'Not sequenced',\n",
       " '6963e06a19d07ec5': 'Not sequenced',\n",
       " '69b14a7a2afed658': 'Not sequenced',\n",
       " '6a216caa169cbf6c': 'Not sequenced',\n",
       " '6a81496e1a5cb92f': 'Not sequenced',\n",
       " '6ac8d8e93ad0dbd1': 'Not sequenced',\n",
       " '6b154aeb2603dcbe': 'Not sequenced',\n",
       " '6b277b4d05fb9b6e': 'Not sequenced',\n",
       " '6b32fd35f97a8fd7': 'Not sequenced',\n",
       " '6b3aea7631c05fa7': 'Not sequenced',\n",
       " '6b7a8df4b94930c5': 'Not sequenced',\n",
       " '6ba20083b0989b9b': 'Not sequenced',\n",
       " '6c3f81b3e0702eef': 'Not sequenced',\n",
       " '6c5e7822f7ce17d7': 'Not sequenced',\n",
       " '6c5fd968d2f32858': 'Not sequenced',\n",
       " '6c63144fdf83c624': 'Not sequenced',\n",
       " '6c6a5742e148f697': 'Not sequenced',\n",
       " '6ce4a0a57ba13238': 'Not sequenced',\n",
       " '6cfabb5d091f4050': 'Not sequenced',\n",
       " '6d75134e954b5ca2': 'Not sequenced',\n",
       " '6da5d30eb0de2a99': 'Second PCR sequenced',\n",
       " '6e6f06f6ae419043': 'Not sequenced',\n",
       " '6e93ec35bc51b20c': 'Not sequenced',\n",
       " '6e9793e1d4508451': 'Not sequenced',\n",
       " '6ea751258116d086': 'Not sequenced',\n",
       " '6ecb85f7f4fd3a8a': 'Not sequenced',\n",
       " '6ef69b9f70d557eb': 'Not sequenced',\n",
       " '6f721fe54f1ce0a1': 'Not sequenced',\n",
       " '6f8f77c99a9ee9bc': 'Not sequenced',\n",
       " '6fabca9b913ddb8d': 'Not sequenced',\n",
       " '6fb237aff0bf97b9': 'Second PCR sequenced',\n",
       " '6fcafed548ad461e': 'First PCR sequenced',\n",
       " '6fdbefd29de1b59c': 'Not sequenced',\n",
       " '7032b5ef5e7e4b29': 'Not sequenced',\n",
       " '705cc821883bfa46': 'Not sequenced',\n",
       " '706d6ca78e4eaefd': 'Second PCR sequenced',\n",
       " '715561383061d8d6': 'Not sequenced',\n",
       " '71942422ecbd1faf': 'Second PCR sequenced',\n",
       " '71e33cf061ef98f2': 'Not sequenced',\n",
       " '72102814e39b49fc': 'Not sequenced',\n",
       " '725b7250f5847e9e': 'Second PCR sequenced',\n",
       " '72be8142ffeb016e': 'Both sequenced',\n",
       " '73260b4aff7ca65b': 'Not sequenced',\n",
       " '73993373cf5f2e20': 'Not sequenced',\n",
       " '73a87ce766778ec1': 'Not sequenced',\n",
       " '7497673704001e4e': 'Not sequenced',\n",
       " '74ba62e46ec716a1': 'Not sequenced',\n",
       " '74c2a4205dbbcebf': 'Not sequenced',\n",
       " '750a02ec8d72da7c': 'Not sequenced',\n",
       " '754267c235792177': 'Not sequenced',\n",
       " '7543c4b4f6d72c12': 'Not sequenced',\n",
       " '75ab61247af1369b': 'Not sequenced',\n",
       " '75edd27d085aa172': 'Not sequenced',\n",
       " '7606494456489672': 'Second PCR sequenced',\n",
       " '760c47b08663a68a': 'Not sequenced',\n",
       " '762611313b25fac0': 'Second PCR sequenced',\n",
       " '763cfe46b7120268': 'Not sequenced',\n",
       " '765b25ff6e4b561a': 'Not sequenced',\n",
       " '7660b3bf9713a253': 'Second PCR sequenced',\n",
       " '76abd19ab05b54f5': 'Not sequenced',\n",
       " '76bed53115244307': 'Not sequenced',\n",
       " '76db5defb58c4231': 'Not sequenced',\n",
       " '7723e43af8865ecb': 'Not sequenced',\n",
       " '77289686dda48ce9': 'Second PCR sequenced',\n",
       " '776d3ad3225f52c9': 'Not sequenced',\n",
       " '77f11af3adba4596': 'Not sequenced',\n",
       " '780f7026d9b3e0ad': 'Not sequenced',\n",
       " '7866a0089d32ac74': 'Not sequenced',\n",
       " '788b6d39221f21b1': 'Second PCR sequenced',\n",
       " '78a719f29156a078': 'Not sequenced',\n",
       " '78b57c6a255a7411': 'Not sequenced',\n",
       " '78ead792c3ea3ee9': 'Not sequenced',\n",
       " '7935fa47de36a96e': 'Not sequenced',\n",
       " '795693c4168119e8': 'Not sequenced',\n",
       " '799278d5f4d5801d': 'Not sequenced',\n",
       " '79dea47d7fb8b378': 'Not sequenced',\n",
       " '7a13af0887891641': 'Not sequenced',\n",
       " '7a434a7bcb226d46': 'Second PCR sequenced',\n",
       " '7ab76e9508c76917': 'Not sequenced',\n",
       " '7b5dcebcfa375c43': 'Not sequenced',\n",
       " '7b767b9cd434fca4': 'Not sequenced',\n",
       " '7b864ec8f8fa434c': 'Not sequenced',\n",
       " '7bcbb966686746dc': 'Not sequenced',\n",
       " '7c03e81ff1f1b445': 'Not sequenced',\n",
       " '7c18becfbe0fac57': 'Not sequenced',\n",
       " '7c2aa8d4d78e8f5b': 'Not sequenced',\n",
       " '7c3c1dd219ff5bc5': 'Second PCR sequenced',\n",
       " '7d480a02f209ba15': 'First PCR sequenced',\n",
       " '7d57fd26a2818e57': 'Not sequenced',\n",
       " '7d94bdf823e1bf76': 'Not sequenced',\n",
       " '7e1ae73ced1ec461': 'Not sequenced',\n",
       " '7e1b0dbe156175b3': 'Second PCR sequenced',\n",
       " '7e5099539444f6f9': 'Not sequenced',\n",
       " '7e841cc02afc7a5e': 'Not sequenced',\n",
       " '7eb5290a805c1961': 'Not sequenced',\n",
       " '7edab7b49b4a040e': 'Both sequenced',\n",
       " '7f093f85472de0df': 'Not sequenced',\n",
       " '7f38772f3337502c': 'Not sequenced',\n",
       " '7f3d64078c3b39dc': 'Not sequenced',\n",
       " '7f3ea80778c0d936': 'Not sequenced',\n",
       " '7ffd380165dc9b73': 'Not sequenced',\n",
       " '800b78fc6b48f872': 'Not sequenced',\n",
       " '8039e853b608e838': 'Not sequenced',\n",
       " '8056ba96d5ed1a91': 'Not sequenced',\n",
       " '805f3a919213ce92': 'Not sequenced',\n",
       " '808ad55278e535be': 'Not sequenced',\n",
       " '80d6cf5f8115962a': 'Second PCR sequenced',\n",
       " '80ed9c2c6f7e3fce': 'Not sequenced',\n",
       " '81068ff92c244de4': 'Not sequenced',\n",
       " '811bf18278678062': 'Not sequenced',\n",
       " '812126e349ba1892': 'Not sequenced',\n",
       " '812a6915fba54dfc': 'Not sequenced',\n",
       " '81a75f8d66f83a73': 'Second PCR sequenced',\n",
       " '824c21fec9d9db70': 'Not sequenced',\n",
       " '824c8e0994dba539': 'Not sequenced',\n",
       " '826e945e0cd37593': 'Not sequenced',\n",
       " '82909816e9869d6f': 'Not sequenced',\n",
       " '82c6a2a595d27225': 'Second PCR sequenced',\n",
       " '82def11b6f9b439f': 'Not sequenced',\n",
       " '82e49319d7221d04': 'Second PCR sequenced',\n",
       " '830867fe0c96cf97': 'Not sequenced',\n",
       " '830cf6a02f2a9781': 'Not sequenced',\n",
       " '831007555168c0be': 'Not sequenced',\n",
       " '833e70301e2b2eea': 'Not sequenced',\n",
       " '83e7a43bc703d312': 'Not sequenced',\n",
       " '840ae02bc564fbbb': 'Not sequenced',\n",
       " '84227679d2b3df77': 'Not sequenced',\n",
       " '842a002018aced9c': 'Second PCR sequenced',\n",
       " '845ba279a31e03e6': 'Not sequenced',\n",
       " '84a13101228e7462': 'Not sequenced',\n",
       " '84b81b1729099118': 'Second PCR sequenced',\n",
       " '84e9b2748bee5efe': 'Not sequenced',\n",
       " '853b5a55526d0a52': 'First PCR sequenced',\n",
       " '85e2b91cd9b79970': 'Not sequenced',\n",
       " '862345816b41d6b5': 'Second PCR sequenced',\n",
       " '86256861d1e93ba9': 'Not sequenced',\n",
       " '864e6479c75fc66c': 'Second PCR sequenced',\n",
       " '866464c98eb1436f': 'Second PCR sequenced',\n",
       " '8669a4b12ebcab8c': 'Second PCR sequenced',\n",
       " '8680573e9245a646': 'Not sequenced',\n",
       " '86b3fbb1a8db696f': 'Second PCR sequenced',\n",
       " '86e2576d63a46b23': 'Not sequenced',\n",
       " '86e4635d5505f1d4': 'Not sequenced',\n",
       " '86f830f43568091d': 'Second PCR sequenced',\n",
       " '87a816dad5b1f6d6': 'Second PCR sequenced',\n",
       " '87cde6e08aa9b731': 'Not sequenced',\n",
       " '880f251d08a77d3d': 'Not sequenced',\n",
       " '881d0ad01ebf83d0': 'Not sequenced',\n",
       " '88611139df53dc97': 'Not sequenced',\n",
       " '8883647bafdba9a7': 'Not sequenced',\n",
       " '8905a92e6cef9d2e': 'Not sequenced',\n",
       " '89a210054903f860': 'Not sequenced',\n",
       " '8a64ac4a2d21bc93': 'Not sequenced',\n",
       " '8a775ff27a0e07ad': 'Not sequenced',\n",
       " '8ab520e70c12c120': 'Not sequenced',\n",
       " '8ac72abc43c59a47': 'Second PCR sequenced',\n",
       " '8ae3fc922927ff08': 'Not sequenced',\n",
       " '8b11c91b2e629f17': 'Not sequenced',\n",
       " '8b1d581a94cc4d84': 'Not sequenced',\n",
       " '8b2b6b5f570b0ec9': 'Not sequenced',\n",
       " '8b581a164d3b76a2': 'Not sequenced',\n",
       " '8bc75b6d1dff7fc3': 'Not sequenced',\n",
       " '8bd834a29704bef0': 'Not sequenced',\n",
       " '8bd945eb2061d18e': 'Not sequenced',\n",
       " '8bdd4335eec190d9': 'Not sequenced',\n",
       " '8be462eb637cbadb': 'Not sequenced',\n",
       " '8c08a27ea08165aa': 'Not sequenced',\n",
       " '8c1b6e6d93cd0791': 'Not sequenced',\n",
       " '8c9bcfd0fe0b3ace': 'Not sequenced',\n",
       " '8ca73e85f38f9df6': 'Not sequenced',\n",
       " '8cc7f64b26cd865f': 'Not sequenced',\n",
       " '8cccf810d9129993': 'Not sequenced',\n",
       " '8cdd0549a5f6db61': 'Second PCR sequenced',\n",
       " '8d32316637ead0ac': 'Not sequenced',\n",
       " '8d51648722460fd5': 'Not sequenced',\n",
       " '8d74f311df1be65b': 'Not sequenced',\n",
       " '8d816f92b9f051a1': 'Not sequenced',\n",
       " '8d87eacd8910eb08': 'Not sequenced',\n",
       " '8e11f5c36e816b0b': 'Second PCR sequenced',\n",
       " '8e1cb188e9ca028d': 'Not sequenced',\n",
       " '8e9a7340831a74a1': 'Not sequenced',\n",
       " '8f1e258d940b4797': 'Not sequenced',\n",
       " '8f4153a9b12294f2': 'Not sequenced',\n",
       " '8f54e39d4bfbe8ad': 'Not sequenced',\n",
       " '8fad9098c9a879d6': 'Not sequenced',\n",
       " '8ff572a1d3dee7ac': 'Not sequenced',\n",
       " '9034b1f347584fc7': 'Second PCR sequenced',\n",
       " '904c37d844dfac45': 'Not sequenced',\n",
       " '9063635a946ccdde': 'Second PCR sequenced',\n",
       " '909dde72e6f324f8': 'Second PCR sequenced',\n",
       " '90b1398cb8258a7e': 'Not sequenced',\n",
       " '910af457a3fb85df': 'Not sequenced',\n",
       " '91133386b9d7254e': 'Not sequenced',\n",
       " '912d2d68e655a392': 'Not sequenced',\n",
       " '91c1d1d5a1de8e03': 'Not sequenced',\n",
       " '91d02309b69a7211': 'Not sequenced',\n",
       " '9208c68da3ddda68': 'Not sequenced',\n",
       " '920c7afa8b3059c2': 'Not sequenced',\n",
       " '923031bf76065116': 'Second PCR sequenced',\n",
       " '92358d371d730cdf': 'Not sequenced',\n",
       " '926aec8ab52058c3': 'Not sequenced',\n",
       " '928fb7462127ab94': 'Not sequenced',\n",
       " '92e900140a6e19b0': 'Not sequenced',\n",
       " '936a1d1bb0542a06': 'Not sequenced',\n",
       " '93d08293ce04d48d': 'Not sequenced',\n",
       " '93d5c3efce04c6ce': 'Not sequenced',\n",
       " '9414d933c7f87d6a': 'Second PCR sequenced',\n",
       " '944d41a929c97874': 'Not sequenced',\n",
       " '94d23ea896bb9e97': 'Second PCR sequenced',\n",
       " '94dd1bfc8adc7688': 'Second PCR sequenced',\n",
       " '94f8d378d46c1ac1': 'Not sequenced',\n",
       " '95679556cbe9241c': 'Not sequenced',\n",
       " '958cad009dfa1471': 'Not sequenced',\n",
       " '95cb21940afcc251': 'Not sequenced',\n",
       " '96c366b8316b53be': 'Not sequenced',\n",
       " '96f6d07d5c2ef41e': 'Not sequenced',\n",
       " '974b0b32c18aa4b6': 'Not sequenced',\n",
       " '97adb79faf958560': 'First PCR sequenced',\n",
       " '97c02b85d39bcdf0': 'Not sequenced',\n",
       " '97d815e853926eaa': 'Not sequenced',\n",
       " '986abd307d10b04a': 'Second PCR sequenced',\n",
       " '98724c2d951b6852': 'Not sequenced',\n",
       " '988c0329d3819eb4': 'Not sequenced',\n",
       " '9892a90ef200d4e2': 'Not sequenced',\n",
       " '98cf54961805f5c2': 'Not sequenced',\n",
       " '9905bb2fb67addac': 'Not sequenced',\n",
       " '991ed0599b07b009': 'Not sequenced',\n",
       " '9930149e7ddb77a4': 'Not sequenced',\n",
       " '995432c2a398301f': 'Not sequenced',\n",
       " '99a642f99354e632': 'Not sequenced',\n",
       " '99b508b8d0ac5662': 'Not sequenced',\n",
       " '99eb750ff6f6d27b': 'Not sequenced',\n",
       " '9a3a85358dfde872': 'Second PCR sequenced',\n",
       " '9aed8ff35e7dd55e': 'Second PCR sequenced',\n",
       " '9b1e39c6d201823c': 'Not sequenced',\n",
       " '9b2b9ab8565d0a33': 'Not sequenced',\n",
       " '9baa52fe29daa1f4': 'Not sequenced',\n",
       " '9be455fd9c4f14e0': 'Not sequenced',\n",
       " '9c5a348fa7629350': 'Not sequenced',\n",
       " '9c98e5480a57531c': 'Not sequenced',\n",
       " '9ce85abe4b7373a8': 'Second PCR sequenced',\n",
       " '9d00a29eb16464ac': 'Not sequenced',\n",
       " '9d22b52c86848686': 'Not sequenced',\n",
       " '9d2a5184f5094890': 'Second PCR sequenced',\n",
       " '9ddec4cfade2ffe6': 'Not sequenced',\n",
       " '9debb2fc4122a2c9': 'Not sequenced',\n",
       " '9e1a321554a6fea3': 'Not sequenced',\n",
       " '9e5e33dfdf57f3bc': 'Not sequenced',\n",
       " '9e609da10de3b129': 'Not sequenced',\n",
       " '9e76fa4a374f185c': 'Not sequenced',\n",
       " '9ec069e9c88ea7c0': 'Second PCR sequenced',\n",
       " '9ed98427a3a8eb8f': 'Not sequenced',\n",
       " '9f0be8ee26329a35': 'First PCR sequenced',\n",
       " '9f5c7f906228cb23': 'Second PCR sequenced',\n",
       " '9f65abab683f2b89': 'Not sequenced',\n",
       " '9f8ad9cf8c976e0f': 'Not sequenced',\n",
       " '9f9a8430e6819a5a': 'Not sequenced',\n",
       " '9fd7af169a1abafd': 'Second PCR sequenced',\n",
       " '9fd8eb8db4a57121': 'Not sequenced',\n",
       " '9fda3d2cce042ac5': 'Not sequenced',\n",
       " '9fe63168b4cfac4b': 'Not sequenced',\n",
       " 'a0283e4df02f59fa': 'Not sequenced',\n",
       " 'a080d4f3430db549': 'Second PCR sequenced',\n",
       " 'a0879a5797a906f0': 'Not sequenced',\n",
       " 'a0a064b680d1464f': 'Not sequenced',\n",
       " 'a0d5e0ee5c330f26': 'Not sequenced',\n",
       " 'a0e5b86d433dc9d0': 'Second PCR sequenced',\n",
       " 'a14232ae36777ea3': 'Not sequenced',\n",
       " 'a1715ec15a4d2053': 'Not sequenced',\n",
       " 'a1c1dc458865aa3a': 'Not sequenced',\n",
       " 'a1c71e8994687df0': 'Not sequenced',\n",
       " 'a1d40e63c86a1174': 'Not sequenced',\n",
       " 'a1da4dbbcd9d6444': 'Not sequenced',\n",
       " 'a1fd3557bcc72fdd': 'Not sequenced',\n",
       " 'a200d3d4892e186b': 'Second PCR sequenced',\n",
       " 'a20f55007bb894b2': 'Not sequenced',\n",
       " 'a219682dc9be28ef': 'Not sequenced',\n",
       " 'a28adc73acee7dfa': 'Not sequenced',\n",
       " 'a2dee1bedea2f323': 'Second PCR sequenced',\n",
       " 'a2ec1811e556d1c1': 'Not sequenced',\n",
       " 'a2fc2fb219b772d8': 'Not sequenced',\n",
       " 'a351273b85fb7bed': 'Not sequenced',\n",
       " 'a35a5b0e702f72ec': 'Not sequenced',\n",
       " 'a371d43f37091c55': 'Second PCR sequenced',\n",
       " 'a389630c4c3a0cd3': 'Not sequenced',\n",
       " 'a39f5949e4af6057': 'Not sequenced',\n",
       " 'a3eef2b7493ec2c7': 'Not sequenced',\n",
       " 'a46fde0f442dbd21': 'Not sequenced',\n",
       " 'a476b1e27e7b2992': 'Not sequenced',\n",
       " 'a47a77b4ef7696a3': 'Not sequenced',\n",
       " 'a4829eca9930e82a': 'Not sequenced',\n",
       " 'a4a9d5b82025150a': 'Not sequenced',\n",
       " 'a4aed9625d8ac7aa': 'Not sequenced',\n",
       " 'a50fe4ca21ae4f8b': 'Not sequenced',\n",
       " 'a542aaefe473e16c': 'Second PCR sequenced',\n",
       " 'a5bb84283c9b7505': 'Not sequenced',\n",
       " 'a63306074ee55b07': 'Not sequenced',\n",
       " 'a6b0d82f865f813f': 'Second PCR sequenced',\n",
       " 'a710ee7c9f64dfdf': 'Not sequenced',\n",
       " 'a7132a598c239bfe': 'Not sequenced',\n",
       " 'a72f9d95accf432e': 'Not sequenced',\n",
       " 'a743c335595ab818': 'Not sequenced',\n",
       " 'a7440de7706ab0a5': 'First PCR sequenced',\n",
       " 'a75c842c5baf6440': 'Not sequenced',\n",
       " 'a78af468ce9cc4ce': 'Second PCR sequenced',\n",
       " 'a7947f61a3ea7dca': 'Not sequenced',\n",
       " 'a7e3695dfe7199b0': 'Not sequenced',\n",
       " 'a7e50b4166870e36': 'Not sequenced',\n",
       " 'a7f667295a032449': 'Not sequenced',\n",
       " 'a82c997153534c21': 'Not sequenced',\n",
       " 'a83670b31d53462a': 'Not sequenced',\n",
       " 'a88dd7c577541892': 'Not sequenced',\n",
       " 'a8c043cd579e67db': 'Not sequenced',\n",
       " 'a8c2333e3a286dff': 'Second PCR sequenced',\n",
       " 'a984b5872a654d9e': 'Not sequenced',\n",
       " 'a9a17273123a1b98': 'Not sequenced',\n",
       " 'a9e0b12c64e7389f': 'Not sequenced',\n",
       " 'a9eacaf4a945f015': 'Not sequenced',\n",
       " 'a9f6b3e1441439d2': 'Not sequenced',\n",
       " 'aa4d84c77d14d7a7': 'Not sequenced',\n",
       " 'aa64869ded16fa19': 'Not sequenced',\n",
       " 'aa8df2a01d85a7b9': 'Not sequenced',\n",
       " 'aaea02953c7a9fed': 'Second PCR sequenced',\n",
       " 'ab03fe296996f629': 'Not sequenced',\n",
       " 'ab2f4d86d1d4b1dd': 'Not sequenced',\n",
       " 'ab890e836860a453': 'Not sequenced',\n",
       " 'ab9065f8f5ba204e': 'Not sequenced',\n",
       " 'ab9b9a0de61701d5': 'Not sequenced',\n",
       " 'abe70946b4687e82': 'Not sequenced',\n",
       " 'ac1d34f7902054e6': 'Second PCR sequenced',\n",
       " 'ac33f69581df04a6': 'Not sequenced',\n",
       " 'ac59c06d38a97790': 'Not sequenced',\n",
       " 'ac641ad39f9ea9ea': 'Not sequenced',\n",
       " 'acb529b394a9d437': 'Not sequenced',\n",
       " 'accd2b7982b62ceb': 'Second PCR sequenced',\n",
       " 'acd9f545e631d00a': 'Not sequenced',\n",
       " 'ace46f1bb8a20de6': 'Not sequenced',\n",
       " 'ad1644e1d9e9f3fe': 'Both sequenced',\n",
       " 'ad1da75af131b927': 'Not sequenced',\n",
       " 'ad5d06f23141a17a': 'Not sequenced',\n",
       " 'ad7ce0655d8b498f': 'Second PCR sequenced',\n",
       " 'ad96574915277d8f': 'Not sequenced',\n",
       " 'adddd32377f407fb': 'Not sequenced',\n",
       " 'adf6dc08838860ee': 'Not sequenced',\n",
       " 'ae31b22de1d3621f': 'Not sequenced',\n",
       " 'ae769a9c1b782eaf': 'Not sequenced',\n",
       " 'aeaaa3069953e0f4': 'Not sequenced',\n",
       " 'aeb2eaf3aae11185': 'First PCR sequenced',\n",
       " 'aedf8160f6497479': 'Second PCR sequenced',\n",
       " 'af4c0479d171bd56': 'Not sequenced',\n",
       " 'af6a43aad0ad0b07': 'Not sequenced',\n",
       " 'af6cee65aa291edb': 'Not sequenced',\n",
       " 'af93bc79907468c5': 'Not sequenced',\n",
       " 'afb3b83ee49e86c4': 'Second PCR sequenced',\n",
       " 'b02f2e9f1cfb8380': 'Not sequenced',\n",
       " 'b0a42cbfda7e1820': 'Second PCR sequenced',\n",
       " 'b0c02bf12ee55274': 'Not sequenced',\n",
       " 'b115c146579a192c': 'Not sequenced',\n",
       " 'b1a81e7b5ea33277': 'Not sequenced',\n",
       " 'b20ae156518b958b': 'Second PCR sequenced',\n",
       " 'b22653b41ebbb718': 'Not sequenced',\n",
       " 'b23d842ceb1f5798': 'Not sequenced',\n",
       " 'b2763f45550d25e0': 'Not sequenced',\n",
       " 'b2d545869584a3ab': 'Not sequenced',\n",
       " 'b340f39af7bcdeb2': 'Second PCR sequenced',\n",
       " 'b3ada53e88309330': 'Second PCR sequenced',\n",
       " 'b3ed1d48286c7dd9': 'Not sequenced',\n",
       " 'b3f3af8ccf5c379e': 'Second PCR sequenced',\n",
       " 'b40e67178d5f3029': 'Not sequenced',\n",
       " 'b4386cd219ddd567': 'Not sequenced',\n",
       " 'b4546b233a956299': 'Not sequenced',\n",
       " 'b5007b26c8dc2593': 'Not sequenced',\n",
       " 'b57220c7796955b1': 'Not sequenced',\n",
       " 'b5c2321cf1bfa67d': 'Not sequenced',\n",
       " 'b5cb3991e1b0d6ed': 'Not sequenced',\n",
       " 'b5ec180b51b18437': 'Not sequenced',\n",
       " 'b652e50af3584049': 'Not sequenced',\n",
       " 'b67bfae58fbf475c': 'Not sequenced',\n",
       " 'b756e0453368f000': 'Not sequenced',\n",
       " 'b757eae105bc5ee5': 'Not sequenced',\n",
       " 'b7611846fd3f7293': 'Not sequenced',\n",
       " 'b780d59bbd324062': 'Second PCR sequenced',\n",
       " 'b7f1d438577734f3': 'Not sequenced',\n",
       " 'b8542e0bbefe76d8': 'Not sequenced',\n",
       " 'b863c624bba590a8': 'Not sequenced',\n",
       " 'b9624f745a8c345e': 'Second PCR sequenced',\n",
       " 'b9e54f794386fc48': 'Not sequenced',\n",
       " 'b9fa8559be51ffdf': 'Second PCR sequenced',\n",
       " 'ba415efc98c59324': 'Second PCR sequenced',\n",
       " 'ba71b352550ae954': 'Not sequenced',\n",
       " 'bac2e1df1b3ca4a7': 'Not sequenced',\n",
       " 'bac63b5f7639d5b0': 'Second PCR sequenced',\n",
       " 'bad9bc98ff0ae789': 'Not sequenced',\n",
       " 'baedb73936f48c17': 'First PCR sequenced',\n",
       " 'bb0239fe7269b44d': 'Not sequenced',\n",
       " 'bb0f86acc7aa6dcd': 'Second PCR sequenced',\n",
       " 'bb6109bb40f5aaab': 'Not sequenced',\n",
       " 'bb6d2c498b78ccf3': 'Not sequenced',\n",
       " 'bb7b9dcb7259b763': 'Not sequenced',\n",
       " 'bbd15683dcb5f598': 'Second PCR sequenced',\n",
       " 'bbedbf79a7f3e3fc': 'Not sequenced',\n",
       " 'bc660004697a2c92': 'Not sequenced',\n",
       " 'bca8e6c34429985f': 'Second PCR sequenced',\n",
       " 'bcce8451ef497409': 'Not sequenced',\n",
       " 'bd7646b7baf12e68': 'Not sequenced',\n",
       " 'bd91fd3b4861b5bd': 'Second PCR sequenced',\n",
       " 'bdde7512247a7589': 'Not sequenced',\n",
       " 'bdfbd5bbe8cccb69': 'Not sequenced',\n",
       " 'be7a64ee63372e7a': 'Not sequenced',\n",
       " 'beb801db05a64a7c': 'Second PCR sequenced',\n",
       " 'bef726789de7bfb0': 'Second PCR sequenced',\n",
       " 'bf009810d8e3dfe0': 'Not sequenced',\n",
       " 'bf86fb598174f17c': 'Second PCR sequenced',\n",
       " 'bf92ff9f8125388b': 'Not sequenced',\n",
       " 'bf94f05aa89c3a04': 'Not sequenced',\n",
       " 'bfa44cbef796f8cb': 'Not sequenced',\n",
       " 'bfa6c91d88c9facd': 'Not sequenced',\n",
       " 'c018ad777764c214': 'Not sequenced',\n",
       " 'c01dec3cecc49f3c': 'Not sequenced',\n",
       " 'c06b4723b028c65c': 'Not sequenced',\n",
       " 'c07f435bf123c137': 'Not sequenced',\n",
       " 'c083963a6fc13b49': 'Not sequenced',\n",
       " 'c09bd95f6e21ef17': 'Not sequenced',\n",
       " 'c0f66f7a903b2609': 'Not sequenced',\n",
       " 'c18e003131c0aa37': 'Not sequenced',\n",
       " 'c195887eacda797e': 'Not sequenced',\n",
       " 'c1b675fbfa15c239': 'Second PCR sequenced',\n",
       " 'c1bf3b5abd4095f1': 'Not sequenced',\n",
       " 'c1f0fbd6b2d0410a': 'Not sequenced',\n",
       " 'c209aadf74e8e5b3': 'Not sequenced',\n",
       " 'c2256e9baaef0cb1': 'Not sequenced',\n",
       " 'c230216986d906d3': 'Both sequenced',\n",
       " 'c2527d8987185357': 'Not sequenced',\n",
       " 'c27097f69526ae82': 'Not sequenced',\n",
       " 'c2e40347a2b7d042': 'Not sequenced',\n",
       " 'c2f2481c244c3fa3': 'Not sequenced',\n",
       " 'c3480be5e3e84a8f': 'Not sequenced',\n",
       " 'c34b0c64c727945d': 'Not sequenced',\n",
       " 'c35f8c215979dc4b': 'Not sequenced',\n",
       " 'c3758483f249b9c1': 'Second PCR sequenced',\n",
       " 'c391376e0c6f13d6': 'Not sequenced',\n",
       " 'c43e99c43425477f': 'Not sequenced',\n",
       " 'c458bd5e53e3e0fd': 'Not sequenced',\n",
       " 'c47e0cbe6186447d': 'Not sequenced',\n",
       " 'c4edb2e280f93a94': 'Not sequenced',\n",
       " 'c51aee7cb23faabc': 'Not sequenced',\n",
       " 'c55a888f822f03d5': 'Not sequenced',\n",
       " 'c572a115e58e9f7c': 'Not sequenced',\n",
       " 'c584d8814e24e71a': 'Not sequenced',\n",
       " 'c634e4ce74969b28': 'Not sequenced',\n",
       " 'c65b6c784eaba39e': 'First PCR sequenced',\n",
       " 'c67b2f7837d6f911': 'Not sequenced',\n",
       " 'c68666d6cc22f97b': 'Not sequenced',\n",
       " 'c6d3ab78afdeb3fa': 'Not sequenced',\n",
       " 'c6e99a5369244d39': 'Second PCR sequenced',\n",
       " 'c70511498f262672': 'Not sequenced',\n",
       " 'c7f541b210be98af': 'Not sequenced',\n",
       " 'c82fd89ee2f30e8f': 'Not sequenced',\n",
       " 'c8e468a5f6629adf': 'Not sequenced',\n",
       " 'c8e7031b01cfd246': 'Not sequenced',\n",
       " 'c974345164abb9bd': 'Not sequenced',\n",
       " 'c975f2e2e451507a': 'Not sequenced',\n",
       " 'c9f1bf5e816684c9': 'Not sequenced',\n",
       " 'ca0b822df23844ea': 'Not sequenced',\n",
       " 'ca25500950fd0770': 'Not sequenced',\n",
       " 'ca26853f228337df': 'Not sequenced',\n",
       " 'ca56195a85236e64': 'Not sequenced',\n",
       " 'ca821dd69ecdfecd': 'Not sequenced',\n",
       " 'cacdb3c23042153e': 'Second PCR sequenced',\n",
       " 'caf02b7d29b525f7': 'Not sequenced',\n",
       " 'cafa77dc610d9412': 'Not sequenced',\n",
       " 'cb21446d0310b655': 'Not sequenced',\n",
       " 'cb8ceffdde90cd96': 'Not sequenced',\n",
       " 'cbd57b77ebf1aef4': 'Not sequenced',\n",
       " 'cbf859b291782578': 'First PCR sequenced',\n",
       " 'cc3aee0020edf822': 'Not sequenced',\n",
       " 'cc5b5178ab2e9b56': 'Not sequenced',\n",
       " 'ccf4892365672b35': 'Not sequenced',\n",
       " 'cd02c05697244fb8': 'Not sequenced',\n",
       " 'cd09e7cf909108a6': 'Not sequenced',\n",
       " 'cd108dfd5ce30173': 'Not sequenced',\n",
       " 'cd37b604f436a841': 'Not sequenced',\n",
       " 'cd3a7a4684fdd318': 'Not sequenced',\n",
       " 'cd7b87cb8c69ae67': 'Not sequenced',\n",
       " 'ce1e67e81bb11cba': 'Not sequenced',\n",
       " 'ce700928246b61d4': 'Not sequenced',\n",
       " 'ce8a4b96ba4d046c': 'Not sequenced',\n",
       " 'ce96874ac144e24d': 'Not sequenced',\n",
       " 'cea749af2f08946d': 'Not sequenced',\n",
       " 'cf2fc61bbb85bdbe': 'Not sequenced',\n",
       " 'cf7a58ec9b4a1561': 'Not sequenced',\n",
       " 'cfb39c362077e2f9': 'Second PCR sequenced',\n",
       " 'cfe44113e833731f': 'Not sequenced',\n",
       " 'cff1c088e709dde7': 'Not sequenced',\n",
       " 'd0110bea3a9fcbf1': 'Not sequenced',\n",
       " 'd01a9a41ed56a666': 'Not sequenced',\n",
       " 'd0ae9aedf277f781': 'Not sequenced',\n",
       " 'd0af722e5a976e63': 'Not sequenced',\n",
       " 'd0b48882b9116dbf': 'Not sequenced',\n",
       " 'd0c814939f5599a2': 'Not sequenced',\n",
       " ...}"
      ]
     },
     "execution_count": 317,
     "metadata": {},
     "output_type": "execute_result"
    }
   ],
   "source": [
    "# let's manage vaccines\n",
    "# we will classify patients in 3 groups (based only in the first reinfection):\n",
    "#     infected-vaccinated-infected\n",
    "#     infected-infected-vaccinated\n",
    "#     vaccinated-infected-infected\n",
    "FC1_seq"
   ]
  }
 ],
 "metadata": {
  "kernelspec": {
   "display_name": "Python 3 (ipykernel)",
   "language": "python",
   "name": "python3"
  },
  "language_info": {
   "codemirror_mode": {
    "name": "ipython",
    "version": 3
   },
   "file_extension": ".py",
   "mimetype": "text/x-python",
   "name": "python",
   "nbconvert_exporter": "python",
   "pygments_lexer": "ipython3",
   "version": "3.9.10"
  }
 },
 "nbformat": 4,
 "nbformat_minor": 5
}
