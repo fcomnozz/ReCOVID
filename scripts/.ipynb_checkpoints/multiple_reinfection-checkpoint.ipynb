{
 "cells": [
  {
   "cell_type": "code",
   "execution_count": 1,
   "id": "4285da4d",
   "metadata": {},
   "outputs": [],
   "source": [
    "import pandas as pd\n",
    "pd.options.mode.chained_assignment = None  # default='warn'\n",
    "import numpy as np\n",
    "from datetime import datetime\n",
    "from datetime import timedelta\n",
    "import re\n",
    "import random\n",
    "import math\n",
    "from collections import Counter"
   ]
  },
  {
   "cell_type": "code",
   "execution_count": 2,
   "id": "87f495e8",
   "metadata": {},
   "outputs": [],
   "source": [
    "# loading data\n",
    "codes = pd.read_csv('../results/patients_w_codes.csv')"
   ]
  },
  {
   "cell_type": "code",
   "execution_count": 3,
   "id": "2cdfabc4",
   "metadata": {},
   "outputs": [],
   "source": [
    "# version with dates into strings\n",
    "codes2 = pd.read_csv('../results/patients_w_codes2.csv')"
   ]
  },
  {
   "cell_type": "code",
   "execution_count": 4,
   "id": "2d0de38a",
   "metadata": {},
   "outputs": [],
   "source": [
    "# to use a dict with the dates in the strings\n",
    "def separate_date(df):\n",
    "    df['first_event_date'] = 'NA'\n",
    "    for i in range(len(df)):\n",
    "        x = re.split(']', df['code'][i].replace('[', ''))\n",
    "        df['first_event_date'][i] = x[0]\n",
    "        df['code'][i] = x[1]\n",
    "    return df"
   ]
  },
  {
   "cell_type": "code",
   "execution_count": 5,
   "id": "4618bbf6",
   "metadata": {},
   "outputs": [
    {
     "data": {
      "text/html": [
       "<div>\n",
       "<style scoped>\n",
       "    .dataframe tbody tr th:only-of-type {\n",
       "        vertical-align: middle;\n",
       "    }\n",
       "\n",
       "    .dataframe tbody tr th {\n",
       "        vertical-align: top;\n",
       "    }\n",
       "\n",
       "    .dataframe thead th {\n",
       "        text-align: right;\n",
       "    }\n",
       "</style>\n",
       "<table border=\"1\" class=\"dataframe\">\n",
       "  <thead>\n",
       "    <tr style=\"text-align: right;\">\n",
       "      <th></th>\n",
       "      <th>id</th>\n",
       "      <th>code</th>\n",
       "      <th>first_event_date</th>\n",
       "    </tr>\n",
       "  </thead>\n",
       "  <tbody>\n",
       "    <tr>\n",
       "      <th>0</th>\n",
       "      <td>005cad4958846409</td>\n",
       "      <td>B42A40A2H1F10A15B21B7B12I24I7F6B28B128A4D77B64...</td>\n",
       "      <td>2020-08-14</td>\n",
       "    </tr>\n",
       "    <tr>\n",
       "      <th>1</th>\n",
       "      <td>0065b57e5a9e784f</td>\n",
       "      <td>A37B234F4B4B8B2F2B2F3B4F0G3B2I8G17I215I82B9B23A</td>\n",
       "      <td>2020-03-26</td>\n",
       "    </tr>\n",
       "    <tr>\n",
       "      <th>2</th>\n",
       "      <td>006e5a1bf72e8b73</td>\n",
       "      <td>B56B7B35B11B3B11B10B13B14B8A178I21I123B6B5B6B5...</td>\n",
       "      <td>2020-06-02</td>\n",
       "    </tr>\n",
       "    <tr>\n",
       "      <th>3</th>\n",
       "      <td>009d11a2497f1d47</td>\n",
       "      <td>A334C142J</td>\n",
       "      <td>2020-10-14</td>\n",
       "    </tr>\n",
       "    <tr>\n",
       "      <th>4</th>\n",
       "      <td>00a5cf0620b6adfc</td>\n",
       "      <td>A201J213A</td>\n",
       "      <td>2020-10-26</td>\n",
       "    </tr>\n",
       "    <tr>\n",
       "      <th>...</th>\n",
       "      <td>...</td>\n",
       "      <td>...</td>\n",
       "      <td>...</td>\n",
       "    </tr>\n",
       "    <tr>\n",
       "      <th>3298</th>\n",
       "      <td>ff32e199c9482c20</td>\n",
       "      <td>B196B12B21B6F1B7B1I6B6A15B7B7I70B14B78B7B7B8B5...</td>\n",
       "      <td>2020-05-07</td>\n",
       "    </tr>\n",
       "    <tr>\n",
       "      <th>3299</th>\n",
       "      <td>ff46357762ea097e</td>\n",
       "      <td>B92B99B12B9B6B4B32F6I4B18I232C4A14B17I79D36B3B...</td>\n",
       "      <td>2020-04-20</td>\n",
       "    </tr>\n",
       "    <tr>\n",
       "      <th>3300</th>\n",
       "      <td>ff9318bd975b7050</td>\n",
       "      <td>A16A64B74B14A197I</td>\n",
       "      <td>2020-08-10</td>\n",
       "    </tr>\n",
       "    <tr>\n",
       "      <th>3301</th>\n",
       "      <td>ffabda76a8fbaecd</td>\n",
       "      <td>B24B182A12B13B7B6F1B0I7B1B5B7F1I56B15F218B4F10...</td>\n",
       "      <td>2020-05-05</td>\n",
       "    </tr>\n",
       "    <tr>\n",
       "      <th>3302</th>\n",
       "      <td>ffc2d5ab7d2ad39e</td>\n",
       "      <td>B93A2U271D127I</td>\n",
       "      <td>2020-07-16</td>\n",
       "    </tr>\n",
       "  </tbody>\n",
       "</table>\n",
       "<p>3303 rows × 3 columns</p>\n",
       "</div>"
      ],
      "text/plain": [
       "                    id                                               code  \\\n",
       "0     005cad4958846409  B42A40A2H1F10A15B21B7B12I24I7F6B28B128A4D77B64...   \n",
       "1     0065b57e5a9e784f    A37B234F4B4B8B2F2B2F3B4F0G3B2I8G17I215I82B9B23A   \n",
       "2     006e5a1bf72e8b73  B56B7B35B11B3B11B10B13B14B8A178I21I123B6B5B6B5...   \n",
       "3     009d11a2497f1d47                                          A334C142J   \n",
       "4     00a5cf0620b6adfc                                          A201J213A   \n",
       "...                ...                                                ...   \n",
       "3298  ff32e199c9482c20  B196B12B21B6F1B7B1I6B6A15B7B7I70B14B78B7B7B8B5...   \n",
       "3299  ff46357762ea097e  B92B99B12B9B6B4B32F6I4B18I232C4A14B17I79D36B3B...   \n",
       "3300  ff9318bd975b7050                                  A16A64B74B14A197I   \n",
       "3301  ffabda76a8fbaecd  B24B182A12B13B7B6F1B0I7B1B5B7F1I56B15F218B4F10...   \n",
       "3302  ffc2d5ab7d2ad39e                                     B93A2U271D127I   \n",
       "\n",
       "     first_event_date  \n",
       "0          2020-08-14  \n",
       "1          2020-03-26  \n",
       "2          2020-06-02  \n",
       "3          2020-10-14  \n",
       "4          2020-10-26  \n",
       "...               ...  \n",
       "3298       2020-05-07  \n",
       "3299       2020-04-20  \n",
       "3300       2020-08-10  \n",
       "3301       2020-05-05  \n",
       "3302       2020-07-16  \n",
       "\n",
       "[3303 rows x 3 columns]"
      ]
     },
     "execution_count": 5,
     "metadata": {},
     "output_type": "execute_result"
    }
   ],
   "source": [
    "separate_date(codes2)\n",
    "codes2"
   ]
  },
  {
   "cell_type": "code",
   "execution_count": 6,
   "id": "3433a09e",
   "metadata": {},
   "outputs": [],
   "source": [
    "# Function to split strings\n",
    "def split_string(s):\n",
    "    \"\"\"\n",
    "    s is a string code. Returns two lists, with letters (A) and numbers (B).\n",
    "    \"\"\"\n",
    "    S = []\n",
    "    for x in re.split('(\\d+)', s):\n",
    "        try:\n",
    "            S.append(int(x))\n",
    "        except ValueError:\n",
    "            S.append(x)\n",
    "    A, B = S[::2], S[1::2]\n",
    "    return A, B"
   ]
  },
  {
   "cell_type": "code",
   "execution_count": 7,
   "id": "683c4a8d",
   "metadata": {},
   "outputs": [],
   "source": [
    "# functions to obtain cases without dates\n",
    "def case1(A, B, pos, neg):\n",
    "    \"\"\"\n",
    "    Recognises case 1 reinfections (+|-|+).\n",
    "    Added some lines to detect certain cases 2.\n",
    "    \"\"\"\n",
    "    if A[0] in pos:\n",
    "        i = 0\n",
    "        c = B[i]\n",
    "        # to find case 2 before case 1\n",
    "        #if A[i] in pos and A[i+1] in pos and B[i] >= 90:\n",
    "        #    return 'Case 2', A[i+1:len(A)], B[i+1:len(B)]\n",
    "        if A[i+1] in pos and c >= 90:\n",
    "            return 'Case 2', A[i+1:len(A)], B[i+1:len(B)]\n",
    "        while A[i+1] not in neg:\n",
    "            i += 1\n",
    "            c += B[i]\n",
    "            # to find case 2 before case 1\n",
    "            if A[i+1] in pos and c >= 90:\n",
    "                return 'Case 2', A[i+1:len(A)], B[i+1:len(B)]\n",
    "        # here the first neg is found\n",
    "        i += 1\n",
    "        c += B[i]\n",
    "        while A[i+1] not in pos:\n",
    "            i += 1\n",
    "            c += B[i]\n",
    "        if c >= 90:\n",
    "            return 'Case 1', A[i+1:len(A)], B[i+1:len(B)]\n",
    "        elif c >= 60:\n",
    "            return 'Possible case 1', A[i+1:len(A)], B[i+1:len(B)]\n",
    "        else:\n",
    "            return '', A[i+1:len(A)], B[i+1:len(B)]\n",
    "    else:\n",
    "        i = 0\n",
    "        while A[i] not in pos:\n",
    "            i += 1\n",
    "        c = B[i]\n",
    "        # same as above\n",
    "        if A[i+1] in pos and c >= 90:\n",
    "            return 'Case 2', A[i+1:len(A)], B[i+1:len(B)]\n",
    "        while A[i+1] not in neg:\n",
    "            i += 1\n",
    "            c += B[i]\n",
    "            if A[i+1] in pos and c >= 90:\n",
    "                return 'Case 2', A[i+1:len(A)], B[i+1:len(B)]\n",
    "        i += 1\n",
    "        c += B[i]\n",
    "        while A[i+1] not in pos:\n",
    "            i += 1\n",
    "            c += B[i]\n",
    "        if c >= 90:\n",
    "            return 'Case 1', A[i+1:len(A)], B[i+1:len(B)]\n",
    "        elif c >= 60:\n",
    "            return 'Possible case 1', A[i+1:len(A)], B[i+1:len(B)]\n",
    "        else:\n",
    "            return '', A[i+1:len(A)], B[i+1:len(B)]\n",
    "\n",
    "def case2(A, B, pos):\n",
    "    \"\"\"\n",
    "    Recognises case 2 reinfections (+|+)\n",
    "    \"\"\"\n",
    "    c = 0\n",
    "    if A[0] in pos:\n",
    "        for i in range(len(B)):\n",
    "            if A[i+1] not in pos:\n",
    "                if bool([x for x in A[i+1:len(A)] if(x in pos)]) == False:\n",
    "                    if c >= 60:\n",
    "                        return 'Possible Case 2', A[i:len(A)], B[i:len(B)]\n",
    "                    else:\n",
    "                        return '', A[i:len(A)], B[i:len(B)]\n",
    "                c += B[i]\n",
    "            else:\n",
    "                if c + B[i] >= 90:\n",
    "                    return 'Case 2', A[i+1:len(A)], B[i+1:len(B)]\n",
    "                c = B[i]\n",
    "        if c >= 60:\n",
    "            return 'Possible Case 2', A[i+1:len(A)], B[i+1:len(B)]\n",
    "        else:\n",
    "            return '', A[i+1:len(A)], B[i+1:len(B)]\n",
    "    else:\n",
    "        i = 0\n",
    "        while A[i] not in pos:\n",
    "            i += 1\n",
    "        for j in range(i, len(B)):\n",
    "            if A[j+1] not in pos:\n",
    "                if bool([x for x in A[j+1:len(A)] if(x in pos)]) == False:\n",
    "                    if c >= 60:\n",
    "                        return 'Possible Case 2', A[j:len(A)], B[j:len(B)]\n",
    "                    else:\n",
    "                        return '', A[j:len(A)], B[j:len(B)]\n",
    "                c += B[j]\n",
    "            else:\n",
    "                if c + B[j] >= 90:\n",
    "                    return 'Case 2', A[j+1:len(A)], B[j+1:len(B)]\n",
    "                c = B[j]\n",
    "        if c >= 60:\n",
    "            return 'Possible Case 2', A[j+1:len(A)], B[j+1:len(B)]\n",
    "        else:\n",
    "            return '', A[j+1:len(A)], B[j+1:len(B)]"
   ]
  },
  {
   "cell_type": "code",
   "execution_count": 8,
   "id": "5beba8fc",
   "metadata": {},
   "outputs": [],
   "source": [
    "def sum_date(date, days_list):\n",
    "    return str(datetime.strptime(date, '%Y-%m-%d').date() + timedelta(days = sum(days_list)))"
   ]
  },
  {
   "cell_type": "code",
   "execution_count": 9,
   "id": "7945d324",
   "metadata": {},
   "outputs": [],
   "source": [
    "# functions to obtain cases with dates\n",
    "def case1d(A, B, pos, neg, date = ''):\n",
    "    \"\"\"\n",
    "    Recognises case 1 reinfections (+|-|+).\n",
    "    Added some lines to detect certain cases 2.\n",
    "    \"\"\"\n",
    "    if A[0] in pos:\n",
    "        i = 0\n",
    "        c = B[i]\n",
    "        # to find case 2 before case 1\n",
    "        #if A[i] in pos and A[i+1] in pos and B[i] >= 90:\n",
    "        #    return 'Case 2', A[i+1:len(A)], B[i+1:len(B)]\n",
    "        if A[i+1] in pos and c >= 90:\n",
    "            return 'Case 2', A[i+1:len(A)], B[i+1:len(B)], date, sum_date(date, B[:i+1])\n",
    "        while A[i+1] not in neg:\n",
    "            i += 1\n",
    "            c += B[i]\n",
    "            # to find case 2 before case 1\n",
    "            if A[i+1] in pos and c >= 90:\n",
    "                return 'Case 2', A[i+1:len(A)], B[i+1:len(B)], date, sum_date(date, B[:i+1])\n",
    "        # here the first neg is found\n",
    "        i += 1\n",
    "        c += B[i]\n",
    "        while A[i+1] not in pos:\n",
    "            i += 1\n",
    "            c += B[i]\n",
    "        if c >= 90:\n",
    "            return 'Case 1', A[i+1:len(A)], B[i+1:len(B)], date, sum_date(date, B[:i+1])\n",
    "        elif c >= 60:\n",
    "            return 'Possible case 1', A[i+1:len(A)], B[i+1:len(B)], date, sum_date(date, B[:i+1])\n",
    "        else:\n",
    "            return '', A[i+1:len(A)], B[i+1:len(B)], date, sum_date(date, B[:i+1])\n",
    "    else:\n",
    "        i = 0\n",
    "        while A[i] not in pos:\n",
    "            i += 1\n",
    "        j = i # index of first infection\n",
    "        c = B[i]\n",
    "        # same as above\n",
    "        if A[i+1] in pos and c >= 90:\n",
    "            return 'Case 2', A[i+1:len(A)], B[i+1:len(B)], sum_date(date, B[:j]), sum_date(date, B[:i+1])\n",
    "        while A[i+1] not in neg:\n",
    "            i += 1\n",
    "            c += B[i]\n",
    "            if A[i+1] in pos and c >= 90:\n",
    "                return 'Case 2', A[i+1:len(A)], B[i+1:len(B)], sum_date(date, B[:j]), sum_date(date, B[:i+1])\n",
    "        i += 1\n",
    "        c += B[i]\n",
    "        while A[i+1] not in pos:\n",
    "            i += 1\n",
    "            c += B[i]\n",
    "        if c >= 90:\n",
    "            return 'Case 1', A[i+1:len(A)], B[i+1:len(B)], sum_date(date, B[:j]), sum_date(date, B[:i+1])\n",
    "        elif c >= 60:\n",
    "            return 'Possible case 1', A[i+1:len(A)], B[i+1:len(B)], sum_date(date, B[:j]), sum_date(date, B[:i+1])\n",
    "        else:\n",
    "            return '', A[i+1:len(A)], B[i+1:len(B)], sum_date(date, B[:j]), sum_date(date, B[:i+1])"
   ]
  },
  {
   "cell_type": "code",
   "execution_count": 10,
   "id": "4827ec50",
   "metadata": {},
   "outputs": [],
   "source": [
    "def case2d(A, B, pos, date = ''):\n",
    "    \"\"\"\n",
    "    Recognises case 2 reinfections (+|+)\n",
    "    \"\"\"\n",
    "    c = 0\n",
    "    if A[0] in pos:\n",
    "        for i in range(len(B)):\n",
    "            if A[i+1] not in pos:\n",
    "                if bool([x for x in A[i+1:len(A)] if(x in pos)]) == False:\n",
    "                    if c >= 60:\n",
    "                        return 'Possible Case 2', A[i:len(A)], B[i:len(B)], date, sum_date(date, B[:i+1])\n",
    "                    else:\n",
    "                        return '', A[i:len(A)], B[i:len(B)], date, sum_date(date, B[:i+1])\n",
    "                c += B[i]\n",
    "            else:\n",
    "                if c + B[i] >= 90:\n",
    "                    return 'Case 2', A[i+1:len(A)], B[i+1:len(B)], date, sum_date(date, B[:i+1])\n",
    "                c = B[i]\n",
    "        if c >= 60:\n",
    "            return 'Possible Case 2', A[i+1:len(A)], B[i+1:len(B)], date, sum_date(date, B[:i+1])\n",
    "        else:\n",
    "            return '', A[i+1:len(A)], B[i+1:len(B)], date, sum_date(date, B[:i+1])\n",
    "    else:\n",
    "        i = 0\n",
    "        while A[i] not in pos:\n",
    "            i += 1\n",
    "        k = i\n",
    "        for j in range(i, len(B)):\n",
    "            if A[j+1] not in pos:\n",
    "                if bool([x for x in A[j+1:len(A)] if(x in pos)]) == False:\n",
    "                    if c >= 60:\n",
    "                        return 'Possible Case 2', A[j:len(A)], B[j:len(B)], sum_date(date, B[:k]), sum_date(date, B[:j])\n",
    "                    else:\n",
    "                        return '', A[j:len(A)], B[j:len(B)], sum_date(date, B[:k]), sum_date(date, B[:j])\n",
    "                c += B[j]\n",
    "            else:\n",
    "                if c + B[j] >= 90:\n",
    "                    return 'Case 2', A[j+1:len(A)], B[j+1:len(B)], sum_date(date, B[:k]), sum_date(date, B[:j+1])\n",
    "                c = B[j]\n",
    "        if c >= 60:\n",
    "            return 'Possible Case 2', A[j+1:len(A)], B[j+1:len(B)], sum_date(date, B[:k]), sum_date(date, B[:j+1])\n",
    "        else:\n",
    "            return '', A[j+1:len(A)], B[j+1:len(B)], sum_date(date, B[:k]), sum_date(date, B[:j+1])"
   ]
  },
  {
   "cell_type": "code",
   "execution_count": 11,
   "id": "e984fe92",
   "metadata": {},
   "outputs": [],
   "source": [
    "# adding multiple reinfection management\n",
    "def classif(s, pos = ['A', 'C', 'D'], neg = ['B'], date = ''):\n",
    "    \"\"\"\n",
    "    Takes a string and classifies it into reinfection cases 1 or 2\n",
    "    \"\"\"\n",
    "    A, B = split_string(s)\n",
    "    L = []\n",
    "    D = []\n",
    "    d1 = ''\n",
    "    d2 = ''\n",
    "    while len(A) > 1:\n",
    "        # indices stores a list between the first and last positive in the string\n",
    "        indices = [i for i, x in enumerate(A) if x in pos]\n",
    "        # b will be used to break the loop if there are no positives in the remaining string\n",
    "        b = [x for x in A[1:len(A)] if(x in pos)]\n",
    "        if any(n in A[min(indices):max(indices)] for n in neg):\n",
    "            if date == '':\n",
    "                r, A, B = case1(A, B, pos, neg)\n",
    "            else:\n",
    "                r, A, B, d1, d2 = case1d(A, B, pos, neg, date)\n",
    "                date = d2\n",
    "            if r != '':\n",
    "                L.append(r)\n",
    "                D.append([d1, d2])\n",
    "            #print('Case 1', A)\n",
    "        elif bool(b) == False:\n",
    "            break\n",
    "        else:\n",
    "            if date == '':\n",
    "                r, A, B = case2(A, B, pos)\n",
    "            else:\n",
    "                r, A, B, d1, d2 = case2d(A, B, pos, date)\n",
    "                date = d2\n",
    "            #print('Case 2', A)\n",
    "            if r != '':\n",
    "                L.append(r)\n",
    "                D.append([d1, d2])\n",
    "    if date != '':\n",
    "        return L, D\n",
    "    return L"
   ]
  },
  {
   "cell_type": "code",
   "execution_count": 12,
   "id": "efa5db47",
   "metadata": {},
   "outputs": [
    {
     "data": {
      "text/plain": [
       "(['Case 1'], [['2021-07-01', '2022-10-16']])"
      ]
     },
     "execution_count": 12,
     "metadata": {},
     "output_type": "execute_result"
    }
   ],
   "source": [
    "# option for taking antigen tests into account\n",
    "classif('B26A9B187F40F96F63F77A', pos = ['A', 'C', 'D', 'E'], neg = ['B', 'F'], date = '2021-06-05')"
   ]
  },
  {
   "cell_type": "code",
   "execution_count": 14,
   "id": "3b1a757f",
   "metadata": {
    "scrolled": false
   },
   "outputs": [
    {
     "name": "stdout",
     "output_type": "stream",
     "text": [
      "534a6e2cb3345b5b \n",
      "\n",
      "B2A0N13B0N0Q2U11Q36B105B13B2P12A1G0Q23B40F1F7I9B7B8I189B54I34T \n",
      "\n"
     ]
    },
    {
     "data": {
      "text/plain": [
       "('Case 1',\n",
       " ['A', 'G', 'Q', 'B', 'F', 'F', 'I', 'B', 'B', 'I', 'B', 'I', 'T'],\n",
       " [1, 0, 23, 40, 1, 7, 9, 7, 8, 189, 54, 34])"
      ]
     },
     "execution_count": 14,
     "metadata": {},
     "output_type": "execute_result"
    }
   ],
   "source": [
    "# trying random strings\n",
    "r = random.randint(0,3303)\n",
    "print(codes.iloc[r]['id'], '\\n')\n",
    "s = codes.iloc[r]['code']\n",
    "\n",
    "A, B = split_string(s)\n",
    "\n",
    "print(s, '\\n')\n",
    "\n",
    "#classif(s)\n",
    "case1(A, B, pos = ['A', 'C', 'D'], neg = ['B'])\n",
    "#case2(A, B, pos = ['A', 'C', 'D'])"
   ]
  },
  {
   "cell_type": "code",
   "execution_count": 15,
   "id": "a62326b3",
   "metadata": {},
   "outputs": [],
   "source": [
    "# applying function\n",
    "d = {}\n",
    "for x in codes['id']:\n",
    "    d[str(x)] = classif(codes.loc[codes['id'] == x]['code'].values[0])"
   ]
  },
  {
   "cell_type": "code",
   "execution_count": 200,
   "id": "25f82fc0",
   "metadata": {},
   "outputs": [],
   "source": [
    "import csv\n",
    "\n",
    "with open('../results/dict.csv', 'w') as f:\n",
    "    for key in d.keys():\n",
    "        f.write(\"%s, %s\\n\" % (key, d[key]))"
   ]
  },
  {
   "cell_type": "code",
   "execution_count": 16,
   "id": "2d3bfc91",
   "metadata": {},
   "outputs": [],
   "source": [
    "# writing dictionary with strings and dates\n",
    "D = {}\n",
    "for x in codes2['id']:\n",
    "    D[str(x)] = [codes2.loc[codes2['id'] == x]['first_event_date'].values[0],\n",
    "                codes2.loc[codes2['id'] == x]['code'].values[0],\n",
    "                classif(codes2.loc[codes2['id'] == x]['code'].values[0])]\n"
   ]
  },
  {
   "cell_type": "code",
   "execution_count": 289,
   "id": "dfbc9e58",
   "metadata": {},
   "outputs": [],
   "source": [
    "with open('../results/dict2.csv', 'w') as f:\n",
    "    for key in D.keys():\n",
    "        f.write(\"%s, %s, %s, %s\\n\" % (key, D[key][0], D[key][1], D[key][2]))"
   ]
  },
  {
   "cell_type": "code",
   "execution_count": 17,
   "id": "e305f091",
   "metadata": {
    "scrolled": true
   },
   "outputs": [
    {
     "data": {
      "text/plain": [
       "{\"['Case 1']\": 2109,\n",
       " \"['Case 2']\": 996,\n",
       " \"['Case 2', 'Case 2']\": 5,\n",
       " \"['Case 1', 'Case 1']\": 99,\n",
       " \"['Possible case 1']\": 26,\n",
       " \"['Case 2', 'Case 1']\": 17,\n",
       " '[]': 18,\n",
       " \"['Case 1', 'Possible case 1']\": 5,\n",
       " \"['Possible case 1', 'Case 1']\": 10,\n",
       " \"['Case 1', 'Case 2']\": 2,\n",
       " \"['Possible Case 2']\": 8,\n",
       " \"['Case 1', 'Case 1', 'Possible case 1']\": 2,\n",
       " \"['Case 1', 'Possible case 1', 'Case 1']\": 2,\n",
       " \"['Case 2', 'Possible Case 2']\": 1,\n",
       " \"['Case 1', 'Case 1', 'Case 1']\": 1,\n",
       " \"['Possible case 1', 'Possible case 1']\": 2}"
      ]
     },
     "execution_count": 17,
     "metadata": {},
     "output_type": "execute_result"
    }
   ],
   "source": [
    "N = list(d.values())\n",
    "N = [str(x) for x in N]\n",
    "freq = {}\n",
    "for items in N:\n",
    "    freq[items] = N.count(items)\n",
    "freq"
   ]
  },
  {
   "cell_type": "code",
   "execution_count": 18,
   "id": "56b8584f",
   "metadata": {},
   "outputs": [],
   "source": [
    "# cases 1 \n",
    "C1 = {}\n",
    "for key in D.keys():\n",
    "    if D[key][2] == ['Case 1']:\n",
    "        C1[key] = D[key]"
   ]
  },
  {
   "cell_type": "code",
   "execution_count": 19,
   "id": "8dcf7260",
   "metadata": {},
   "outputs": [
    {
     "data": {
      "text/plain": [
       "['2020-10-09', 'B20A85B94B46A88J129F8E', ['Case 1']]"
      ]
     },
     "execution_count": 19,
     "metadata": {},
     "output_type": "execute_result"
    }
   ],
   "source": [
    "C1['ae769a9c1b782eaf']"
   ]
  },
  {
   "cell_type": "code",
   "execution_count": 20,
   "id": "78a3f46c",
   "metadata": {},
   "outputs": [],
   "source": [
    "# function for selecting cases 1 with only two positives in their strings\n",
    "def two_pos(S, pos = ['A', 'C', 'D']):\n",
    "    l = []\n",
    "    for p,c in enumerate(S):\n",
    "        if(c in pos):\n",
    "            l.append(p)\n",
    "    if len(l) == 2:\n",
    "        return True"
   ]
  },
  {
   "cell_type": "code",
   "execution_count": 21,
   "id": "cb9de809",
   "metadata": {},
   "outputs": [],
   "source": [
    "FC1 = {}\n",
    "for key in C1.keys():\n",
    "    if two_pos(C1[key][1]):\n",
    "        FC1[key] = C1[key]"
   ]
  },
  {
   "cell_type": "code",
   "execution_count": 22,
   "id": "2e862004",
   "metadata": {
    "scrolled": true
   },
   "outputs": [
    {
     "data": {
      "text/plain": [
       "1235"
      ]
     },
     "execution_count": 22,
     "metadata": {},
     "output_type": "execute_result"
    }
   ],
   "source": [
    "len(FC1)"
   ]
  },
  {
   "cell_type": "code",
   "execution_count": 23,
   "id": "4ec2097e",
   "metadata": {},
   "outputs": [],
   "source": [
    "# Discarding sequenced samples\n",
    "def find_sequenced(s):\n",
    "    if not 'C' in s:\n",
    "        return 'Not sequenced'\n",
    "    l = [x for x in s if(x in ['A', 'C', 'D'])]\n",
    "    if l == ['C', 'C']:\n",
    "        return 'Both sequenced'\n",
    "    if l[0] == 'C':\n",
    "        return 'First PCR sequenced'\n",
    "    if l[1] == 'C':\n",
    "        return 'Second PCR sequenced'"
   ]
  },
  {
   "cell_type": "code",
   "execution_count": 24,
   "id": "c0ae7e37",
   "metadata": {},
   "outputs": [],
   "source": [
    "FC1_seq = {}\n",
    "for k in FC1.keys():\n",
    "    FC1_seq[k] = find_sequenced(FC1[k][1])"
   ]
  },
  {
   "cell_type": "code",
   "execution_count": 25,
   "id": "def77773",
   "metadata": {},
   "outputs": [
    {
     "data": {
      "text/plain": [
       "{'Not sequenced': 989,\n",
       " 'Second PCR sequenced': 206,\n",
       " 'First PCR sequenced': 32,\n",
       " 'Both sequenced': 8}"
      ]
     },
     "execution_count": 25,
     "metadata": {},
     "output_type": "execute_result"
    }
   ],
   "source": [
    "M = list(FC1_seq.values())\n",
    "M = [str(x) for x in M]\n",
    "freq = {}\n",
    "for items in M:\n",
    "    freq[items] = M.count(items)\n",
    "freq"
   ]
  },
  {
   "cell_type": "code",
   "execution_count": 26,
   "id": "2db63f2d",
   "metadata": {},
   "outputs": [],
   "source": [
    "# exploring no reinfections\n",
    "NO = {}\n",
    "for key in D.keys():\n",
    "    if D[key][2] == []:\n",
    "        NO[key] = D[key]\n",
    "        \n",
    "# NO"
   ]
  },
  {
   "cell_type": "code",
   "execution_count": 288,
   "id": "56916be0",
   "metadata": {},
   "outputs": [],
   "source": [
    "# saving dict\n",
    "with open('../results/filtered_dict.csv', 'w') as f:\n",
    "    for key in FC1.keys():\n",
    "        f.write(\"%s, %s, %s\\n\" % (key, FC1[key][0], FC1[key][1]))"
   ]
  },
  {
   "cell_type": "code",
   "execution_count": 27,
   "id": "78b98383",
   "metadata": {},
   "outputs": [],
   "source": [
    "# accounting for antigen tests\n",
    "a = {}\n",
    "for x in codes2['id']:\n",
    "    a[str(x)] = classif(codes2.loc[codes2['id'] == x]['code'].values[0], \n",
    "                        pos = ['A', 'C', 'D', 'E'], neg = ['B', 'F'])"
   ]
  },
  {
   "cell_type": "code",
   "execution_count": 28,
   "id": "b80ac82a",
   "metadata": {},
   "outputs": [
    {
     "data": {
      "text/plain": [
       "{\"['Case 1']\": 2344,\n",
       " \"['Case 2']\": 652,\n",
       " \"['Case 2', 'Case 1']\": 47,\n",
       " \"['Case 2', 'Case 2']\": 6,\n",
       " \"['Case 1', 'Case 1']\": 158,\n",
       " \"['Possible case 1']\": 26,\n",
       " \"['Case 1', 'Case 1', 'Case 1']\": 4,\n",
       " '[]': 13,\n",
       " \"['Case 1', 'Case 2']\": 11,\n",
       " \"['Case 1', 'Possible case 1']\": 11,\n",
       " \"['Possible case 1', 'Case 1']\": 15,\n",
       " \"['Case 1', 'Possible Case 2']\": 2,\n",
       " \"['Case 1', 'Case 1', 'Possible case 1']\": 2,\n",
       " \"['Case 1', 'Possible case 1', 'Case 1']\": 2,\n",
       " \"['Possible Case 2']\": 6,\n",
       " \"['Possible case 1', 'Case 1', 'Case 1']\": 2,\n",
       " \"['Possible case 1', 'Possible case 1']\": 1,\n",
       " \"['Possible case 1', 'Possible case 1', 'Case 1']\": 1}"
      ]
     },
     "execution_count": 28,
     "metadata": {},
     "output_type": "execute_result"
    }
   ],
   "source": [
    "M = list(a.values())\n",
    "M = [str(x) for x in M]\n",
    "freq = {}\n",
    "for items in M:\n",
    "    freq[items] = M.count(items)\n",
    "freq"
   ]
  },
  {
   "cell_type": "code",
   "execution_count": 29,
   "id": "a2041509",
   "metadata": {},
   "outputs": [],
   "source": [
    "# FUNCTIONS FOR VARIANT ASSIGNMENT\n",
    "\n",
    "# prealpha: start (2020-03-13) --> 2021-02-01\n",
    "# alpha: 2021-02-08 --> 2021-06-21\n",
    "# delta: 2021-06-28 --> 2021-12-13\n",
    "# omicron: 2021-12-20 --> end (2022-05-21)\n",
    "\n",
    "# function to obtain the last event date\n",
    "def last_date(date, string):\n",
    "    L, N = split_string(string)\n",
    "    d = sum(N)\n",
    "    return str(datetime.strptime(date, '%Y-%m-%d').date() + timedelta(days = d))"
   ]
  },
  {
   "cell_type": "code",
   "execution_count": 30,
   "id": "e767f256",
   "metadata": {},
   "outputs": [
    {
     "data": {
      "text/plain": [
       "'2022-03-15'"
      ]
     },
     "execution_count": 30,
     "metadata": {},
     "output_type": "execute_result"
    }
   ],
   "source": [
    "last_date(codes2['first_event_date'][0], codes2['code'][0])"
   ]
  },
  {
   "cell_type": "code",
   "execution_count": 31,
   "id": "8e7ab824",
   "metadata": {
    "scrolled": true
   },
   "outputs": [],
   "source": [
    "ld_list = []\n",
    "for i in range(len(codes2)):\n",
    "    ld_list.append(last_date(codes2['first_event_date'][i], codes2['code'][i]))"
   ]
  },
  {
   "cell_type": "code",
   "execution_count": 32,
   "id": "98523e44",
   "metadata": {},
   "outputs": [
    {
     "data": {
      "text/plain": [
       "3303"
      ]
     },
     "execution_count": 32,
     "metadata": {},
     "output_type": "execute_result"
    }
   ],
   "source": [
    "len(ld_list)"
   ]
  },
  {
   "cell_type": "code",
   "execution_count": 33,
   "id": "75771ead",
   "metadata": {},
   "outputs": [
    {
     "name": "stdout",
     "output_type": "stream",
     "text": [
      "2020-03-13\n",
      "2022-05-21\n"
     ]
    }
   ],
   "source": [
    "# obtaining first and last date\n",
    "print(min(codes2['first_event_date']))\n",
    "print(max(ld_list))"
   ]
  },
  {
   "cell_type": "code",
   "execution_count": 34,
   "id": "248344e8",
   "metadata": {},
   "outputs": [
    {
     "name": "stdout",
     "output_type": "stream",
     "text": [
      "B37A70I24A0I1F0B168B146J4B24B \n",
      " 2020-09-23\n"
     ]
    },
    {
     "data": {
      "text/plain": [
       "(['Case 2'], [['2020-10-30', '2021-02-01']])"
      ]
     },
     "execution_count": 34,
     "metadata": {},
     "output_type": "execute_result"
    }
   ],
   "source": [
    "# testing dates obtention\n",
    "r = random.randint(0,3303)\n",
    "s = codes2.iloc[r]['code']\n",
    "dat = codes2.iloc[r]['first_event_date']\n",
    "\n",
    "print(s, '\\n', dat)\n",
    "\n",
    "classif(s, pos = ['A', 'C', 'D'], neg = ['B'], date = dat)"
   ]
  },
  {
   "cell_type": "code",
   "execution_count": 35,
   "id": "6527b34c",
   "metadata": {},
   "outputs": [
    {
     "data": {
      "text/plain": [
       "'2022-01-25'"
      ]
     },
     "execution_count": 35,
     "metadata": {},
     "output_type": "execute_result"
    }
   ],
   "source": [
    "sum_date('2020-03-29', [46,132,97,14,2,12,9,5,14,14,90,186,4,8,1,4,16,13])"
   ]
  },
  {
   "cell_type": "code",
   "execution_count": 36,
   "id": "c11f5386",
   "metadata": {},
   "outputs": [],
   "source": [
    "# obtaining all dates\n",
    "# we will only use PCR/TMA\n",
    "dates_dict = {}\n",
    "for x in codes2['id']:\n",
    "    dates_dict[str(x)] = classif(codes2.loc[codes2['id'] == x]['code'].values[0], \n",
    "                        pos = ['A', 'C', 'D'], neg = ['B'], \n",
    "                        date = codes2.loc[codes2['id'] == x]['first_event_date'].values[0])"
   ]
  },
  {
   "cell_type": "code",
   "execution_count": 37,
   "id": "251ff99b",
   "metadata": {},
   "outputs": [],
   "source": [
    "# function for classifying reinfections in 10 categories (combinations of pre-alpha, alpha, delta, omicron)\n",
    "def probable_variant(date1, date2):\n",
    "    a = datetime.strptime('2021-02-08', '%Y-%m-%d').date() # alpha start\n",
    "    d = datetime.strptime('2021-06-28', '%Y-%m-%d').date() # delta start\n",
    "    o = datetime.strptime('2021-12-20', '%Y-%m-%d').date() # omicron start\n",
    "    date1 = datetime.strptime(date1, '%Y-%m-%d').date()\n",
    "    date2 = datetime.strptime(date2, '%Y-%m-%d').date()\n",
    "    if date1 < a:\n",
    "        if date2 < a:\n",
    "            return 'pre-alpha:pre-alpha'\n",
    "        if date2 < d:\n",
    "            return 'pre-alpha:alpha'\n",
    "        if date2 < o:\n",
    "            return 'pre-alpha:delta'\n",
    "        else:\n",
    "            return 'pre-alpha:omicron'\n",
    "    if date1 < d:\n",
    "        if date2 < d:\n",
    "            return 'alpha:alpha'\n",
    "        if date2 < o:\n",
    "            return 'alpha:delta'\n",
    "        else:\n",
    "            return 'alpha:omicron'\n",
    "    if date1 < o:\n",
    "        if date2 < o:\n",
    "            return 'delta:delta'\n",
    "        else:\n",
    "            return 'delta:omicron'\n",
    "    else:\n",
    "        return 'omicron:omicron'"
   ]
  },
  {
   "cell_type": "code",
   "execution_count": 38,
   "id": "3dfc355a",
   "metadata": {},
   "outputs": [
    {
     "data": {
      "text/plain": [
       "'pre-alpha:omicron'"
      ]
     },
     "execution_count": 38,
     "metadata": {},
     "output_type": "execute_result"
    }
   ],
   "source": [
    "probable_variant('2020-04-12', '2022-01-19')"
   ]
  },
  {
   "cell_type": "code",
   "execution_count": 39,
   "id": "126db862",
   "metadata": {},
   "outputs": [],
   "source": [
    "variants = {}\n",
    "for k, v in dates_dict.items():\n",
    "    l = []\n",
    "    for x in list(v)[1]:\n",
    "        l.append(probable_variant(x[0], x[1]))\n",
    "    variants[k] = l"
   ]
  },
  {
   "cell_type": "code",
   "execution_count": 40,
   "id": "3a76b90b",
   "metadata": {
    "scrolled": true
   },
   "outputs": [
    {
     "data": {
      "text/plain": [
       "{\"['pre-alpha:delta']\": 527,\n",
       " \"['pre-alpha:omicron']\": 1284,\n",
       " \"['pre-alpha:pre-alpha']\": 311,\n",
       " \"['pre-alpha:alpha']\": 233,\n",
       " \"['delta:omicron']\": 439,\n",
       " \"['pre-alpha:pre-alpha', 'pre-alpha:delta']\": 11,\n",
       " \"['alpha:omicron']\": 198,\n",
       " \"['pre-alpha:delta', 'delta:omicron']\": 47,\n",
       " \"['delta:delta']\": 56,\n",
       " \"['pre-alpha:delta', 'delta:delta']\": 3,\n",
       " \"['alpha:delta']\": 86,\n",
       " \"['alpha:alpha']\": 5,\n",
       " \"['pre-alpha:alpha', 'alpha:omicron']\": 23,\n",
       " \"['pre-alpha:alpha', 'alpha:delta']\": 9,\n",
       " \"['pre-alpha:pre-alpha', 'pre-alpha:omicron']\": 30,\n",
       " '[]': 18,\n",
       " \"['alpha:delta', 'delta:delta']\": 1,\n",
       " \"['pre-alpha:pre-alpha', 'pre-alpha:alpha']\": 4,\n",
       " \"['pre-alpha:pre-alpha', 'pre-alpha:pre-alpha']\": 2,\n",
       " \"['alpha:delta', 'delta:omicron']\": 7,\n",
       " \"['pre-alpha:pre-alpha', 'pre-alpha:pre-alpha', 'pre-alpha:pre-alpha']\": 1,\n",
       " \"['pre-alpha:pre-alpha', 'pre-alpha:pre-alpha', 'pre-alpha:omicron']\": 1,\n",
       " \"['pre-alpha:pre-alpha', 'pre-alpha:alpha', 'alpha:delta']\": 1,\n",
       " \"['alpha:alpha', 'alpha:delta']\": 1,\n",
       " \"['pre-alpha:delta', 'delta:omicron', 'omicron:omicron']\": 1,\n",
       " \"['delta:delta', 'delta:omicron']\": 3,\n",
       " \"['pre-alpha:pre-alpha', 'pre-alpha:delta', 'delta:omicron']\": 1}"
      ]
     },
     "execution_count": 40,
     "metadata": {},
     "output_type": "execute_result"
    }
   ],
   "source": [
    "V = list(variants.values())\n",
    "V = [str(x) for x in V]\n",
    "freq = {}\n",
    "for items in V:\n",
    "    freq[items] = V.count(items)\n",
    "freq"
   ]
  },
  {
   "cell_type": "code",
   "execution_count": 81,
   "id": "bc2548f9",
   "metadata": {},
   "outputs": [],
   "source": [
    "# saving dictionary\n",
    "with open('../results/possible_variants.csv', 'w') as f:\n",
    "    for key in variants.keys():\n",
    "        if len(variants[key]) == 0:\n",
    "            f.write(\"%s,,,\\n\" % key)\n",
    "        elif len(variants[key]) == 1:\n",
    "            f.write(\"%s,%s,,\\n\" % (key, variants[key][0]))\n",
    "        elif len(variants[key]) == 2:\n",
    "            f.write(\"%s,%s,%s,\\n\" % (key, variants[key][0], variants[key][1]))\n",
    "        elif len(variants[key]) == 3:\n",
    "            f.write(\"%s,%s,%s,%s\\n\" % (key, variants[key][0], variants[key][1], variants[key][2]))"
   ]
  },
  {
   "cell_type": "code",
   "execution_count": 41,
   "id": "8ad8eeaa",
   "metadata": {},
   "outputs": [
    {
     "data": {
      "text/plain": [
       "3285"
      ]
     },
     "execution_count": 41,
     "metadata": {},
     "output_type": "execute_result"
    }
   ],
   "source": [
    "# getting counts of each variant\n",
    "# removing emptly values\n",
    "lista = []\n",
    "lista2 = list(variants.values())\n",
    "for i in range(len(lista2)):\n",
    "    if lista2[i] != []:\n",
    "        lista.append(lista2[i])\n",
    "len(lista)"
   ]
  },
  {
   "cell_type": "code",
   "execution_count": 42,
   "id": "d326e99a",
   "metadata": {},
   "outputs": [],
   "source": [
    "# separating list into first, second, and third reinfection\n",
    "lista1 = []\n",
    "lista2 = []\n",
    "lista3 = []\n",
    "for e in lista:\n",
    "    if len(e) == 1:\n",
    "        lista1.append(e[0])\n",
    "    elif len(e) == 2:\n",
    "        lista1.append(e[0])\n",
    "        lista2.append(e[1])\n",
    "    elif len(e) == 3:\n",
    "        lista1.append(e[0])\n",
    "        lista2.append(e[1])\n",
    "        lista3.append(e[2])"
   ]
  },
  {
   "cell_type": "code",
   "execution_count": 43,
   "id": "6316c354",
   "metadata": {},
   "outputs": [],
   "source": [
    "# from lista2 and lista3 we will only count last variant\n",
    "countv = []\n",
    "for e in lista2:\n",
    "    countv.append(e.split(':')[1])\n",
    "for e in lista3:\n",
    "    countv.append(e.split(':')[1])"
   ]
  },
  {
   "cell_type": "code",
   "execution_count": 44,
   "id": "5bc3862d",
   "metadata": {},
   "outputs": [],
   "source": [
    "# we will add both variants from lista1\n",
    "for e in lista1:\n",
    "    countv.append(e.split(':')[0])\n",
    "    countv.append(e.split(':')[1])"
   ]
  },
  {
   "cell_type": "code",
   "execution_count": 45,
   "id": "6eeff0b9",
   "metadata": {},
   "outputs": [
    {
     "data": {
      "text/plain": [
       "6721"
      ]
     },
     "execution_count": 45,
     "metadata": {},
     "output_type": "execute_result"
    }
   ],
   "source": [
    "len(countv)"
   ]
  },
  {
   "cell_type": "code",
   "execution_count": 46,
   "id": "47ecfafc",
   "metadata": {},
   "outputs": [
    {
     "data": {
      "text/plain": [
       "Counter({'delta': 1256, 'omicron': 2035, 'alpha': 574, 'pre-alpha': 2856})"
      ]
     },
     "execution_count": 46,
     "metadata": {},
     "output_type": "execute_result"
    }
   ],
   "source": [
    "Counter(countv)"
   ]
  },
  {
   "cell_type": "code",
   "execution_count": 47,
   "id": "b59eb325",
   "metadata": {
    "scrolled": true
   },
   "outputs": [],
   "source": [
    "# We will characterize time between infections\n",
    "# we will omit multiple reinfections (only counting the first reinfection)\n",
    "first = []\n",
    "for v in dates_dict.values():\n",
    "    try:\n",
    "        first.append(v[1][0])\n",
    "    except IndexError:\n",
    "        pass"
   ]
  },
  {
   "cell_type": "code",
   "execution_count": 48,
   "id": "dd372b7e",
   "metadata": {},
   "outputs": [],
   "source": [
    "days_first = []\n",
    "for x in first:\n",
    "    days_first.append((datetime.strptime(x[1], '%Y-%m-%d') - datetime.strptime(x[0], '%Y-%m-%d')).days)"
   ]
  },
  {
   "cell_type": "code",
   "execution_count": 49,
   "id": "1a3e7a2a",
   "metadata": {},
   "outputs": [
    {
     "data": {
      "text/plain": [
       "''"
      ]
     },
     "execution_count": 49,
     "metadata": {},
     "output_type": "execute_result"
    },
    {
     "data": {
      "image/png": "[encoded data removed]",
      "text/plain": [
       "<Figure size 432x288 with 1 Axes>"
      ]
     },
     "metadata": {
      "needs_background": "light"
     },
     "output_type": "display_data"
    }
   ],
   "source": [
    "import matplotlib.pyplot as plt\n",
    "\n",
    "plt.hist(days_first, color = 'lightblue', edgecolor = 'white',\n",
    "         bins = int((max(days_first)-min(days_first))/10))\n",
    "\n",
    "plt.title('Time between episodes (first reinfection)')\n",
    "plt.xlabel('Days')\n",
    "plt.ylabel('Number of patients')\n",
    ";"
   ]
  },
  {
   "cell_type": "code",
   "execution_count": 50,
   "id": "c3b0bb21",
   "metadata": {},
   "outputs": [
    {
     "name": "stderr",
     "output_type": "stream",
     "text": [
      "/home/fmunoz/miniconda3/lib/python3.9/site-packages/seaborn/distributions.py:2619: FutureWarning: `distplot` is a deprecated function and will be removed in a future version. Please adapt your code to use either `displot` (a figure-level function with similar flexibility) or `histplot` (an axes-level function for histograms).\n",
      "  warnings.warn(msg, FutureWarning)\n"
     ]
    },
    {
     "data": {
      "text/plain": [
       "''"
      ]
     },
     "execution_count": 50,
     "metadata": {},
     "output_type": "execute_result"
    },
    {
     "data": {
      "image/png": "[encoded data removed]",
      "text/plain": [
       "<Figure size 842.4x595.44 with 1 Axes>"
      ]
     },
     "metadata": {},
     "output_type": "display_data"
    }
   ],
   "source": [
    "import seaborn as sns\n",
    "sns.set(rc={'figure.figsize':(11.7,8.27)})\n",
    "\n",
    "# different representation\n",
    "\n",
    "sns.distplot(days_first, hist=True, kde=True, \n",
    "             bins=int((max(days_first)-min(days_first))/10),\n",
    "             color = 'darkblue', \n",
    "             hist_kws={'edgecolor':'black'},\n",
    "             kde_kws={'linewidth': 4})\n",
    "\n",
    "plt.title('Time between episodes (first reinfection)')\n",
    "plt.xlabel('Days')\n",
    "plt.ylabel('Density')\n",
    ";"
   ]
  },
  {
   "cell_type": "code",
   "execution_count": 51,
   "id": "b08759cf",
   "metadata": {},
   "outputs": [],
   "source": [
    "# Second reinfection\n",
    "second = []\n",
    "for v in dates_dict.values():\n",
    "    try:\n",
    "        second.append(v[1][1])\n",
    "    except IndexError:\n",
    "        pass\n",
    "    \n",
    "days_second = []\n",
    "for x in second:\n",
    "    days_second.append((datetime.strptime(x[1], '%Y-%m-%d') - datetime.strptime(x[0], '%Y-%m-%d')).days)"
   ]
  },
  {
   "cell_type": "code",
   "execution_count": 52,
   "id": "67b7d875",
   "metadata": {},
   "outputs": [
    {
     "name": "stderr",
     "output_type": "stream",
     "text": [
      "/home/fmunoz/miniconda3/lib/python3.9/site-packages/seaborn/distributions.py:2619: FutureWarning: `distplot` is a deprecated function and will be removed in a future version. Please adapt your code to use either `displot` (a figure-level function with similar flexibility) or `histplot` (an axes-level function for histograms).\n",
      "  warnings.warn(msg, FutureWarning)\n"
     ]
    },
    {
     "data": {
      "text/plain": [
       "''"
      ]
     },
     "execution_count": 52,
     "metadata": {},
     "output_type": "execute_result"
    },
    {
     "data": {
      "image/png": "[encoded data removed]",
      "text/plain": [
       "<Figure size 842.4x595.44 with 1 Axes>"
      ]
     },
     "metadata": {},
     "output_type": "display_data"
    }
   ],
   "source": [
    "sns.distplot(days_second, hist=True, kde=True, \n",
    "             bins=int((max(days_first)-min(days_first))/15),\n",
    "             color = 'darkblue', \n",
    "             hist_kws={'edgecolor':'black'},\n",
    "             kde_kws={'linewidth': 4})\n",
    "\n",
    "plt.title('Time between episodes (second reinfection)')\n",
    "plt.xlabel('Days')\n",
    "plt.ylabel('Density')\n",
    ";"
   ]
  },
  {
   "cell_type": "code",
   "execution_count": 53,
   "id": "12fd4aed",
   "metadata": {},
   "outputs": [
    {
     "name": "stderr",
     "output_type": "stream",
     "text": [
      "/home/fmunoz/miniconda3/lib/python3.9/site-packages/seaborn/distributions.py:2619: FutureWarning: `distplot` is a deprecated function and will be removed in a future version. Please adapt your code to use either `displot` (a figure-level function with similar flexibility) or `histplot` (an axes-level function for histograms).\n",
      "  warnings.warn(msg, FutureWarning)\n"
     ]
    },
    {
     "data": {
      "text/plain": [
       "''"
      ]
     },
     "execution_count": 53,
     "metadata": {},
     "output_type": "execute_result"
    },
    {
     "data": {
      "image/png": "[encoded data removed]",
      "text/plain": [
       "<Figure size 842.4x595.44 with 1 Axes>"
      ]
     },
     "metadata": {},
     "output_type": "display_data"
    }
   ],
   "source": [
    "# third reinfection\n",
    "third = []\n",
    "for v in dates_dict.values():\n",
    "    try:\n",
    "        third.append(v[1][2])\n",
    "    except IndexError:\n",
    "        pass\n",
    "    \n",
    "days_third = []\n",
    "for x in third:\n",
    "    days_third.append((datetime.strptime(x[1], '%Y-%m-%d') - datetime.strptime(x[0], '%Y-%m-%d')).days)\n",
    "    \n",
    "sns.distplot(days_third, hist=True, kde=True, \n",
    "             bins=int((max(days_first)-min(days_first))),\n",
    "             color = 'darkblue', \n",
    "             hist_kws={'edgecolor':'black'},\n",
    "             kde_kws={'linewidth': 4})\n",
    "\n",
    "plt.title('Time between episodes (third reinfection)')\n",
    "plt.xlabel('Days')\n",
    "plt.ylabel('Density')\n",
    ";"
   ]
  },
  {
   "cell_type": "code",
   "execution_count": 54,
   "id": "8ee2676b",
   "metadata": {},
   "outputs": [],
   "source": [
    "# let's label the first PCR of each episode\n",
    "twopcr = pd.read_csv('../data/new_version/main_sheet.csv', sep = ';')"
   ]
  },
  {
   "cell_type": "code",
   "execution_count": 55,
   "id": "7e4ddbcb",
   "metadata": {},
   "outputs": [],
   "source": [
    "twopcr = twopcr[['ID_ANONIMITZAT', 'ETIQUETA_1_ANOMIM', 'DATA POSITIU 1', 'ETIQUETA_2_ANOMIM', 'DATA POSITIU 2']]"
   ]
  },
  {
   "cell_type": "code",
   "execution_count": 56,
   "id": "fe03c47c",
   "metadata": {},
   "outputs": [],
   "source": [
    "otherpcrs = pd.read_csv('../data/new_version/pcrs.csv', sep = ';')"
   ]
  },
  {
   "cell_type": "code",
   "execution_count": 57,
   "id": "9ab45dbe",
   "metadata": {},
   "outputs": [],
   "source": [
    "otherpcrs = otherpcrs[otherpcrs['PROVA'] == 'PCR']"
   ]
  },
  {
   "cell_type": "code",
   "execution_count": 58,
   "id": "b06f0e33",
   "metadata": {},
   "outputs": [],
   "source": [
    "otherpcrs = otherpcrs[otherpcrs['RESULTAT'] == 'Positiu']"
   ]
  },
  {
   "cell_type": "code",
   "execution_count": 59,
   "id": "3b74de4e",
   "metadata": {},
   "outputs": [],
   "source": [
    "otherpcrs = otherpcrs[['ID_ANONIMITZAT', 'DATA', 'ETIQUETA_ANONIM']]\n",
    "otherpcrs = otherpcrs.rename({'ID_ANONIMITZAT':'id', 'DATA':'date', 'ETIQUETA_ANONIM':'label'}, axis = 1)"
   ]
  },
  {
   "cell_type": "code",
   "execution_count": 60,
   "id": "aeaaf290",
   "metadata": {},
   "outputs": [],
   "source": [
    "# arranging twopcr\n",
    "twopcr1 = twopcr[['ID_ANONIMITZAT', 'DATA POSITIU 1', 'ETIQUETA_1_ANOMIM']]\n",
    "twopcr1 = twopcr1.rename({'ID_ANONIMITZAT':'id', 'DATA POSITIU 1':'date', 'ETIQUETA_1_ANOMIM':'label'}, axis = 1)\n",
    "twopcr2 = twopcr[['ID_ANONIMITZAT', 'DATA POSITIU 2', 'ETIQUETA_2_ANOMIM']]\n",
    "twopcr2 = twopcr2.rename({'ID_ANONIMITZAT':'id', 'DATA POSITIU 2':'date', 'ETIQUETA_2_ANOMIM':'label'}, axis = 1)"
   ]
  },
  {
   "cell_type": "code",
   "execution_count": 61,
   "id": "415e85bc",
   "metadata": {},
   "outputs": [],
   "source": [
    "mainpcrs = pd.concat([twopcr1, twopcr2])"
   ]
  },
  {
   "cell_type": "code",
   "execution_count": 62,
   "id": "04279982",
   "metadata": {},
   "outputs": [],
   "source": [
    "# removing possible duplicates\n",
    "mainpcrs = mainpcrs.drop_duplicates()\n",
    "otherpcrs = otherpcrs.drop_duplicates()"
   ]
  },
  {
   "cell_type": "code",
   "execution_count": 63,
   "id": "f0ba4d07",
   "metadata": {},
   "outputs": [],
   "source": [
    "# we need to change the date format\n",
    "fechas = []\n",
    "for d in mainpcrs['date']:\n",
    "    fechas.append(str(datetime.strptime(d, '%d/%m/%Y').date()))\n",
    "\n",
    "mainpcrs['date'] = fechas"
   ]
  },
  {
   "cell_type": "code",
   "execution_count": 64,
   "id": "a97307cc",
   "metadata": {},
   "outputs": [],
   "source": [
    "fechas = []\n",
    "for d in otherpcrs['date']:\n",
    "    fechas.append(str(datetime.strptime(d, '%m/%d/%Y').date()))\n",
    "\n",
    "otherpcrs['date'] = fechas"
   ]
  },
  {
   "cell_type": "code",
   "execution_count": 65,
   "id": "ba9edacc",
   "metadata": {},
   "outputs": [
    {
     "data": {
      "text/plain": [
       "15414"
      ]
     },
     "execution_count": 65,
     "metadata": {},
     "output_type": "execute_result"
    }
   ],
   "source": [
    "# joining dataframes\n",
    "pcrs = pd.concat([mainpcrs, otherpcrs])\n",
    "len(pcrs)"
   ]
  },
  {
   "cell_type": "code",
   "execution_count": 66,
   "id": "2478fdbd",
   "metadata": {},
   "outputs": [],
   "source": [
    "# sorting df\n",
    "pcrs = pcrs.sort_values(by = 'id')\n",
    "pcrs = pcrs.reset_index(drop = True)"
   ]
  },
  {
   "cell_type": "code",
   "execution_count": 67,
   "id": "36810089",
   "metadata": {},
   "outputs": [],
   "source": [
    "pcrs = pcrs.drop_duplicates()"
   ]
  },
  {
   "cell_type": "code",
   "execution_count": 68,
   "id": "0a8997d6",
   "metadata": {},
   "outputs": [
    {
     "data": {
      "text/plain": [
       "[('005cad4958846409', (['Case 1'], [['2020-09-25', '2021-07-23']])),\n",
       " ('0065b57e5a9e784f', (['Case 1'], [['2020-03-26', '2022-01-14']])),\n",
       " ('006e5a1bf72e8b73', (['Case 1'], [['2020-11-17', '2021-11-07']])),\n",
       " ('009d11a2497f1d47', (['Case 2'], [['2020-10-14', '2021-09-13']])),\n",
       " ('00a5cf0620b6adfc', (['Case 2'], [['2020-10-26', '2021-12-14']]))]"
      ]
     },
     "execution_count": 68,
     "metadata": {},
     "output_type": "execute_result"
    }
   ],
   "source": [
    "from itertools import islice\n",
    "\n",
    "def take(n, iterable):\n",
    "    \"Return first n items of the iterable as a list\"\n",
    "    return list(islice(iterable, n))\n",
    "\n",
    "take(5, dates_dict.items())"
   ]
  },
  {
   "cell_type": "code",
   "execution_count": 69,
   "id": "1e63436f",
   "metadata": {},
   "outputs": [],
   "source": [
    "# getting dates of first PCR of first and second episode\n",
    "k = []\n",
    "v = []\n",
    "for x in dates_dict.keys():\n",
    "    try:\n",
    "        v.append(dates_dict[x][1][0][0])\n",
    "        v.append(dates_dict[x][1][0][1])\n",
    "        k.append(x)\n",
    "        k.append(x)\n",
    "    except IndexError: # avoiding empty values\n",
    "        pass"
   ]
  },
  {
   "cell_type": "code",
   "execution_count": 70,
   "id": "229c622a",
   "metadata": {},
   "outputs": [],
   "source": [
    "tolabel = pd.DataFrame(data = {'id':k, 'date':v})"
   ]
  },
  {
   "cell_type": "code",
   "execution_count": 71,
   "id": "c9141e41",
   "metadata": {
    "scrolled": true
   },
   "outputs": [],
   "source": [
    "labels = pd.merge(tolabel, pcrs, on = ['id', 'date'])"
   ]
  },
  {
   "cell_type": "code",
   "execution_count": 72,
   "id": "b17d3d67",
   "metadata": {},
   "outputs": [
    {
     "data": {
      "text/html": [
       "<div>\n",
       "<style scoped>\n",
       "    .dataframe tbody tr th:only-of-type {\n",
       "        vertical-align: middle;\n",
       "    }\n",
       "\n",
       "    .dataframe tbody tr th {\n",
       "        vertical-align: top;\n",
       "    }\n",
       "\n",
       "    .dataframe thead th {\n",
       "        text-align: right;\n",
       "    }\n",
       "</style>\n",
       "<table border=\"1\" class=\"dataframe\">\n",
       "  <thead>\n",
       "    <tr style=\"text-align: right;\">\n",
       "      <th></th>\n",
       "      <th>id</th>\n",
       "      <th>date</th>\n",
       "      <th>label</th>\n",
       "    </tr>\n",
       "  </thead>\n",
       "  <tbody>\n",
       "    <tr>\n",
       "      <th>0</th>\n",
       "      <td>005cad4958846409</td>\n",
       "      <td>2020-09-25</td>\n",
       "      <td>39f6cdad6da41b7a2859bb35a23fb6e1</td>\n",
       "    </tr>\n",
       "    <tr>\n",
       "      <th>1</th>\n",
       "      <td>005cad4958846409</td>\n",
       "      <td>2021-07-23</td>\n",
       "      <td>2c0e42e7c3ab6c403c92509dbe41addf</td>\n",
       "    </tr>\n",
       "    <tr>\n",
       "      <th>2</th>\n",
       "      <td>0065b57e5a9e784f</td>\n",
       "      <td>2020-03-26</td>\n",
       "      <td>cdbee5316fd40f0e7693e10ad17e032e</td>\n",
       "    </tr>\n",
       "    <tr>\n",
       "      <th>3</th>\n",
       "      <td>0065b57e5a9e784f</td>\n",
       "      <td>2022-01-14</td>\n",
       "      <td>c89a8ef002f5963d9c5f68571c6b51d2</td>\n",
       "    </tr>\n",
       "    <tr>\n",
       "      <th>4</th>\n",
       "      <td>006e5a1bf72e8b73</td>\n",
       "      <td>2020-11-17</td>\n",
       "      <td>b349230151f241423c92509dbe41addf</td>\n",
       "    </tr>\n",
       "    <tr>\n",
       "      <th>...</th>\n",
       "      <td>...</td>\n",
       "      <td>...</td>\n",
       "      <td>...</td>\n",
       "    </tr>\n",
       "    <tr>\n",
       "      <th>6551</th>\n",
       "      <td>ff9318bd975b7050</td>\n",
       "      <td>2021-01-25</td>\n",
       "      <td>ef5941b7993c83053c92509dbe41addf</td>\n",
       "    </tr>\n",
       "    <tr>\n",
       "      <th>6552</th>\n",
       "      <td>ffabda76a8fbaecd</td>\n",
       "      <td>2020-11-27</td>\n",
       "      <td>c81dcd0ede2fa37e9c5f68571c6b51d2</td>\n",
       "    </tr>\n",
       "    <tr>\n",
       "      <th>6553</th>\n",
       "      <td>ffabda76a8fbaecd</td>\n",
       "      <td>2022-01-17</td>\n",
       "      <td>fec243b129461923753c712f07de27fe</td>\n",
       "    </tr>\n",
       "    <tr>\n",
       "      <th>6554</th>\n",
       "      <td>ffc2d5ab7d2ad39e</td>\n",
       "      <td>2020-10-17</td>\n",
       "      <td>2ecd0634b087998a1f2b47738c0d648a</td>\n",
       "    </tr>\n",
       "    <tr>\n",
       "      <th>6555</th>\n",
       "      <td>ffc2d5ab7d2ad39e</td>\n",
       "      <td>2021-07-17</td>\n",
       "      <td>ebbf9ff59ade44a8499353abde37bb26</td>\n",
       "    </tr>\n",
       "  </tbody>\n",
       "</table>\n",
       "<p>6556 rows × 3 columns</p>\n",
       "</div>"
      ],
      "text/plain": [
       "                    id        date                             label\n",
       "0     005cad4958846409  2020-09-25  39f6cdad6da41b7a2859bb35a23fb6e1\n",
       "1     005cad4958846409  2021-07-23  2c0e42e7c3ab6c403c92509dbe41addf\n",
       "2     0065b57e5a9e784f  2020-03-26  cdbee5316fd40f0e7693e10ad17e032e\n",
       "3     0065b57e5a9e784f  2022-01-14  c89a8ef002f5963d9c5f68571c6b51d2\n",
       "4     006e5a1bf72e8b73  2020-11-17  b349230151f241423c92509dbe41addf\n",
       "...                ...         ...                               ...\n",
       "6551  ff9318bd975b7050  2021-01-25  ef5941b7993c83053c92509dbe41addf\n",
       "6552  ffabda76a8fbaecd  2020-11-27  c81dcd0ede2fa37e9c5f68571c6b51d2\n",
       "6553  ffabda76a8fbaecd  2022-01-17  fec243b129461923753c712f07de27fe\n",
       "6554  ffc2d5ab7d2ad39e  2020-10-17  2ecd0634b087998a1f2b47738c0d648a\n",
       "6555  ffc2d5ab7d2ad39e  2021-07-17  ebbf9ff59ade44a8499353abde37bb26\n",
       "\n",
       "[6556 rows x 3 columns]"
      ]
     },
     "execution_count": 72,
     "metadata": {},
     "output_type": "execute_result"
    }
   ],
   "source": [
    "# labels of first PCR of 1st and 2nd episode\n",
    "labels"
   ]
  },
  {
   "cell_type": "code",
   "execution_count": 205,
   "id": "8f07cb2c",
   "metadata": {},
   "outputs": [],
   "source": [
    "# saving dataframe\n",
    "labels.to_csv('../data/new_version/first_pcr_labels.csv', index = False, sep = ';')"
   ]
  },
  {
   "cell_type": "code",
   "execution_count": 73,
   "id": "7caeac07",
   "metadata": {},
   "outputs": [],
   "source": [
    "# adding case 1/2\n",
    "labels['case'] = ''\n",
    "for i in dates_dict.keys():\n",
    "    try:\n",
    "        labels.loc[labels['id'] == i, 'case'] = dates_dict[i][0][0]\n",
    "    except IndexError:\n",
    "        pass"
   ]
  },
  {
   "cell_type": "code",
   "execution_count": 74,
   "id": "37b2bbb7",
   "metadata": {},
   "outputs": [],
   "source": [
    "# adding sequencing info\n",
    "# loading data\n",
    "seqqq = pd.read_csv('../data/patients_vaccines.csv', sep = '\\t')\n",
    "seqqq = seqqq[['ID_ANONIMITZAT', 'ETIQUETA_1_ANOMIM', 'SEQ_MOSTRA_1',\n",
    "              'ETIQUETA_2_ANOMIM', 'SEQ_MOSTRA_2']]"
   ]
  },
  {
   "cell_type": "code",
   "execution_count": 75,
   "id": "2664ae4a",
   "metadata": {},
   "outputs": [],
   "source": [
    "seqqq = seqqq.rename({'ID_ANONIMITZAT':'id', 'ETIQUETA_1_ANOMIM':'label1',\n",
    "                   'SEQ_MOSTRA_1':'seq1', 'ETIQUETA_2_ANOMIM':'label2',\n",
    "                   'SEQ_MOSTRA_2':'seq2'}, axis = 1)"
   ]
  },
  {
   "cell_type": "code",
   "execution_count": 76,
   "id": "ce5af3e4",
   "metadata": {},
   "outputs": [],
   "source": [
    "labels['seq'] = '?'\n",
    "for x in labels['label']:\n",
    "    if x in list(seqqq['label1']):\n",
    "        valor = seqqq.loc[seqqq['label1'] == x, 'seq1'].to_string(index = False)\n",
    "        labels.loc[labels['label'] == x, 'seq'] = valor\n",
    "    elif x in list(seqqq['label2']):\n",
    "        valor = seqqq.loc[seqqq['label2'] == x, 'seq2'].to_string(index = False)\n",
    "        labels.loc[labels['label'] == x, 'seq'] = valor"
   ]
  },
  {
   "cell_type": "code",
   "execution_count": 77,
   "id": "a9b919c8",
   "metadata": {},
   "outputs": [
    {
     "data": {
      "text/plain": [
       "array(['NaN\\nNaN', 'NaN', 'X', '?', 'X\\nX', 'NaN\\n  X'], dtype=object)"
      ]
     },
     "execution_count": 77,
     "metadata": {},
     "output_type": "execute_result"
    }
   ],
   "source": [
    "labels['seq'].unique()"
   ]
  },
  {
   "cell_type": "code",
   "execution_count": 78,
   "id": "9e08f778",
   "metadata": {},
   "outputs": [
    {
     "data": {
      "text/html": [
       "<div>\n",
       "<style scoped>\n",
       "    .dataframe tbody tr th:only-of-type {\n",
       "        vertical-align: middle;\n",
       "    }\n",
       "\n",
       "    .dataframe tbody tr th {\n",
       "        vertical-align: top;\n",
       "    }\n",
       "\n",
       "    .dataframe thead th {\n",
       "        text-align: right;\n",
       "    }\n",
       "</style>\n",
       "<table border=\"1\" class=\"dataframe\">\n",
       "  <thead>\n",
       "    <tr style=\"text-align: right;\">\n",
       "      <th></th>\n",
       "      <th>id</th>\n",
       "      <th>date</th>\n",
       "      <th>label</th>\n",
       "      <th>case</th>\n",
       "      <th>seq</th>\n",
       "    </tr>\n",
       "  </thead>\n",
       "  <tbody>\n",
       "    <tr>\n",
       "      <th>1731</th>\n",
       "      <td>4503707174185538</td>\n",
       "      <td>2022-01-21</td>\n",
       "      <td>448c40b818e5ff3f499353abde37bb26</td>\n",
       "      <td>Case 1</td>\n",
       "      <td>NaN\\n  X</td>\n",
       "    </tr>\n",
       "    <tr>\n",
       "      <th>5688</th>\n",
       "      <td>de6b49e26d06de53</td>\n",
       "      <td>2021-06-15</td>\n",
       "      <td>448c40b818e5ff3f499353abde37bb26</td>\n",
       "      <td>Case 1</td>\n",
       "      <td>NaN\\n  X</td>\n",
       "    </tr>\n",
       "  </tbody>\n",
       "</table>\n",
       "</div>"
      ],
      "text/plain": [
       "                    id        date                             label    case  \\\n",
       "1731  4503707174185538  2022-01-21  448c40b818e5ff3f499353abde37bb26  Case 1   \n",
       "5688  de6b49e26d06de53  2021-06-15  448c40b818e5ff3f499353abde37bb26  Case 1   \n",
       "\n",
       "           seq  \n",
       "1731  NaN\\n  X  \n",
       "5688  NaN\\n  X  "
      ]
     },
     "execution_count": 78,
     "metadata": {},
     "output_type": "execute_result"
    }
   ],
   "source": [
    "labels.loc[labels['seq'] == 'NaN\\n  X']\n",
    "# same label asigned to 2 patients/PCRs - discard??"
   ]
  },
  {
   "cell_type": "code",
   "execution_count": 79,
   "id": "75738ba2",
   "metadata": {},
   "outputs": [],
   "source": [
    "# changing values for clearer ones\n",
    "labels['seq'] = labels['seq'].replace(['NaN\\nNaN', 'NaN', 'X', '?', 'X\\nX', 'NaN\\n  X'],\n",
    "                                     ['No', 'No', 'Yes', 'Unknown', 'Yes', 'Labeling error'])"
   ]
  },
  {
   "cell_type": "code",
   "execution_count": 80,
   "id": "8e91f281",
   "metadata": {},
   "outputs": [
    {
     "data": {
      "text/plain": [
       "No                5579\n",
       "Yes                674\n",
       "Unknown            301\n",
       "Labeling error       2\n",
       "Name: seq, dtype: int64"
      ]
     },
     "execution_count": 80,
     "metadata": {},
     "output_type": "execute_result"
    }
   ],
   "source": [
    "labels['seq'].value_counts()"
   ]
  },
  {
   "cell_type": "code",
   "execution_count": 313,
   "id": "e5a2b232",
   "metadata": {},
   "outputs": [],
   "source": [
    "# saving table\n",
    "labels.to_csv('../data/new_version/first_pcrs_labels2.tsv', sep = '\\t', index = False)"
   ]
  },
  {
   "cell_type": "code",
   "execution_count": 81,
   "id": "3777a5b8",
   "metadata": {},
   "outputs": [],
   "source": [
    "# labels of patients with at least one episode sequenced\n",
    "sequenced_labels = labels.loc[labels['id'].isin([x for x in list(FC1_seq.keys()) if FC1_seq[x] != 'Not sequenced'])]"
   ]
  },
  {
   "cell_type": "code",
   "execution_count": 82,
   "id": "4fde8173",
   "metadata": {},
   "outputs": [],
   "source": [
    "# adding probable variant\n",
    "sequenced_labels['prob_variant'] = ''\n",
    "alpha = datetime.strptime('2021-02-08', '%Y-%m-%d').date() # alpha start\n",
    "delta = datetime.strptime('2021-06-28', '%Y-%m-%d').date() # delta start\n",
    "omicron = datetime.strptime('2021-12-20', '%Y-%m-%d').date() # omicron start\n",
    "for i in range(len(sequenced_labels)):\n",
    "    fecha = datetime.strptime(sequenced_labels.iloc[i]['date'], '%Y-%m-%d').date()\n",
    "    if fecha < alpha:\n",
    "        sequenced_labels.iloc[i, sequenced_labels.columns.get_loc('prob_variant')] = 'pre-alpha'\n",
    "    elif fecha < delta:\n",
    "        sequenced_labels.iloc[i, sequenced_labels.columns.get_loc('prob_variant')] = 'alpha'\n",
    "    elif fecha < omicron:\n",
    "        sequenced_labels.iloc[i, sequenced_labels.columns.get_loc('prob_variant')] = 'delta'\n",
    "    else:\n",
    "        sequenced_labels.iloc[i, sequenced_labels.columns.get_loc('prob_variant')] = 'omicron'\n"
   ]
  },
  {
   "cell_type": "code",
   "execution_count": 83,
   "id": "5a06e9c4",
   "metadata": {},
   "outputs": [
    {
     "data": {
      "text/html": [
       "<div>\n",
       "<style scoped>\n",
       "    .dataframe tbody tr th:only-of-type {\n",
       "        vertical-align: middle;\n",
       "    }\n",
       "\n",
       "    .dataframe tbody tr th {\n",
       "        vertical-align: top;\n",
       "    }\n",
       "\n",
       "    .dataframe thead th {\n",
       "        text-align: right;\n",
       "    }\n",
       "</style>\n",
       "<table border=\"1\" class=\"dataframe\">\n",
       "  <thead>\n",
       "    <tr style=\"text-align: right;\">\n",
       "      <th></th>\n",
       "      <th>id</th>\n",
       "      <th>date</th>\n",
       "      <th>label</th>\n",
       "      <th>case</th>\n",
       "      <th>seq</th>\n",
       "      <th>prob_variant</th>\n",
       "    </tr>\n",
       "  </thead>\n",
       "  <tbody>\n",
       "    <tr>\n",
       "      <th>56</th>\n",
       "      <td>025541d83c991e99</td>\n",
       "      <td>2020-10-24</td>\n",
       "      <td>3eaab0d82c5a13e0458813d2b0595c35</td>\n",
       "      <td>Case 1</td>\n",
       "      <td>No</td>\n",
       "      <td>pre-alpha</td>\n",
       "    </tr>\n",
       "    <tr>\n",
       "      <th>57</th>\n",
       "      <td>025541d83c991e99</td>\n",
       "      <td>2022-01-17</td>\n",
       "      <td>68f326d82601ac723c92509dbe41addf</td>\n",
       "      <td>Case 1</td>\n",
       "      <td>Yes</td>\n",
       "      <td>omicron</td>\n",
       "    </tr>\n",
       "    <tr>\n",
       "      <th>74</th>\n",
       "      <td>0399ae7bc4dc5ec2</td>\n",
       "      <td>2020-12-01</td>\n",
       "      <td>6cfe035437fd45d6458813d2b0595c35</td>\n",
       "      <td>Case 1</td>\n",
       "      <td>No</td>\n",
       "      <td>pre-alpha</td>\n",
       "    </tr>\n",
       "    <tr>\n",
       "      <th>75</th>\n",
       "      <td>0399ae7bc4dc5ec2</td>\n",
       "      <td>2021-12-27</td>\n",
       "      <td>78c04869777939c89c5f68571c6b51d2</td>\n",
       "      <td>Case 1</td>\n",
       "      <td>Yes</td>\n",
       "      <td>omicron</td>\n",
       "    </tr>\n",
       "    <tr>\n",
       "      <th>86</th>\n",
       "      <td>04331717c9eea2a9</td>\n",
       "      <td>2021-01-10</td>\n",
       "      <td>984207134b0c46eb458813d2b0595c35</td>\n",
       "      <td>Case 1</td>\n",
       "      <td>No</td>\n",
       "      <td>pre-alpha</td>\n",
       "    </tr>\n",
       "    <tr>\n",
       "      <th>...</th>\n",
       "      <td>...</td>\n",
       "      <td>...</td>\n",
       "      <td>...</td>\n",
       "      <td>...</td>\n",
       "      <td>...</td>\n",
       "      <td>...</td>\n",
       "    </tr>\n",
       "    <tr>\n",
       "      <th>6297</th>\n",
       "      <td>f75c1f49e6c56565</td>\n",
       "      <td>2021-07-05</td>\n",
       "      <td>b3f52f7f33d7ca0c499353abde37bb26</td>\n",
       "      <td>Case 1</td>\n",
       "      <td>Yes</td>\n",
       "      <td>delta</td>\n",
       "    </tr>\n",
       "    <tr>\n",
       "      <th>6362</th>\n",
       "      <td>f9588a8e41c63419</td>\n",
       "      <td>2021-02-17</td>\n",
       "      <td>7fed91b502c7326f7693e10ad17e032e</td>\n",
       "      <td>Case 1</td>\n",
       "      <td>No</td>\n",
       "      <td>alpha</td>\n",
       "    </tr>\n",
       "    <tr>\n",
       "      <th>6363</th>\n",
       "      <td>f9588a8e41c63419</td>\n",
       "      <td>2022-01-18</td>\n",
       "      <td>5a3e4326fc8618dd1f2b47738c0d648a</td>\n",
       "      <td>Case 1</td>\n",
       "      <td>Yes</td>\n",
       "      <td>omicron</td>\n",
       "    </tr>\n",
       "    <tr>\n",
       "      <th>6462</th>\n",
       "      <td>fcd4e0c5f2f6d527</td>\n",
       "      <td>2020-10-01</td>\n",
       "      <td>5052d7d6ff749224499353abde37bb26</td>\n",
       "      <td>Case 1</td>\n",
       "      <td>No</td>\n",
       "      <td>pre-alpha</td>\n",
       "    </tr>\n",
       "    <tr>\n",
       "      <th>6463</th>\n",
       "      <td>fcd4e0c5f2f6d527</td>\n",
       "      <td>2022-03-08</td>\n",
       "      <td>f8044775b23cf779458813d2b0595c35</td>\n",
       "      <td>Case 1</td>\n",
       "      <td>Yes</td>\n",
       "      <td>omicron</td>\n",
       "    </tr>\n",
       "  </tbody>\n",
       "</table>\n",
       "<p>492 rows × 6 columns</p>\n",
       "</div>"
      ],
      "text/plain": [
       "                    id        date                             label    case  \\\n",
       "56    025541d83c991e99  2020-10-24  3eaab0d82c5a13e0458813d2b0595c35  Case 1   \n",
       "57    025541d83c991e99  2022-01-17  68f326d82601ac723c92509dbe41addf  Case 1   \n",
       "74    0399ae7bc4dc5ec2  2020-12-01  6cfe035437fd45d6458813d2b0595c35  Case 1   \n",
       "75    0399ae7bc4dc5ec2  2021-12-27  78c04869777939c89c5f68571c6b51d2  Case 1   \n",
       "86    04331717c9eea2a9  2021-01-10  984207134b0c46eb458813d2b0595c35  Case 1   \n",
       "...                ...         ...                               ...     ...   \n",
       "6297  f75c1f49e6c56565  2021-07-05  b3f52f7f33d7ca0c499353abde37bb26  Case 1   \n",
       "6362  f9588a8e41c63419  2021-02-17  7fed91b502c7326f7693e10ad17e032e  Case 1   \n",
       "6363  f9588a8e41c63419  2022-01-18  5a3e4326fc8618dd1f2b47738c0d648a  Case 1   \n",
       "6462  fcd4e0c5f2f6d527  2020-10-01  5052d7d6ff749224499353abde37bb26  Case 1   \n",
       "6463  fcd4e0c5f2f6d527  2022-03-08  f8044775b23cf779458813d2b0595c35  Case 1   \n",
       "\n",
       "      seq prob_variant  \n",
       "56     No    pre-alpha  \n",
       "57    Yes      omicron  \n",
       "74     No    pre-alpha  \n",
       "75    Yes      omicron  \n",
       "86     No    pre-alpha  \n",
       "...   ...          ...  \n",
       "6297  Yes        delta  \n",
       "6362   No        alpha  \n",
       "6363  Yes      omicron  \n",
       "6462   No    pre-alpha  \n",
       "6463  Yes      omicron  \n",
       "\n",
       "[492 rows x 6 columns]"
      ]
     },
     "execution_count": 83,
     "metadata": {},
     "output_type": "execute_result"
    }
   ],
   "source": [
    "sequenced_labels"
   ]
  },
  {
   "cell_type": "code",
   "execution_count": 347,
   "id": "66534f4f",
   "metadata": {},
   "outputs": [],
   "source": [
    "sequenced_labels.to_csv('../data/at_least_one_sequenced.tsv', sep = '\\t', index = False)"
   ]
  },
  {
   "cell_type": "code",
   "execution_count": 84,
   "id": "677d8e44",
   "metadata": {},
   "outputs": [],
   "source": [
    "# plotting distribution of selected patients\n",
    "impares = [sequenced_labels.iloc[i]['prob_variant'] for i in range(0,len(sequenced_labels),2)]\n",
    "pares = [sequenced_labels.iloc[i]['prob_variant'] for i in range(1,len(sequenced_labels),2)]"
   ]
  },
  {
   "cell_type": "code",
   "execution_count": 85,
   "id": "5b0f85eb",
   "metadata": {},
   "outputs": [
    {
     "data": {
      "image/png": "[encoded data removed]",
      "text/plain": [
       "<Figure size 842.4x595.44 with 1 Axes>"
      ]
     },
     "metadata": {},
     "output_type": "display_data"
    }
   ],
   "source": [
    "comb = []\n",
    "for i in range(len(pares)):\n",
    "    comb.append(pares[i] + ':' + impares[i])\n",
    "\n",
    "keys, counts = np.unique(comb, return_counts=True)\n",
    "\n",
    "plt.bar(keys, counts)\n",
    "plt.xticks(rotation = 45)\n",
    "plt.show()"
   ]
  },
  {
   "cell_type": "code",
   "execution_count": 322,
   "id": "d14cd1d7",
   "metadata": {},
   "outputs": [],
   "source": [
    "# let's manage vaccines\n",
    "# we will classify patients in 3 groups (based only in the first reinfection):\n",
    "#     infected-vaccinated-infected\n",
    "#     infected-infected-vaccinated / non-vaccinated\n",
    "#     vaccinated-infected-infected\n",
    "# Complete schedule\n",
    "# Janssen: one dose\n",
    "# AstraZeneca, Pfizer, Moderna: two doses"
   ]
  },
  {
   "cell_type": "code",
   "execution_count": 86,
   "id": "2ef8b35e",
   "metadata": {},
   "outputs": [],
   "source": [
    "(pfizer, moderna, az, janssen, hipra) = (0, 0, 0, 0, 0)\n",
    "# General proportions of vaccines\n",
    "for code in codes2['code']:\n",
    "    pfizer += code.count('I')\n",
    "    moderna += code.count('J')\n",
    "    az += code.count('K')\n",
    "    janssen += code.count('L')\n",
    "    hipra += code.count('M')"
   ]
  },
  {
   "cell_type": "code",
   "execution_count": 87,
   "id": "801db609",
   "metadata": {},
   "outputs": [
    {
     "name": "stdout",
     "output_type": "stream",
     "text": [
      "Pfizer:  4814 \n",
      "Moderna:  1642 \n",
      "AstraZeneca:  109 \n",
      "Janssen:  95 \n",
      "HIPRA:  1\n"
     ]
    }
   ],
   "source": [
    "print('Pfizer: ', pfizer, '\\nModerna: ', moderna, '\\nAstraZeneca: ', \n",
    "      az, '\\nJanssen: ', janssen, '\\nHIPRA: ', hipra)\n",
    "# Pfizer is the most administered vaccine, followed by Moderna, and Janssen (only one dose needed)"
   ]
  },
  {
   "cell_type": "code",
   "execution_count": 88,
   "id": "0bdcdf66",
   "metadata": {},
   "outputs": [
    {
     "data": {
      "text/plain": [
       "378"
      ]
     },
     "execution_count": 88,
     "metadata": {},
     "output_type": "execute_result"
    }
   ],
   "source": [
    "# non-vaccinated patients\n",
    "counter = 0\n",
    "for code in codes2['code']:\n",
    "    if bool([x for x in code if(x in ['I', 'J', 'K', 'L', 'M'])]) == False:\n",
    "        counter += 1\n",
    "counter "
   ]
  },
  {
   "cell_type": "code",
   "execution_count": 89,
   "id": "d501f14b",
   "metadata": {},
   "outputs": [],
   "source": [
    "# function for rejoining splitted string\n",
    "def join_string(A, B):\n",
    "    \"\"\"\n",
    "    join two list of characters in a string\n",
    "    \"\"\"\n",
    "    B = [str(x) for x in B] # originally numeric\n",
    "    C = A + B\n",
    "    C[::2] = A\n",
    "    C[1::2] = B\n",
    "    return ''.join(C)"
   ]
  },
  {
   "cell_type": "code",
   "execution_count": 90,
   "id": "e706ad60",
   "metadata": {},
   "outputs": [],
   "source": [
    "# function for indentifying breakthrough cases\n",
    "def breakthrough(string):\n",
    "    \"\"\"\n",
    "    Breakthrough: infection 14+ days after complete vaccination\n",
    "    Partial breakthrough: infection between 1st and 2nd dose or <14 days after complete vaccination\n",
    "    \"\"\"\n",
    "    A, B = split_string(string)\n",
    "    \n",
    "    # janssen (one dose)\n",
    "    if 'L' in A:\n",
    "        i = A.index('L') # index() only provides index of the first occurrence; its ok with janssen\n",
    "        if sum(B[i:]) >= 14:\n",
    "            return 'BT'\n",
    "        else:\n",
    "            return 'PBT'\n",
    "        \n",
    "    # moderna, astrazeneca, pfizer (two doses)\n",
    "    td = ['J', 'I', 'K']\n",
    "    indexes = [i for i,e in enumerate(A) if (e in td)]\n",
    "    # only one dose before infection\n",
    "    if len(indexes) == 1:\n",
    "        return 'PBT'\n",
    "    # two doses or two doses + boost\n",
    "    else:\n",
    "        # we will count from the second dose\n",
    "        if sum(B[indexes[1]:]) >= 14:\n",
    "            return 'BT'\n",
    "        else:\n",
    "            return 'PBT'"
   ]
  },
  {
   "cell_type": "code",
   "execution_count": 91,
   "id": "c0032681",
   "metadata": {},
   "outputs": [],
   "source": [
    "# function for classifying patients according to vaccination status\n",
    "def vacc_classif(ID, dates_dict = dates_dict, codes_df = codes2):\n",
    "    \"\"\"\n",
    "    This function needs the objects dates_dict and codes2\n",
    "    \"\"\"\n",
    "    # we will leave HIPRA out as it is present in just one patient (last position in the code)\n",
    "    vacc = ['I', 'J', 'K', 'L'] \n",
    "\n",
    "    # Getting code\n",
    "    code = codes_df.loc[codes_df['id'] == ID].values[0][1]\n",
    "    \n",
    "    # Initial date\n",
    "    f0 = datetime.strptime(codes_df.loc[codes_df['id'] == ID].values[0][2], \n",
    "                           '%Y-%m-%d').date()\n",
    "    # Empty values\n",
    "    if len(dates_dict[ID]) == 0:\n",
    "        return ''\n",
    "    \n",
    "    # Non-vaccinated \n",
    "    if bool([x for x in codes_df.loc[codes_df['id'] == ID].values[0][1] if(x in vacc)]) == False:\n",
    "        return 'NV', '-'\n",
    "    \n",
    "    # Vaccinated\n",
    "    # Extracting infection 1 and 2 starting dates\n",
    "    f1 = datetime.strptime(dates_dict[ID][1][0][0], '%Y-%m-%d').date()\n",
    "    f2 = datetime.strptime(dates_dict[ID][1][0][1], '%Y-%m-%d').date()\n",
    "    \n",
    "    # Separating string into two ranges\n",
    "    \n",
    "    # if the first element in code is an infection we can't define R1\n",
    "    if code[0] in ['A', 'C', 'D']: \n",
    "        # if we want to avoid UnboundLocalError we must add 'and f0 == f1'\n",
    "        x = (f2-f1).days\n",
    "        y = 0\n",
    "        A, B = split_string(code)\n",
    "        for i in range(len(B)):\n",
    "            y += B[i]\n",
    "            if x == y:\n",
    "                R2 = join_string(A[:i+2], B[:i+1])\n",
    "                break\n",
    "        if bool([x for x in R2 if(x in vacc)]) == True:\n",
    "            return 'IVI', breakthrough(R2)\n",
    "        else:\n",
    "            return 'IIV', '-'\n",
    "    \n",
    "    # R1: from start to first infection\n",
    "    x = (f1 - f0).days\n",
    "    y = 0\n",
    "    A, B = split_string(code)\n",
    "    for i in range(len(B)):\n",
    "        y += B[i]\n",
    "        if x == y:\n",
    "            R1 = join_string(A[:i+2], B[:i+1])\n",
    "            j = i\n",
    "            break\n",
    "    \n",
    "    # R2: from first to second infection\n",
    "    A, B = A[j+1:], B[j+1:]\n",
    "    x = (f2 - f1).days\n",
    "    y = 0\n",
    "    for i in range(len(B)):\n",
    "        y += B[i]\n",
    "        if x == y:\n",
    "            R2 = join_string(A[:i+2], B[:i+1])\n",
    "            break\n",
    "    \n",
    "    # Classification into VII, IVI, VIVI, IIV\n",
    "    if bool([x for x in R2 if(x in vacc)]) == True: # vaccine in R2?\n",
    "        if bool([x for x in R1 if(x in vacc)]) == True: # vaccine in R1?\n",
    "            return 'VIVI', str(breakthrough(R1) + '/' + 'BT') # after 1+ vaccine + infection --> boost\n",
    "        else:\n",
    "            return 'IVI', breakthrough(R2)\n",
    "    else:\n",
    "        if bool([x for x in R1 if(x in vacc)]) == True:\n",
    "            return 'VII', breakthrough(R1)\n",
    "        else:\n",
    "            return 'IIV', '-'"
   ]
  },
  {
   "cell_type": "code",
   "execution_count": 92,
   "id": "90c1a990",
   "metadata": {},
   "outputs": [],
   "source": [
    "vac_status = {}\n",
    "unclassified = []\n",
    "error  = [] # \n",
    "for ID in codes2['id']:\n",
    "    if len(dates_dict[ID][0]) > 0:\n",
    "        try:\n",
    "            vac_status[ID] = vacc_classif(ID)\n",
    "        except UnboundLocalError:\n",
    "            error.append(ID)\n",
    "    else:\n",
    "        unclassified.append(ID)"
   ]
  },
  {
   "cell_type": "code",
   "execution_count": 93,
   "id": "8737a7e9",
   "metadata": {
    "scrolled": true
   },
   "outputs": [
    {
     "data": {
      "text/plain": [
       "['5361ab474e6402fa',\n",
       " '5bb1757bcc831a0b',\n",
       " '67430e988184bae1',\n",
       " '681a2c97c6f43ae5',\n",
       " '786a1234ccf5fa2b',\n",
       " '9e79621cd1784dcd',\n",
       " 'a2678fae9830549c',\n",
       " 'ab12e309981f92e8',\n",
       " 'ba8ea099fbc75fef']"
      ]
     },
     "execution_count": 93,
     "metadata": {},
     "output_type": "execute_result"
    }
   ],
   "source": [
    "error \n",
    "# Problematic patients\n",
    "# 9e79621cd1784dcd would be misclassified\n",
    "# we will leave them out of the analysis"
   ]
  },
  {
   "cell_type": "code",
   "execution_count": 94,
   "id": "2a5588f4",
   "metadata": {},
   "outputs": [
    {
     "data": {
      "text/plain": [
       "3276"
      ]
     },
     "execution_count": 94,
     "metadata": {},
     "output_type": "execute_result"
    }
   ],
   "source": [
    "len(vac_status)"
   ]
  },
  {
   "cell_type": "code",
   "execution_count": 95,
   "id": "c4a73409",
   "metadata": {},
   "outputs": [
    {
     "data": {
      "image/png": "[encoded data removed]",
      "text/plain": [
       "<Figure size 842.4x595.44 with 1 Axes>"
      ]
     },
     "metadata": {},
     "output_type": "display_data"
    }
   ],
   "source": [
    "# status counts\n",
    "keys, counts = np.unique([vac_status[x][0] for x in vac_status.keys()], return_counts=True)\n",
    "\n",
    "plt.bar(keys, counts)\n",
    "plt.xticks(rotation = 45)\n",
    "plt.show()"
   ]
  },
  {
   "cell_type": "code",
   "execution_count": 96,
   "id": "40629eef",
   "metadata": {},
   "outputs": [
    {
     "data": {
      "image/png": "[encoded data removed]",
      "text/plain": [
       "<Figure size 842.4x595.44 with 1 Axes>"
      ]
     },
     "metadata": {},
     "output_type": "display_data"
    }
   ],
   "source": [
    "# proportion of breakthrough/partial bt within each type\n",
    "df = pd.DataFrame({'Status': [vac_status[x][0] for x in vac_status.keys()],\n",
    "                   'Breakthrough': [vac_status[x][1] for x in vac_status.keys()]},\n",
    "                 index = list(vac_status.keys()))\n",
    "\n",
    "sns.histplot(\n",
    "    data=df,\n",
    "    x=\"Status\", hue=\"Breakthrough\",\n",
    "    multiple=\"fill\", stat=\"proportion\",\n",
    "    discrete=True, shrink=.8\n",
    ");"
   ]
  },
  {
   "cell_type": "markdown",
   "id": "4e69425c",
   "metadata": {},
   "source": [
    "Janssen + cualquier vacuna -> boost\n",
    "2 x Pf/Mo/AZ -> pauta completa + vacuna -> boost\n",
    "[infeccion + media vacuna] = pauta completa --- + otra vacuna -> boost\n",
    "\n",
    "IVBI\n",
    "IVI[B]\n",
    "VIBI\n",
    "VII[B]\n",
    "VBII\n",
    "IIV/NV"
   ]
  },
  {
   "cell_type": "code",
   "execution_count": 121,
   "id": "ce746916",
   "metadata": {},
   "outputs": [],
   "source": [
    "# Another version of vaccination status function for the six classes above\n",
    "def breakthrough2(string):\n",
    "    \"\"\"\n",
    "    Breakthrough: infection 14+ days after complete vaccination\n",
    "    Partial breakthrough: infection between 1st and 2nd dose or <14 days after complete vaccination\n",
    "    The janssen/other output will allow us to distinguish cases in the next function\n",
    "    \"\"\"\n",
    "    A, B = split_string(string)\n",
    "    \n",
    "    # janssen (one dose)\n",
    "    if 'L' in A:\n",
    "        i = A.index('L') # index() only provides index of the first occurrence; its ok with janssen\n",
    "        if sum(B[i:]) >= 14:\n",
    "            return 'BT', 'janssen'\n",
    "        else:\n",
    "            return 'PBT', 'janssen'\n",
    "        \n",
    "    # moderna, astrazeneca, pfizer (two doses)\n",
    "    td = ['J', 'I', 'K']\n",
    "    indexes = [i for i,e in enumerate(A) if (e in td)]\n",
    "    # only one dose before infection\n",
    "    if len(indexes) == 1:\n",
    "        return 'PBT', 'other'\n",
    "    # two doses or two doses + boost\n",
    "    else:\n",
    "        # we will count from the second dose\n",
    "        if sum(B[indexes[1]:]) >= 14:\n",
    "            return 'BT', 'other'\n",
    "        else:\n",
    "            return 'PBT', 'other'\n",
    "\n",
    "def vacc_classif2(ID, dates_dict = dates_dict, codes_df = codes2):\n",
    "    \"\"\"\n",
    "    This function needs the objects dates_dict and codes2\n",
    "    This version includes boost information\n",
    "    \"\"\"\n",
    "    # we will leave HIPRA out as it is present in just one patient (last position in the code)\n",
    "    vacc = ['I', 'J', 'K', 'L'] \n",
    "\n",
    "    # Getting code\n",
    "    code = codes_df.loc[codes_df['id'] == ID].values[0][1]\n",
    "    \n",
    "    # Initial date\n",
    "    f0 = datetime.strptime(codes_df.loc[codes_df['id'] == ID].values[0][2], \n",
    "                           '%Y-%m-%d').date()\n",
    "    # Empty values\n",
    "    if len(dates_dict[ID]) == 0:\n",
    "        return ''\n",
    "    \n",
    "    # Non-vaccinated \n",
    "    if bool([x for x in codes_df.loc[codes_df['id'] == ID].values[0][1] if(x in vacc)]) == False:\n",
    "        return 'IIV/NV', '-'\n",
    "    \n",
    "    # Vaccinated\n",
    "    # Extracting infection 1 and 2 starting dates\n",
    "    f1 = datetime.strptime(dates_dict[ID][1][0][0], '%Y-%m-%d').date()\n",
    "    f2 = datetime.strptime(dates_dict[ID][1][0][1], '%Y-%m-%d').date()\n",
    "    \n",
    "    # Separating string into two ranges\n",
    "    \n",
    "    # if the first element in code is an infection we can't define R1\n",
    "    if code[0] in ['A', 'C', 'D']: \n",
    "        # if we want to avoid UnboundLocalError we must add 'and f0 == f1'\n",
    "        x = (f2-f1).days\n",
    "        y = 0\n",
    "        A, B = split_string(code)\n",
    "        for i in range(len(B)):\n",
    "            y += B[i]\n",
    "            if x == y:\n",
    "                R2 = join_string(A[:i+2], B[:i+1])\n",
    "                break\n",
    "        if bool([x for x in R2 if(x in vacc)]) == True:\n",
    "            if breakthrough2(R2)[1] == 'janssen': \n",
    "                if len([x for x in R2 if(x in vacc)]) == 1:\n",
    "                    return 'IVI[B]', breakthrough(R2)\n",
    "                else:\n",
    "                    return 'IVBI', 'BT'\n",
    "            else:\n",
    "                if len([x for x in R2 if(x in vacc)]) >= 3:\n",
    "                    return 'IVBI', 'BT'\n",
    "                else:\n",
    "                    return 'IVI[B]', breakthrough(R2)\n",
    "        else:\n",
    "            return 'IIV/NV', '-'\n",
    "    \n",
    "    # R1: from start to first infection\n",
    "    x = (f1 - f0).days\n",
    "    y = 0\n",
    "    A, B = split_string(code)\n",
    "    for i in range(len(B)):\n",
    "        y += B[i]\n",
    "        if x == y:\n",
    "            R1 = join_string(A[:i+2], B[:i+1])\n",
    "            j = i\n",
    "            break\n",
    "    \n",
    "    # R2: from first to second infection\n",
    "    A, B = A[j+1:], B[j+1:]\n",
    "    x = (f2 - f1).days\n",
    "    y = 0\n",
    "    for i in range(len(B)):\n",
    "        y += B[i]\n",
    "        if x == y:\n",
    "            R2 = join_string(A[:i+2], B[:i+1])\n",
    "            break\n",
    "    \n",
    "    # Classification into VII, IVI, VIVI, IIV\n",
    "    # assigning before for simplification\n",
    "    V1 = [x for x in R1 if(x in vacc)] # vaccines in R1\n",
    "    V2 = [x for x in R2 if(x in vacc)] # vaccines in R2\n",
    "    if bool(V2) == True: \n",
    "        if bool(V1) == True: \n",
    "            return 'VIBI', breakthrough(R1) # after 1+ vaccine + infection --> boost\n",
    "        else:\n",
    "            if breakthrough2(R2)[1] == 'janssen':\n",
    "                if len(V2) == 1:\n",
    "                    return 'IVI[B]', breakthrough(R2)\n",
    "                else:\n",
    "                    return 'IVBI', 'BT'\n",
    "            else:\n",
    "                if len(V2) >= 3:\n",
    "                    return 'IVBI', 'BT'\n",
    "                else:\n",
    "                    return 'IVI[B]', breakthrough(R2)\n",
    "    else:\n",
    "        if bool(V1) == True:\n",
    "            if breakthrough2(R1)[1] == 'janssen':\n",
    "                if len(V1) > 1:\n",
    "                    return 'VBII', 'BT'\n",
    "                else:\n",
    "                    return 'VII[B]', breakthrough(R1)\n",
    "            else:\n",
    "                if len(V1) >= 3:\n",
    "                    return 'VBII', 'BT'\n",
    "                else:\n",
    "                    return 'VII[B]', breakthrough(R1)\n",
    "        else:\n",
    "            return 'IIV/NV', '-'"
   ]
  },
  {
   "cell_type": "code",
   "execution_count": 117,
   "id": "af963068",
   "metadata": {},
   "outputs": [
    {
     "name": "stdout",
     "output_type": "stream",
     "text": [
      "(array([list([]), list(['I']), list(['I', 'I']), list(['I', 'I', 'I']),\n",
      "       list(['I', 'I', 'I', 'J']), list(['I', 'I', 'J']),\n",
      "       list(['I', 'J']), list(['J']), list(['J', 'I']), list(['J', 'J']),\n",
      "       list(['J', 'J', 'I']), list(['J', 'J', 'J']), list(['K']),\n",
      "       list(['K', 'I']), list(['K', 'I', 'J']), list(['K', 'J']),\n",
      "       list(['K', 'K']), list(['K', 'K', 'I']), list(['K', 'K', 'J']),\n",
      "       list(['L']), list(['L', 'I']), list(['L', 'J'])], dtype=object), array([378, 470, 379, 618,   1, 789, 136, 158,   2, 129,   1,  68,  10,\n",
      "         4,   3,  32,   9,   1,  20,  54,   4,  37]))\n"
     ]
    }
   ],
   "source": [
    "vacc = ['I', 'J', 'K', 'L']\n",
    "vacunas = []\n",
    "for i in range(len(codes2)):\n",
    "    vacunas.append([x for x in codes2['code'].values[i] if x in vacc])\n",
    "print(np.unique(vacunas, return_counts=True))\n",
    "# there is one patient with 4 vaccines, we have to change a bit the function above"
   ]
  },
  {
   "cell_type": "code",
   "execution_count": 151,
   "id": "a0ff6a95",
   "metadata": {},
   "outputs": [],
   "source": [
    "# testing new function with all samples\n",
    "vac_status = {}\n",
    "unclassified = []\n",
    "error  = [] # \n",
    "for ID in codes2['id']:\n",
    "    if len(dates_dict[ID][0]) > 0:\n",
    "        try:\n",
    "            vac_status[ID] = vacc_classif2(ID)\n",
    "        except UnboundLocalError:\n",
    "            error.append(ID)\n",
    "    else:\n",
    "        unclassified.append(ID)"
   ]
  },
  {
   "cell_type": "code",
   "execution_count": 152,
   "id": "bf93c077",
   "metadata": {},
   "outputs": [
    {
     "data": {
      "image/png": "[encoded data removed]",
      "text/plain": [
       "<Figure size 842.4x595.44 with 1 Axes>"
      ]
     },
     "metadata": {},
     "output_type": "display_data"
    }
   ],
   "source": [
    "# status counts\n",
    "keys, counts = np.unique([vac_status[x][0] for x in vac_status.keys()], return_counts=True)\n",
    "\n",
    "plt.bar(keys, counts)\n",
    "plt.xticks(rotation = 45)\n",
    "plt.show()"
   ]
  },
  {
   "cell_type": "code",
   "execution_count": 153,
   "id": "3ba28cc7",
   "metadata": {},
   "outputs": [
    {
     "data": {
      "image/png": "[encoded data removed]",
      "text/plain": [
       "<Figure size 842.4x595.44 with 1 Axes>"
      ]
     },
     "metadata": {},
     "output_type": "display_data"
    }
   ],
   "source": [
    "df = pd.DataFrame({'Status': [vac_status[x][0] for x in vac_status.keys()],\n",
    "                   'Breakthrough': [vac_status[x][1] for x in vac_status.keys()]},\n",
    "                 index = list(vac_status.keys()))\n",
    "\n",
    "df['Status'] = pd.Categorical(df['Status'], ['IIV/NV', 'IVBI', 'IVI[B]', 'VBII', 'VIBI', 'VII[B]'])\n",
    "\n",
    "sns.histplot(\n",
    "    data=df,\n",
    "    x=\"Status\", hue=\"Breakthrough\",\n",
    "    multiple=\"fill\", stat=\"proportion\",\n",
    "    discrete=True, shrink=.8, hue_order=['BT', 'PBT', '-']\n",
    ");"
   ]
  },
  {
   "cell_type": "code",
   "execution_count": 154,
   "id": "a06cc437",
   "metadata": {},
   "outputs": [],
   "source": [
    "# Using the 1235 selected patients\n",
    "# FC1\n",
    "vac_status = {}\n",
    "unclassified = []\n",
    "error  = [] # \n",
    "for ID in list(FC1.keys()):\n",
    "    if len(dates_dict[ID][0]) > 0:\n",
    "        try:\n",
    "            vac_status[ID] = vacc_classif2(ID)\n",
    "        except UnboundLocalError:\n",
    "            error.append(ID)\n",
    "    else:\n",
    "        unclassified.append(ID)"
   ]
  },
  {
   "cell_type": "code",
   "execution_count": 155,
   "id": "2fe6f9f9",
   "metadata": {},
   "outputs": [
    {
     "data": {
      "image/png": "[encoded data removed]",
      "text/plain": [
       "<Figure size 842.4x595.44 with 1 Axes>"
      ]
     },
     "metadata": {},
     "output_type": "display_data"
    }
   ],
   "source": [
    "keys, counts = np.unique([vac_status[x][0] for x in vac_status.keys()], return_counts=True)\n",
    "\n",
    "plt.bar(keys, counts)\n",
    "plt.xticks(rotation = 45)\n",
    "plt.show()"
   ]
  },
  {
   "cell_type": "code",
   "execution_count": 158,
   "id": "158c32a7",
   "metadata": {},
   "outputs": [
    {
     "name": "stdout",
     "output_type": "stream",
     "text": [
      "1235\n"
     ]
    },
    {
     "data": {
      "image/png": "[encoded data removed]",
      "text/plain": [
       "<Figure size 842.4x595.44 with 1 Axes>"
      ]
     },
     "metadata": {},
     "output_type": "display_data"
    }
   ],
   "source": [
    "df = pd.DataFrame({'Status': [vac_status[x][0] for x in vac_status.keys()],\n",
    "                   'Breakthrough': [vac_status[x][1] for x in vac_status.keys()]},\n",
    "                 index = list(vac_status.keys()))\n",
    "\n",
    "df['Status'] = pd.Categorical(df['Status'], ['IIV/NV', 'IVBI', 'IVI[B]', 'VBII', 'VIBI', 'VII[B]'])\n",
    "\n",
    "\n",
    "sns.histplot(\n",
    "    data=df,\n",
    "    x=\"Status\", hue=\"Breakthrough\",\n",
    "    multiple=\"fill\", stat=\"proportion\",\n",
    "    discrete=True, shrink=.8, hue_order=['BT', 'PBT', '-'],\n",
    ");"
   ]
  }
 ],
 "metadata": {
  "kernelspec": {
   "display_name": "Python 3 (ipykernel)",
   "language": "python",
   "name": "python3"
  },
  "language_info": {
   "codemirror_mode": {
    "name": "ipython",
    "version": 3
   },
   "file_extension": ".py",
   "mimetype": "text/x-python",
   "name": "python",
   "nbconvert_exporter": "python",
   "pygments_lexer": "ipython3",
   "version": "3.9.10"
  }
 },
 "nbformat": 4,
 "nbformat_minor": 5
}
