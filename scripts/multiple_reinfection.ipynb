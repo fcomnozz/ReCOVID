{
 "cells": [
  {
   "cell_type": "code",
   "execution_count": 42,
   "id": "4285da4d",
   "metadata": {},
   "outputs": [],
   "source": [
    "import pandas as pd\n",
    "pd.options.mode.chained_assignment = None  # default='warn'\n",
    "import numpy as np\n",
    "from datetime import datetime\n",
    "from datetime import timedelta\n",
    "import re\n",
    "import random\n",
    "import math"
   ]
  },
  {
   "cell_type": "code",
   "execution_count": 2,
   "id": "87f495e8",
   "metadata": {},
   "outputs": [],
   "source": [
    "# loading data\n",
    "codes = pd.read_csv('../results/patients_w_codes.csv')"
   ]
  },
  {
   "cell_type": "code",
   "execution_count": 3,
   "id": "2cdfabc4",
   "metadata": {},
   "outputs": [],
   "source": [
    "# version with dates into strings\n",
    "codes2 = pd.read_csv('../results/patients_w_codes2.csv')"
   ]
  },
  {
   "cell_type": "code",
   "execution_count": 4,
   "id": "2d0de38a",
   "metadata": {},
   "outputs": [],
   "source": [
    "# to use a dict with the dates in the strings\n",
    "def separate_date(df):\n",
    "    df['first_event_date'] = 'NA'\n",
    "    for i in range(len(df)):\n",
    "        x = re.split(']', df['code'][i].replace('[', ''))\n",
    "        df['first_event_date'][i] = x[0]\n",
    "        df['code'][i] = x[1]\n",
    "    return df"
   ]
  },
  {
   "cell_type": "code",
   "execution_count": 5,
   "id": "4618bbf6",
   "metadata": {},
   "outputs": [
    {
     "data": {
      "text/html": [
       "<div>\n",
       "<style scoped>\n",
       "    .dataframe tbody tr th:only-of-type {\n",
       "        vertical-align: middle;\n",
       "    }\n",
       "\n",
       "    .dataframe tbody tr th {\n",
       "        vertical-align: top;\n",
       "    }\n",
       "\n",
       "    .dataframe thead th {\n",
       "        text-align: right;\n",
       "    }\n",
       "</style>\n",
       "<table border=\"1\" class=\"dataframe\">\n",
       "  <thead>\n",
       "    <tr style=\"text-align: right;\">\n",
       "      <th></th>\n",
       "      <th>id</th>\n",
       "      <th>code</th>\n",
       "      <th>first_event_date</th>\n",
       "    </tr>\n",
       "  </thead>\n",
       "  <tbody>\n",
       "    <tr>\n",
       "      <th>0</th>\n",
       "      <td>005cad4958846409</td>\n",
       "      <td>B42A40A2H1F10A15B21B7B12I24I7F6B28B128A4D77B64...</td>\n",
       "      <td>2020-08-14</td>\n",
       "    </tr>\n",
       "    <tr>\n",
       "      <th>1</th>\n",
       "      <td>0065b57e5a9e784f</td>\n",
       "      <td>A37B234F4B4B8B2F2B2F3B4F0G3B2I8G17I215I82B9B23A</td>\n",
       "      <td>2020-03-26</td>\n",
       "    </tr>\n",
       "    <tr>\n",
       "      <th>2</th>\n",
       "      <td>006e5a1bf72e8b73</td>\n",
       "      <td>B56B7B35B11B3B11B10B13B14B8A178I21I123B6B5B6B5...</td>\n",
       "      <td>2020-06-02</td>\n",
       "    </tr>\n",
       "    <tr>\n",
       "      <th>3</th>\n",
       "      <td>009d11a2497f1d47</td>\n",
       "      <td>A334C142J</td>\n",
       "      <td>2020-10-14</td>\n",
       "    </tr>\n",
       "    <tr>\n",
       "      <th>4</th>\n",
       "      <td>00a5cf0620b6adfc</td>\n",
       "      <td>A201J213A</td>\n",
       "      <td>2020-10-26</td>\n",
       "    </tr>\n",
       "    <tr>\n",
       "      <th>...</th>\n",
       "      <td>...</td>\n",
       "      <td>...</td>\n",
       "      <td>...</td>\n",
       "    </tr>\n",
       "    <tr>\n",
       "      <th>3298</th>\n",
       "      <td>ff32e199c9482c20</td>\n",
       "      <td>B196B12B21B6F1B7B1I6B6A15B7B7I70B14B78B7B7B8B5...</td>\n",
       "      <td>2020-05-07</td>\n",
       "    </tr>\n",
       "    <tr>\n",
       "      <th>3299</th>\n",
       "      <td>ff46357762ea097e</td>\n",
       "      <td>B92B99B12B9B6B4B32F6I4B18I232C4A14B17I79D36B3B...</td>\n",
       "      <td>2020-04-20</td>\n",
       "    </tr>\n",
       "    <tr>\n",
       "      <th>3300</th>\n",
       "      <td>ff9318bd975b7050</td>\n",
       "      <td>A16A64B74B14A197I</td>\n",
       "      <td>2020-08-10</td>\n",
       "    </tr>\n",
       "    <tr>\n",
       "      <th>3301</th>\n",
       "      <td>ffabda76a8fbaecd</td>\n",
       "      <td>B24B182A12B13B7B6F1B0I7B1B5B7F1I56B15F218B4F10...</td>\n",
       "      <td>2020-05-05</td>\n",
       "    </tr>\n",
       "    <tr>\n",
       "      <th>3302</th>\n",
       "      <td>ffc2d5ab7d2ad39e</td>\n",
       "      <td>B93A2U271D127I</td>\n",
       "      <td>2020-07-16</td>\n",
       "    </tr>\n",
       "  </tbody>\n",
       "</table>\n",
       "<p>3303 rows × 3 columns</p>\n",
       "</div>"
      ],
      "text/plain": [
       "                    id                                               code  \\\n",
       "0     005cad4958846409  B42A40A2H1F10A15B21B7B12I24I7F6B28B128A4D77B64...   \n",
       "1     0065b57e5a9e784f    A37B234F4B4B8B2F2B2F3B4F0G3B2I8G17I215I82B9B23A   \n",
       "2     006e5a1bf72e8b73  B56B7B35B11B3B11B10B13B14B8A178I21I123B6B5B6B5...   \n",
       "3     009d11a2497f1d47                                          A334C142J   \n",
       "4     00a5cf0620b6adfc                                          A201J213A   \n",
       "...                ...                                                ...   \n",
       "3298  ff32e199c9482c20  B196B12B21B6F1B7B1I6B6A15B7B7I70B14B78B7B7B8B5...   \n",
       "3299  ff46357762ea097e  B92B99B12B9B6B4B32F6I4B18I232C4A14B17I79D36B3B...   \n",
       "3300  ff9318bd975b7050                                  A16A64B74B14A197I   \n",
       "3301  ffabda76a8fbaecd  B24B182A12B13B7B6F1B0I7B1B5B7F1I56B15F218B4F10...   \n",
       "3302  ffc2d5ab7d2ad39e                                     B93A2U271D127I   \n",
       "\n",
       "     first_event_date  \n",
       "0          2020-08-14  \n",
       "1          2020-03-26  \n",
       "2          2020-06-02  \n",
       "3          2020-10-14  \n",
       "4          2020-10-26  \n",
       "...               ...  \n",
       "3298       2020-05-07  \n",
       "3299       2020-04-20  \n",
       "3300       2020-08-10  \n",
       "3301       2020-05-05  \n",
       "3302       2020-07-16  \n",
       "\n",
       "[3303 rows x 3 columns]"
      ]
     },
     "execution_count": 5,
     "metadata": {},
     "output_type": "execute_result"
    }
   ],
   "source": [
    "separate_date(codes2)\n",
    "codes2"
   ]
  },
  {
   "cell_type": "code",
   "execution_count": 6,
   "id": "3433a09e",
   "metadata": {},
   "outputs": [],
   "source": [
    "# Function to split strings\n",
    "def split_string(s):\n",
    "    \"\"\"\n",
    "    s is a string code. Returns two lists, with letters (A) and numbers (B).\n",
    "    \"\"\"\n",
    "    S = []\n",
    "    for x in re.split('(\\d+)', s):\n",
    "        try:\n",
    "            S.append(int(x))\n",
    "        except ValueError:\n",
    "            S.append(x)\n",
    "    A, B = S[::2], S[1::2]\n",
    "    return A, B"
   ]
  },
  {
   "cell_type": "code",
   "execution_count": 7,
   "id": "7945d324",
   "metadata": {},
   "outputs": [],
   "source": [
    "def case1(A, B, pos, neg):\n",
    "    \"\"\"\n",
    "    Recognises case 1 reinfections (+|-|+).\n",
    "    Added some lines to detect certain cases 2.\n",
    "    \"\"\"\n",
    "    if A[0] in pos:\n",
    "        i = 0\n",
    "        c = B[i]\n",
    "        # to find case 2 before case 1\n",
    "        #if A[i] in pos and A[i+1] in pos and B[i] >= 90:\n",
    "        #    return 'Case 2', A[i+1:len(A)], B[i+1:len(B)]\n",
    "        if A[i+1] in pos and c >= 90:\n",
    "            return 'Case 2', A[i+1:len(A)], B[i+1:len(B)]\n",
    "        while A[i+1] not in neg:\n",
    "            i += 1\n",
    "            c += B[i]\n",
    "            # to find case 2 before case 1\n",
    "            if A[i+1] in pos and c >= 90:\n",
    "                return 'Case 2', A[i+1:len(A)], B[i+1:len(B)]\n",
    "        # here the first neg is found\n",
    "        i += 1\n",
    "        c += B[i]\n",
    "        while A[i+1] not in pos:\n",
    "            i += 1\n",
    "            c += B[i]\n",
    "        if c >= 90:\n",
    "            return 'Case 1', A[i+1:len(A)], B[i+1:len(B)]\n",
    "        elif c >= 60:\n",
    "            return 'Possible case 1', A[i+1:len(A)], B[i+1:len(B)]\n",
    "        else:\n",
    "            return '', A[i+1:len(A)], B[i+1:len(B)]\n",
    "    else:\n",
    "        i = 0\n",
    "        while A[i] not in pos:\n",
    "            i += 1\n",
    "        c = B[i]\n",
    "        # same as above\n",
    "        if A[i+1] in pos and c >= 90:\n",
    "            return 'Case 2', A[i+1:len(A)], B[i+1:len(B)]\n",
    "        while A[i+1] not in neg:\n",
    "            i += 1\n",
    "            c += B[i]\n",
    "            if A[i+1] in pos and c >= 90:\n",
    "                return 'Case 2', A[i+1:len(A)], B[i+1:len(B)]\n",
    "        i += 1\n",
    "        c += B[i]\n",
    "        while A[i+1] not in pos:\n",
    "            i += 1\n",
    "            c += B[i]\n",
    "        if c >= 90:\n",
    "            return 'Case 1', A[i+1:len(A)], B[i+1:len(B)]\n",
    "        elif c >= 60:\n",
    "            return 'Possible case 1', A[i+1:len(A)], B[i+1:len(B)]\n",
    "        else:\n",
    "            return '', A[i+1:len(A)], B[i+1:len(B)]"
   ]
  },
  {
   "cell_type": "code",
   "execution_count": 8,
   "id": "4827ec50",
   "metadata": {},
   "outputs": [],
   "source": [
    "def case2(A, B, pos):\n",
    "    \"\"\"\n",
    "    Recognises case 2 reinfections (+|+)\n",
    "    \"\"\"\n",
    "    c = 0\n",
    "    if A[0] in pos:\n",
    "        for i in range(len(B)):\n",
    "            if A[i+1] not in pos:\n",
    "                if bool([x for x in A[i+1:len(A)] if(x in pos)]) == False:\n",
    "                    if c >= 60:\n",
    "                        return 'Possible Case 2', A[i:len(A)], B[i:len(B)]\n",
    "                    else:\n",
    "                        return '', A[i:len(A)], B[i:len(B)]\n",
    "                c += B[i]\n",
    "            else:\n",
    "                if c + B[i] >= 90:\n",
    "                    return 'Case 2', A[i+1:len(A)], B[i+1:len(B)]\n",
    "                c = B[i]\n",
    "        if c >= 60:\n",
    "            return 'Possible Case 2', A[i+1:len(A)], B[i+1:len(B)]\n",
    "        else:\n",
    "            return '', A[i+1:len(A)], B[i+1:len(B)]\n",
    "    else:\n",
    "        i = 0\n",
    "        while A[i] not in pos:\n",
    "            i += 1\n",
    "        for j in range(i, len(B)):\n",
    "            if A[j+1] not in pos:\n",
    "                if bool([x for x in A[j+1:len(A)] if(x in pos)]) == False:\n",
    "                    if c >= 60:\n",
    "                        return 'Possible Case 2', A[j:len(A)], B[j:len(B)]\n",
    "                    else:\n",
    "                        return '', A[j:len(A)], B[j:len(B)]\n",
    "                c += B[j]\n",
    "            else:\n",
    "                if c + B[j] >= 90:\n",
    "                    return 'Case 2', A[j+1:len(A)], B[j+1:len(B)]\n",
    "                c = B[j]\n",
    "        if c >= 60:\n",
    "            return 'Possible Case 2', A[j+1:len(A)], B[j+1:len(B)]\n",
    "        else:\n",
    "            return '', A[j+1:len(A)], B[j+1:len(B)]"
   ]
  },
  {
   "cell_type": "code",
   "execution_count": 9,
   "id": "e984fe92",
   "metadata": {},
   "outputs": [],
   "source": [
    "# adding multiple reinfection management\n",
    "def classif(s, pos = ['A', 'C', 'D'], neg = ['B']):\n",
    "    \"\"\"\n",
    "    Takes a string and classifies it into reinfection cases 1 or 2\n",
    "    \"\"\"\n",
    "    A, B = split_string(s)\n",
    "    L = []\n",
    "    while len(A) > 1:\n",
    "        # indices stores a list between the first and last positive in the string\n",
    "        indices = [i for i, x in enumerate(A) if x in pos]\n",
    "        # b will be used to break the loop if there are no positives in the remaining string\n",
    "        b = [x for x in A[1:len(A)] if(x in pos)]\n",
    "        if any(n in A[min(indices):max(indices)] for n in neg):\n",
    "            r, A, B = case1(A, B, pos, neg)\n",
    "            if r != '':\n",
    "                L.append(r)\n",
    "            #print('Case 1', A)\n",
    "        elif bool(b) == False:\n",
    "            break\n",
    "        else:\n",
    "            r, A, B = case2(A, B, pos)\n",
    "            #print('Case 2', A)\n",
    "            if r != '':\n",
    "                L.append(r)\n",
    "    return L"
   ]
  },
  {
   "cell_type": "code",
   "execution_count": 10,
   "id": "efa5db47",
   "metadata": {},
   "outputs": [
    {
     "data": {
      "text/plain": [
       "['Case 1']"
      ]
     },
     "execution_count": 10,
     "metadata": {},
     "output_type": "execute_result"
    }
   ],
   "source": [
    "# option for taking antigen tests into account\n",
    "classif('B26A9B187F40F96F63F77A', pos = ['A', 'C', 'D', 'E'], neg = ['B', 'F'])"
   ]
  },
  {
   "cell_type": "code",
   "execution_count": 12,
   "id": "3b1a757f",
   "metadata": {
    "scrolled": true
   },
   "outputs": [
    {
     "name": "stdout",
     "output_type": "stream",
     "text": [
      "221767b6cbf6e2e6 \n",
      "\n",
      "E1A6A3A25G3B58B62I112B18A1A5A4A48B \n",
      "\n"
     ]
    },
    {
     "data": {
      "text/plain": [
       "['Case 1']"
      ]
     },
     "execution_count": 12,
     "metadata": {},
     "output_type": "execute_result"
    }
   ],
   "source": [
    "# trying random strings\n",
    "r = random.randint(0,3303)\n",
    "print(codes.iloc[r]['id'], '\\n')\n",
    "s = codes.iloc[r]['code']\n",
    "\n",
    "A, B = split_string(s)\n",
    "\n",
    "print(s, '\\n')\n",
    "\n",
    "classif(s)"
   ]
  },
  {
   "cell_type": "code",
   "execution_count": 13,
   "id": "a62326b3",
   "metadata": {},
   "outputs": [],
   "source": [
    "# applying function\n",
    "d = {}\n",
    "for x in codes['id']:\n",
    "    d[str(x)] = classif(codes.loc[codes['id'] == x]['code'].values[0])"
   ]
  },
  {
   "cell_type": "code",
   "execution_count": 200,
   "id": "25f82fc0",
   "metadata": {},
   "outputs": [],
   "source": [
    "import csv\n",
    "\n",
    "with open('../results/dict.csv', 'w') as f:\n",
    "    for key in d.keys():\n",
    "        f.write(\"%s, %s\\n\" % (key, d[key]))"
   ]
  },
  {
   "cell_type": "code",
   "execution_count": 14,
   "id": "2d3bfc91",
   "metadata": {},
   "outputs": [],
   "source": [
    "# writing dictionary with strings and dates\n",
    "D = {}\n",
    "for x in codes2['id']:\n",
    "    D[str(x)] = [codes2.loc[codes2['id'] == x]['first_event_date'].values[0],\n",
    "                codes2.loc[codes2['id'] == x]['code'].values[0],\n",
    "                classif(codes2.loc[codes2['id'] == x]['code'].values[0])]\n"
   ]
  },
  {
   "cell_type": "code",
   "execution_count": 289,
   "id": "dfbc9e58",
   "metadata": {},
   "outputs": [],
   "source": [
    "with open('../results/dict2.csv', 'w') as f:\n",
    "    for key in D.keys():\n",
    "        f.write(\"%s, %s, %s, %s\\n\" % (key, D[key][0], D[key][1], D[key][2]))"
   ]
  },
  {
   "cell_type": "code",
   "execution_count": 15,
   "id": "e305f091",
   "metadata": {
    "scrolled": true
   },
   "outputs": [
    {
     "data": {
      "text/plain": [
       "{\"['Case 1']\": 2109,\n",
       " \"['Case 2']\": 996,\n",
       " \"['Case 2', 'Case 2']\": 5,\n",
       " \"['Case 1', 'Case 1']\": 99,\n",
       " \"['Possible case 1']\": 26,\n",
       " \"['Case 2', 'Case 1']\": 17,\n",
       " '[]': 18,\n",
       " \"['Case 1', 'Possible case 1']\": 5,\n",
       " \"['Possible case 1', 'Case 1']\": 10,\n",
       " \"['Case 1', 'Case 2']\": 2,\n",
       " \"['Possible Case 2']\": 8,\n",
       " \"['Case 1', 'Case 1', 'Possible case 1']\": 2,\n",
       " \"['Case 1', 'Possible case 1', 'Case 1']\": 2,\n",
       " \"['Case 2', 'Possible Case 2']\": 1,\n",
       " \"['Case 1', 'Case 1', 'Case 1']\": 1,\n",
       " \"['Possible case 1', 'Possible case 1']\": 2}"
      ]
     },
     "execution_count": 15,
     "metadata": {},
     "output_type": "execute_result"
    }
   ],
   "source": [
    "N = list(d.values())\n",
    "N = [str(x) for x in N]\n",
    "freq = {}\n",
    "for items in N:\n",
    "    freq[items] = N.count(items)\n",
    "freq"
   ]
  },
  {
   "cell_type": "code",
   "execution_count": 16,
   "id": "56b8584f",
   "metadata": {},
   "outputs": [],
   "source": [
    "# cases 1 \n",
    "C1 = {}\n",
    "for key in D.keys():\n",
    "    if D[key][2] == ['Case 1']:\n",
    "        C1[key] = D[key]"
   ]
  },
  {
   "cell_type": "code",
   "execution_count": 17,
   "id": "78a3f46c",
   "metadata": {},
   "outputs": [],
   "source": [
    "# function for selecting cases 1 with only two positives in their strings\n",
    "def two_pos(S, pos = ['A', 'C', 'D']):\n",
    "    l = []\n",
    "    for p,c in enumerate(S):\n",
    "        if(c in pos):\n",
    "            l.append(p)\n",
    "    if len(l) == 2:\n",
    "        return True"
   ]
  },
  {
   "cell_type": "code",
   "execution_count": 18,
   "id": "cb9de809",
   "metadata": {},
   "outputs": [],
   "source": [
    "FC1 = {}\n",
    "for key in C1.keys():\n",
    "    if two_pos(C1[key][1]):\n",
    "        FC1[key] = C1[key]"
   ]
  },
  {
   "cell_type": "code",
   "execution_count": 19,
   "id": "2e862004",
   "metadata": {
    "scrolled": true
   },
   "outputs": [
    {
     "data": {
      "text/plain": [
       "1235"
      ]
     },
     "execution_count": 19,
     "metadata": {},
     "output_type": "execute_result"
    }
   ],
   "source": [
    "len(FC1)"
   ]
  },
  {
   "cell_type": "code",
   "execution_count": 20,
   "id": "4ec2097e",
   "metadata": {},
   "outputs": [],
   "source": [
    "# Discarding sequenced samples\n",
    "def find_sequenced(s):\n",
    "    if not 'C' in s:\n",
    "        return 'Not sequenced'\n",
    "    l = [x for x in s if(x in ['A', 'C', 'D'])]\n",
    "    if l == ['C', 'C']:\n",
    "        return 'Both sequenced'\n",
    "    if l[0] == 'C':\n",
    "        return 'First PCR sequenced'\n",
    "    if l[1] == 'C':\n",
    "        return 'Second PCR sequenced'"
   ]
  },
  {
   "cell_type": "code",
   "execution_count": 21,
   "id": "c0ae7e37",
   "metadata": {},
   "outputs": [],
   "source": [
    "FC1_seq = {}\n",
    "for k in FC1.keys():\n",
    "    FC1_seq[k] = find_sequenced(FC1[k][1])"
   ]
  },
  {
   "cell_type": "code",
   "execution_count": 22,
   "id": "def77773",
   "metadata": {},
   "outputs": [
    {
     "data": {
      "text/plain": [
       "{'Not sequenced': 989,\n",
       " 'Second PCR sequenced': 206,\n",
       " 'First PCR sequenced': 32,\n",
       " 'Both sequenced': 8}"
      ]
     },
     "execution_count": 22,
     "metadata": {},
     "output_type": "execute_result"
    }
   ],
   "source": [
    "M = list(FC1_seq.values())\n",
    "M = [str(x) for x in M]\n",
    "freq = {}\n",
    "for items in M:\n",
    "    freq[items] = M.count(items)\n",
    "freq"
   ]
  },
  {
   "cell_type": "code",
   "execution_count": 23,
   "id": "2db63f2d",
   "metadata": {},
   "outputs": [],
   "source": [
    "# exploring no reinfections\n",
    "NO = {}\n",
    "for key in D.keys():\n",
    "    if D[key][2] == []:\n",
    "        NO[key] = D[key]"
   ]
  },
  {
   "cell_type": "code",
   "execution_count": 24,
   "id": "5be71cd4",
   "metadata": {},
   "outputs": [
    {
     "data": {
      "text/plain": [
       "{'16b35543f73d7ebb': ['2020-05-02',\n",
       "  'B248I5B16I184N12A2B4A3B1A7Q28I50A6B3B7B1Q45F3B10B16B6B4B6B4B6B4B',\n",
       "  []],\n",
       " '2492d31c709d9e90': ['2021-02-02', 'A15A7A6G132B140F10F53E', []],\n",
       " '26afdd6f52b296db': ['2020-09-11', 'B4A15A13A14A33A3G14A', []],\n",
       " '2f34cf46d4d5858a': ['2020-05-18',\n",
       "  'H154B51B13B14B6H8B15B5A2U8A7A4G23J28G19A56B151B0J21B',\n",
       "  []],\n",
       " '5316c9a74cdda114': ['2021-01-04',\n",
       "  'A10A7A1G27I21I28A239B10J9B8B8B14B41B',\n",
       "  []],\n",
       " '537e4ea8146251d5': ['2020-04-21',\n",
       "  'B155B14B7A69F11I6A16I19B3B3B7B210I88B4B7B3B4B4B6B8B7B',\n",
       "  []],\n",
       " '6acb778fc5a6bfa4': ['2020-09-22',\n",
       "  'B33B6A10A18A24A40A41C26I21I40B93B22I',\n",
       "  []],\n",
       " '8c02190c7d189ea4': ['2020-12-04',\n",
       "  'N1Q0R2Q0S7B1Q1G262F9B5B5B11B16B30B11B3B4B2B2B2B1B1B2B4B3B3B17A13B6B7B8B8B13B2B56T',\n",
       "  []],\n",
       " '902c5ff17c16857b': ['2020-11-16', 'A61A3A20G15C105I21I185J', []],\n",
       " 'a7ced75a81d73d28': ['2021-02-05',\n",
       "  'F185J5E12E0N0R28A11A4A7B3B32A1B2S1B22B1Q23A1A2A',\n",
       "  []],\n",
       " 'c0078581b6171547': ['2021-01-18', 'E28A45I15F5A23I26A170J', []],\n",
       " 'c581972e22a1e830': ['2020-09-14',\n",
       "  'A0N10N0Q8Q21A10G45A93B0G2G10I21I33B167B11I77B',\n",
       "  []],\n",
       " 'c88e2e4342997d4c': ['2020-05-01',\n",
       "  'B12B69B1B89B11B59A15Q36A3A16I23I8A36T',\n",
       "  []],\n",
       " 'dde32cf072385246': ['2020-07-16',\n",
       "  'B50B6A17A8A8A8A12A10A7A57F1C38A44C78B91I49I82J',\n",
       "  []],\n",
       " 'e5ae18a5c73c0407': ['2020-04-30',\n",
       "  'B61B8B3B28B23B71B9B18A12A4F21A31I23I10F1A151B6B3B12T',\n",
       "  []],\n",
       " 'ea36401bb30b9b29': ['2020-09-30', 'A1N18Q45A2Q42A1G81I21I1B192I62B', []],\n",
       " 'eb91a33fd6f86ef3': ['2020-06-19',\n",
       "  'B49B98B14B19B6F0B2F4B3F5B2F1I4B2F5B2F5F0B2F1I1F3B2F5B2F5B14B14B14B14B14B14B38F39B9B7A1B32A1A1A1B7A5B8A1B33F1B4B3B1B6A1B48B7B7B11F7F7F7F7F7F7F',\n",
       "  []],\n",
       " 'f02f4ef9e6dedc8e': ['2021-01-05',\n",
       "  'A0N0R2S1G18Q1B14B15A28A28A71I21I196J',\n",
       "  []]}"
      ]
     },
     "execution_count": 24,
     "metadata": {},
     "output_type": "execute_result"
    }
   ],
   "source": [
    "NO"
   ]
  },
  {
   "cell_type": "code",
   "execution_count": 288,
   "id": "56916be0",
   "metadata": {},
   "outputs": [],
   "source": [
    "# saving dict\n",
    "with open('../results/filtered_dict.csv', 'w') as f:\n",
    "    for key in FC1.keys():\n",
    "        f.write(\"%s, %s, %s\\n\" % (key, FC1[key][0], FC1[key][1]))"
   ]
  },
  {
   "cell_type": "code",
   "execution_count": 25,
   "id": "78b98383",
   "metadata": {},
   "outputs": [],
   "source": [
    "# accounting for antigen tests\n",
    "a = {}\n",
    "for x in codes2['id']:\n",
    "    a[str(x)] = classif(codes2.loc[codes2['id'] == x]['code'].values[0], \n",
    "                        pos = ['A', 'C', 'D', 'E'], neg = ['B', 'F'])"
   ]
  },
  {
   "cell_type": "code",
   "execution_count": 26,
   "id": "b80ac82a",
   "metadata": {},
   "outputs": [
    {
     "data": {
      "text/plain": [
       "{\"['Case 1']\": 2344,\n",
       " \"['Case 2']\": 652,\n",
       " \"['Case 2', 'Case 1']\": 47,\n",
       " \"['Case 2', 'Case 2']\": 6,\n",
       " \"['Case 1', 'Case 1']\": 158,\n",
       " \"['Possible case 1']\": 26,\n",
       " \"['Case 1', 'Case 1', 'Case 1']\": 4,\n",
       " '[]': 13,\n",
       " \"['Case 1', 'Case 2']\": 11,\n",
       " \"['Case 1', 'Possible case 1']\": 11,\n",
       " \"['Possible case 1', 'Case 1']\": 15,\n",
       " \"['Case 1', 'Possible Case 2']\": 2,\n",
       " \"['Case 1', 'Case 1', 'Possible case 1']\": 2,\n",
       " \"['Case 1', 'Possible case 1', 'Case 1']\": 2,\n",
       " \"['Possible Case 2']\": 6,\n",
       " \"['Possible case 1', 'Case 1', 'Case 1']\": 2,\n",
       " \"['Possible case 1', 'Possible case 1']\": 1,\n",
       " \"['Possible case 1', 'Possible case 1', 'Case 1']\": 1}"
      ]
     },
     "execution_count": 26,
     "metadata": {},
     "output_type": "execute_result"
    }
   ],
   "source": [
    "M = list(a.values())\n",
    "M = [str(x) for x in M]\n",
    "freq = {}\n",
    "for items in M:\n",
    "    freq[items] = M.count(items)\n",
    "freq"
   ]
  },
  {
   "cell_type": "code",
   "execution_count": 49,
   "id": "191a75f4",
   "metadata": {},
   "outputs": [],
   "source": [
    "# FUNCTIONS FOR VARIANT ASSIGNMENT\n",
    "\n",
    "# prealpha: start (2020-03-13) --> 2021-02-01\n",
    "# alpha: 2021-02-08 --> 2021-06-21\n",
    "# delta: 2021-06-28 --> 2021-12-13\n",
    "# omicron: 2021-12-20 --> end (2022-05-21)\n",
    "\n",
    "# function to obtain the last event date\n",
    "def last_date(date, string):\n",
    "    L, N = split_string(string)\n",
    "    d = sum(N)\n",
    "    return str(datetime.strptime(date, '%Y-%m-%d').date() + timedelta(days = d))"
   ]
  },
  {
   "cell_type": "code",
   "execution_count": 50,
   "id": "471214fa",
   "metadata": {},
   "outputs": [
    {
     "data": {
      "text/plain": [
       "'2022-03-15'"
      ]
     },
     "execution_count": 50,
     "metadata": {},
     "output_type": "execute_result"
    }
   ],
   "source": [
    "last_date(codes2['first_event_date'][0], codes2['code'][0])"
   ]
  },
  {
   "cell_type": "code",
   "execution_count": 51,
   "id": "0cd15d71",
   "metadata": {
    "scrolled": true
   },
   "outputs": [],
   "source": [
    "ld_list = []\n",
    "for i in range(len(codes2)):\n",
    "    ld_list.append(last_date(codes2['first_event_date'][i], codes2['code'][i]))"
   ]
  },
  {
   "cell_type": "code",
   "execution_count": 52,
   "id": "7f6664c4",
   "metadata": {},
   "outputs": [
    {
     "data": {
      "text/plain": [
       "3303"
      ]
     },
     "execution_count": 52,
     "metadata": {},
     "output_type": "execute_result"
    }
   ],
   "source": [
    "len(ld_list)"
   ]
  },
  {
   "cell_type": "code",
   "execution_count": 53,
   "id": "e62ccc43",
   "metadata": {},
   "outputs": [
    {
     "name": "stdout",
     "output_type": "stream",
     "text": [
      "2020-03-13\n",
      "2022-05-21\n"
     ]
    }
   ],
   "source": [
    "# obtaining first and last date\n",
    "print(min(codes2['first_event_date']))\n",
    "print(max(ld_list))"
   ]
  },
  {
   "cell_type": "code",
   "execution_count": null,
   "id": "d3970a43",
   "metadata": {},
   "outputs": [],
   "source": [
    "# we have to create a function able to extract the date of each infection"
   ]
  }
 ],
 "metadata": {
  "kernelspec": {
   "display_name": "Python 3 (ipykernel)",
   "language": "python",
   "name": "python3"
  },
  "language_info": {
   "codemirror_mode": {
    "name": "ipython",
    "version": 3
   },
   "file_extension": ".py",
   "mimetype": "text/x-python",
   "name": "python",
   "nbconvert_exporter": "python",
   "pygments_lexer": "ipython3",
   "version": "3.9.10"
  }
 },
 "nbformat": 4,
 "nbformat_minor": 5
}
